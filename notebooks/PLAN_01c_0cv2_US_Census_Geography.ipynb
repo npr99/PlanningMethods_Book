{
  "nbformat": 4,
  "nbformat_minor": 0,
  "metadata": {
    "colab": {
      "name": "PLAN604_0av2_US Census Geography",
      "provenance": [],
      "toc_visible": true,
      "authorship_tag": "ABX9TyOQMY92l79Lapq7SlnEbMgN",
      "include_colab_link": true
    },
    "kernelspec": {
      "name": "python3",
      "display_name": "Python 3"
    }
  },
  "cells": [
    {
      "cell_type": "markdown",
      "metadata": {
        "id": "view-in-github",
        "colab_type": "text"
      },
      "source": [
        "<a href=\"https://colab.research.google.com/github/npr99/PlanningMethods/blob/master/PLAN604_0av2_US_Census_Geography.ipynb\" target=\"_parent\"><img src=\"https://colab.research.google.com/assets/colab-badge.svg\" alt=\"Open In Colab\"/></a>"
      ]
    },
    {
      "cell_type": "markdown",
      "metadata": {
        "id": "QbMmz5adRauc"
      },
      "source": [
        "# Understanding US Census Geography\n",
        "\n",
        "This program focuses on obtaining US Census Geography shapefiles.\n"
      ]
    },
    {
      "cell_type": "code",
      "metadata": {
        "id": "MrqwYfRDQ7ZH",
        "outputId": "1b1d7439-2acf-486d-9d8f-ab3f5314e57f",
        "colab": {
          "base_uri": "https://localhost:8080/",
          "height": 401
        }
      },
      "source": [
        "# Install packages not included in Google Colab (-q = option quiet)\n",
        "!pip -q install geopandas\n",
        "\n",
        "# Need to upgrade to folium 0.11.0\n",
        "!pip install --upgrade folium\n",
        "\n",
        "# Import packages\n",
        "import sys # For checking version of python for replication\n",
        "import os   # For saving output to path\n",
        "import pandas as pd # For reading, writing and wrangling data\n",
        "import geopandas as gpd # For creating maps\n",
        "import folium as fm # For creating the final HTML map complete with OSM (Open Street Map) basemap\n",
        "from folium import plugins # Add minimap and search plugin functions to maps\n",
        "\n",
        "from google.colab import files  # Required to automatedownload final files "
      ],
      "execution_count": null,
      "outputs": [
        {
          "output_type": "stream",
          "text": [
            "\u001b[K     |████████████████████████████████| 972kB 2.7MB/s \n",
            "\u001b[K     |████████████████████████████████| 10.9MB 15.6MB/s \n",
            "\u001b[K     |████████████████████████████████| 14.8MB 238kB/s \n",
            "\u001b[?25hCollecting folium\n",
            "\u001b[?25l  Downloading https://files.pythonhosted.org/packages/a4/f0/44e69d50519880287cc41e7c8a6acc58daa9a9acf5f6afc52bcc70f69a6d/folium-0.11.0-py2.py3-none-any.whl (93kB)\n",
            "\u001b[K     |████████████████████████████████| 102kB 2.5MB/s \n",
            "\u001b[?25hRequirement already satisfied, skipping upgrade: requests in /usr/local/lib/python3.6/dist-packages (from folium) (2.23.0)\n",
            "Requirement already satisfied, skipping upgrade: branca>=0.3.0 in /usr/local/lib/python3.6/dist-packages (from folium) (0.4.1)\n",
            "Requirement already satisfied, skipping upgrade: jinja2>=2.9 in /usr/local/lib/python3.6/dist-packages (from folium) (2.11.2)\n",
            "Requirement already satisfied, skipping upgrade: numpy in /usr/local/lib/python3.6/dist-packages (from folium) (1.18.5)\n",
            "Requirement already satisfied, skipping upgrade: chardet<4,>=3.0.2 in /usr/local/lib/python3.6/dist-packages (from requests->folium) (3.0.4)\n",
            "Requirement already satisfied, skipping upgrade: idna<3,>=2.5 in /usr/local/lib/python3.6/dist-packages (from requests->folium) (2.10)\n",
            "Requirement already satisfied, skipping upgrade: certifi>=2017.4.17 in /usr/local/lib/python3.6/dist-packages (from requests->folium) (2020.6.20)\n",
            "Requirement already satisfied, skipping upgrade: urllib3!=1.25.0,!=1.25.1,<1.26,>=1.21.1 in /usr/local/lib/python3.6/dist-packages (from requests->folium) (1.24.3)\n",
            "Requirement already satisfied, skipping upgrade: MarkupSafe>=0.23 in /usr/local/lib/python3.6/dist-packages (from jinja2>=2.9->folium) (1.1.1)\n",
            "\u001b[31mERROR: datascience 0.10.6 has requirement folium==0.2.1, but you'll have folium 0.11.0 which is incompatible.\u001b[0m\n",
            "Installing collected packages: folium\n",
            "  Found existing installation: folium 0.8.3\n",
            "    Uninstalling folium-0.8.3:\n",
            "      Successfully uninstalled folium-0.8.3\n",
            "Successfully installed folium-0.11.0\n"
          ],
          "name": "stdout"
        }
      ]
    },
    {
      "cell_type": "code",
      "metadata": {
        "id": "S1AEFgCUka9l",
        "outputId": "19938c24-4f6d-42e8-d1a2-233c35450c3c",
        "colab": {
          "base_uri": "https://localhost:8080/",
          "height": 104
        }
      },
      "source": [
        "print(\"Python Version     \", sys.version)\n",
        "print(\"pandas version:    \", pd.__version__)\n",
        "print(\"geopandas version: \", gpd.__version__)\n",
        "print(\"folium version:    \", fm.__version__)"
      ],
      "execution_count": null,
      "outputs": [
        {
          "output_type": "stream",
          "text": [
            "Python Version      3.6.9 (default, Jul 17 2020, 12:50:27) \n",
            "[GCC 8.4.0]\n",
            "pandas version:     1.0.5\n",
            "geopandas version:  0.8.1\n",
            "folium version:     0.11.0\n"
          ],
          "name": "stdout"
        }
      ]
    },
    {
      "cell_type": "markdown",
      "metadata": {
        "id": "ANYAsvoFunTb"
      },
      "source": [
        "Using the wget command download the cartographic boundaries files from the US Census website.\n",
        "\n",
        "The cartographic files come in three levels of resolution. The \"smallest\" file size will be the lowest resolution - 20m = 1:20,000,000. For smaller geographies the 5m = 1:5,000,000 resolution and the 500k = 1:500,000 resolutions provide more details."
      ]
    },
    {
      "cell_type": "code",
      "metadata": {
        "id": "RBrXXhcCZT-A"
      },
      "source": [
        "# Program Prepare Geography combines steps needed to prepare files for mapping\n",
        "def prepare_geography(year,state,entity,resolution):\n",
        "  filename = f'cb_{year}_{state}_{entity}_{resolution}'\n",
        "\n",
        "  !wget -q https://www2.census.gov/geo/tiger/GENZ{year}/shp/{filename}.zip\n",
        "\n",
        "  !unzip -o -q {filename}.zip\n",
        "  gdf = gpd.read_file(f'{filename}.shp')\n",
        "  gdf = gdf.to_crs(epsg=4326)\n",
        "  \n",
        "  return gdf"
      ],
      "execution_count": null,
      "outputs": []
    },
    {
      "cell_type": "markdown",
      "metadata": {
        "id": "Wd_aNA6Swkka"
      },
      "source": [
        "## Create a list of the geographies to be prepared\n",
        "The list includes the geographic entity and the resolution."
      ]
    },
    {
      "cell_type": "code",
      "metadata": {
        "id": "Xvb1IdFyi_3p"
      },
      "source": [
        "state = '48'\n",
        "entities = [[state,'tract','500k'],\n",
        "            [state,'place','500k'],\n",
        "            [state,'county_within_ua','500k']]"
      ],
      "execution_count": null,
      "outputs": []
    },
    {
      "cell_type": "code",
      "metadata": {
        "id": "l4RBLgBldbYc",
        "outputId": "ec73c969-a501-4fec-f309-efa7461cedef",
        "colab": {
          "base_uri": "https://localhost:8080/",
          "height": 69
        }
      },
      "source": [
        "geographies = {}\n",
        "for entity in entities:\n",
        "    geographies[entity[1]] = prepare_geography('2019',entity[0],entity[1],entity[2])\n",
        "\n",
        "    # Approximate measure of sq km area based on Equal Area Cylindrical projection (cea)\n",
        "    # https://proj.org/operations/projections/cea.html\n",
        "    geographies[entity[1]]= geographies[entity[1]].to_crs({'proj':'cea'})\n",
        "    geographies[entity[1]][\"areasqkm\"] = geographies[entity[1]]['geometry'].area/ 10**6\n",
        "\n",
        "    # Set geography to EPSG 4326\n",
        "    # EPSG: 4326 uses a coordinate system  (Lat, Lon) on the surface of a sphere\n",
        "    # with the WGS84 datum. Open Street Map and Google Earth use 4326.\n",
        "    geographies[entity[1]]= geographies[entity[1]].to_crs(epsg = 4326)\n",
        "\n",
        "    count = len(geographies[entity[1]])\n",
        "    print('US Census Geographic Entity:',entity[1], '\\t count = ',count,'\\t\\t state = ',entity[0])"
      ],
      "execution_count": null,
      "outputs": [
        {
          "output_type": "stream",
          "text": [
            "US Census Geographic Entity: tract \t count =  5254 \t\t state =  48\n",
            "US Census Geographic Entity: place \t count =  1746 \t\t state =  48\n",
            "US Census Geographic Entity: county_within_ua \t count =  375 \t\t state =  48\n"
          ],
          "name": "stdout"
        }
      ]
    },
    {
      "cell_type": "code",
      "metadata": {
        "id": "57mUp1LDJXXH"
      },
      "source": [
        "def create_column(entity,reference_entity):\n",
        "  column = geographies[entity][[\"areasqkm\"]].describe()\n",
        "  column = column.rename(columns = {\"areasqkm\" : entity})\n",
        "  column.loc[\"Total\"] = geographies[entity][\"areasqkm\"].sum()\n",
        "\n",
        "  column.loc[\"% Total\"] = geographies[entity][\"areasqkm\"].sum() / geographies[reference_entity][\"areasqkm\"].sum() * 100\n",
        "\n",
        "  return column\n",
        "\n",
        "columns = {}\n",
        "for entity in entities:\n",
        "  columns[entity[1]] = create_column(entity[1],'tract')"
      ],
      "execution_count": null,
      "outputs": []
    },
    {
      "cell_type": "code",
      "metadata": {
        "id": "Qdr2EV0HKt3S",
        "outputId": "267d4555-0e02-46c8-a483-38144478c524",
        "colab": {
          "base_uri": "https://localhost:8080/",
          "height": 299
        }
      },
      "source": [
        "table1 = pd.concat([columns['tract'], \n",
        "                    columns['place'], \n",
        "                    columns['county_within_ua']], axis=1)\n",
        "varformat = \"{:,.0f}\"\n",
        "table_title = \"Table 1. Descriptive statistics for approximate area (sq km) for US Census Geographies.\"\n",
        "table1 = table1.style.set_caption(table_title).format(varformat).set_properties(**{'text-align': 'right'})\n",
        "table1"
      ],
      "execution_count": null,
      "outputs": [
        {
          "output_type": "execute_result",
          "data": {
            "text/html": [
              "<style  type=\"text/css\" >\n",
              "    #T_c00e8066_f36a_11ea_8a34_0242ac1c0002row0_col0 {\n",
              "            text-align:  right;\n",
              "        }    #T_c00e8066_f36a_11ea_8a34_0242ac1c0002row0_col1 {\n",
              "            text-align:  right;\n",
              "        }    #T_c00e8066_f36a_11ea_8a34_0242ac1c0002row0_col2 {\n",
              "            text-align:  right;\n",
              "        }    #T_c00e8066_f36a_11ea_8a34_0242ac1c0002row1_col0 {\n",
              "            text-align:  right;\n",
              "        }    #T_c00e8066_f36a_11ea_8a34_0242ac1c0002row1_col1 {\n",
              "            text-align:  right;\n",
              "        }    #T_c00e8066_f36a_11ea_8a34_0242ac1c0002row1_col2 {\n",
              "            text-align:  right;\n",
              "        }    #T_c00e8066_f36a_11ea_8a34_0242ac1c0002row2_col0 {\n",
              "            text-align:  right;\n",
              "        }    #T_c00e8066_f36a_11ea_8a34_0242ac1c0002row2_col1 {\n",
              "            text-align:  right;\n",
              "        }    #T_c00e8066_f36a_11ea_8a34_0242ac1c0002row2_col2 {\n",
              "            text-align:  right;\n",
              "        }    #T_c00e8066_f36a_11ea_8a34_0242ac1c0002row3_col0 {\n",
              "            text-align:  right;\n",
              "        }    #T_c00e8066_f36a_11ea_8a34_0242ac1c0002row3_col1 {\n",
              "            text-align:  right;\n",
              "        }    #T_c00e8066_f36a_11ea_8a34_0242ac1c0002row3_col2 {\n",
              "            text-align:  right;\n",
              "        }    #T_c00e8066_f36a_11ea_8a34_0242ac1c0002row4_col0 {\n",
              "            text-align:  right;\n",
              "        }    #T_c00e8066_f36a_11ea_8a34_0242ac1c0002row4_col1 {\n",
              "            text-align:  right;\n",
              "        }    #T_c00e8066_f36a_11ea_8a34_0242ac1c0002row4_col2 {\n",
              "            text-align:  right;\n",
              "        }    #T_c00e8066_f36a_11ea_8a34_0242ac1c0002row5_col0 {\n",
              "            text-align:  right;\n",
              "        }    #T_c00e8066_f36a_11ea_8a34_0242ac1c0002row5_col1 {\n",
              "            text-align:  right;\n",
              "        }    #T_c00e8066_f36a_11ea_8a34_0242ac1c0002row5_col2 {\n",
              "            text-align:  right;\n",
              "        }    #T_c00e8066_f36a_11ea_8a34_0242ac1c0002row6_col0 {\n",
              "            text-align:  right;\n",
              "        }    #T_c00e8066_f36a_11ea_8a34_0242ac1c0002row6_col1 {\n",
              "            text-align:  right;\n",
              "        }    #T_c00e8066_f36a_11ea_8a34_0242ac1c0002row6_col2 {\n",
              "            text-align:  right;\n",
              "        }    #T_c00e8066_f36a_11ea_8a34_0242ac1c0002row7_col0 {\n",
              "            text-align:  right;\n",
              "        }    #T_c00e8066_f36a_11ea_8a34_0242ac1c0002row7_col1 {\n",
              "            text-align:  right;\n",
              "        }    #T_c00e8066_f36a_11ea_8a34_0242ac1c0002row7_col2 {\n",
              "            text-align:  right;\n",
              "        }    #T_c00e8066_f36a_11ea_8a34_0242ac1c0002row8_col0 {\n",
              "            text-align:  right;\n",
              "        }    #T_c00e8066_f36a_11ea_8a34_0242ac1c0002row8_col1 {\n",
              "            text-align:  right;\n",
              "        }    #T_c00e8066_f36a_11ea_8a34_0242ac1c0002row8_col2 {\n",
              "            text-align:  right;\n",
              "        }    #T_c00e8066_f36a_11ea_8a34_0242ac1c0002row9_col0 {\n",
              "            text-align:  right;\n",
              "        }    #T_c00e8066_f36a_11ea_8a34_0242ac1c0002row9_col1 {\n",
              "            text-align:  right;\n",
              "        }    #T_c00e8066_f36a_11ea_8a34_0242ac1c0002row9_col2 {\n",
              "            text-align:  right;\n",
              "        }</style><table id=\"T_c00e8066_f36a_11ea_8a34_0242ac1c0002\" ><caption>Table 1. Descriptive statistics for approximate area (sq km) for US Census Geographies.</caption><thead>    <tr>        <th class=\"blank level0\" ></th>        <th class=\"col_heading level0 col0\" >tract</th>        <th class=\"col_heading level0 col1\" >place</th>        <th class=\"col_heading level0 col2\" >county_within_ua</th>    </tr></thead><tbody>\n",
              "                <tr>\n",
              "                        <th id=\"T_c00e8066_f36a_11ea_8a34_0242ac1c0002level0_row0\" class=\"row_heading level0 row0\" >count</th>\n",
              "                        <td id=\"T_c00e8066_f36a_11ea_8a34_0242ac1c0002row0_col0\" class=\"data row0 col0\" >5,254</td>\n",
              "                        <td id=\"T_c00e8066_f36a_11ea_8a34_0242ac1c0002row0_col1\" class=\"data row0 col1\" >1,746</td>\n",
              "                        <td id=\"T_c00e8066_f36a_11ea_8a34_0242ac1c0002row0_col2\" class=\"data row0 col2\" >375</td>\n",
              "            </tr>\n",
              "            <tr>\n",
              "                        <th id=\"T_c00e8066_f36a_11ea_8a34_0242ac1c0002level0_row1\" class=\"row_heading level0 row1\" >mean</th>\n",
              "                        <td id=\"T_c00e8066_f36a_11ea_8a34_0242ac1c0002row1_col0\" class=\"data row1 col0\" >131</td>\n",
              "                        <td id=\"T_c00e8066_f36a_11ea_8a34_0242ac1c0002row1_col1\" class=\"data row1 col1\" >20</td>\n",
              "                        <td id=\"T_c00e8066_f36a_11ea_8a34_0242ac1c0002row1_col2\" class=\"data row1 col2\" >61</td>\n",
              "            </tr>\n",
              "            <tr>\n",
              "                        <th id=\"T_c00e8066_f36a_11ea_8a34_0242ac1c0002level0_row2\" class=\"row_heading level0 row2\" >std</th>\n",
              "                        <td id=\"T_c00e8066_f36a_11ea_8a34_0242ac1c0002row2_col0\" class=\"data row2 col0\" >547</td>\n",
              "                        <td id=\"T_c00e8066_f36a_11ea_8a34_0242ac1c0002row2_col1\" class=\"data row2 col1\" >75</td>\n",
              "                        <td id=\"T_c00e8066_f36a_11ea_8a34_0242ac1c0002row2_col2\" class=\"data row2 col2\" >238</td>\n",
              "            </tr>\n",
              "            <tr>\n",
              "                        <th id=\"T_c00e8066_f36a_11ea_8a34_0242ac1c0002level0_row3\" class=\"row_heading level0 row3\" >min</th>\n",
              "                        <td id=\"T_c00e8066_f36a_11ea_8a34_0242ac1c0002row3_col0\" class=\"data row3 col0\" >0</td>\n",
              "                        <td id=\"T_c00e8066_f36a_11ea_8a34_0242ac1c0002row3_col1\" class=\"data row3 col1\" >0</td>\n",
              "                        <td id=\"T_c00e8066_f36a_11ea_8a34_0242ac1c0002row3_col2\" class=\"data row3 col2\" >0</td>\n",
              "            </tr>\n",
              "            <tr>\n",
              "                        <th id=\"T_c00e8066_f36a_11ea_8a34_0242ac1c0002level0_row4\" class=\"row_heading level0 row4\" >25%</th>\n",
              "                        <td id=\"T_c00e8066_f36a_11ea_8a34_0242ac1c0002row4_col0\" class=\"data row4 col0\" >2</td>\n",
              "                        <td id=\"T_c00e8066_f36a_11ea_8a34_0242ac1c0002row4_col1\" class=\"data row4 col1\" >3</td>\n",
              "                        <td id=\"T_c00e8066_f36a_11ea_8a34_0242ac1c0002row4_col2\" class=\"data row4 col2\" >5</td>\n",
              "            </tr>\n",
              "            <tr>\n",
              "                        <th id=\"T_c00e8066_f36a_11ea_8a34_0242ac1c0002level0_row5\" class=\"row_heading level0 row5\" >50%</th>\n",
              "                        <td id=\"T_c00e8066_f36a_11ea_8a34_0242ac1c0002row5_col0\" class=\"data row5 col0\" >5</td>\n",
              "                        <td id=\"T_c00e8066_f36a_11ea_8a34_0242ac1c0002row5_col1\" class=\"data row5 col1\" >6</td>\n",
              "                        <td id=\"T_c00e8066_f36a_11ea_8a34_0242ac1c0002row5_col2\" class=\"data row5 col2\" >10</td>\n",
              "            </tr>\n",
              "            <tr>\n",
              "                        <th id=\"T_c00e8066_f36a_11ea_8a34_0242ac1c0002level0_row6\" class=\"row_heading level0 row6\" >75%</th>\n",
              "                        <td id=\"T_c00e8066_f36a_11ea_8a34_0242ac1c0002row6_col0\" class=\"data row6 col0\" >28</td>\n",
              "                        <td id=\"T_c00e8066_f36a_11ea_8a34_0242ac1c0002row6_col1\" class=\"data row6 col1\" >14</td>\n",
              "                        <td id=\"T_c00e8066_f36a_11ea_8a34_0242ac1c0002row6_col2\" class=\"data row6 col2\" >26</td>\n",
              "            </tr>\n",
              "            <tr>\n",
              "                        <th id=\"T_c00e8066_f36a_11ea_8a34_0242ac1c0002level0_row7\" class=\"row_heading level0 row7\" >max</th>\n",
              "                        <td id=\"T_c00e8066_f36a_11ea_8a34_0242ac1c0002row7_col0\" class=\"data row7 col0\" >16,016</td>\n",
              "                        <td id=\"T_c00e8066_f36a_11ea_8a34_0242ac1c0002row7_col1\" class=\"data row7 col1\" >1,740</td>\n",
              "                        <td id=\"T_c00e8066_f36a_11ea_8a34_0242ac1c0002row7_col2\" class=\"data row7 col2\" >3,217</td>\n",
              "            </tr>\n",
              "            <tr>\n",
              "                        <th id=\"T_c00e8066_f36a_11ea_8a34_0242ac1c0002level0_row8\" class=\"row_heading level0 row8\" >Total</th>\n",
              "                        <td id=\"T_c00e8066_f36a_11ea_8a34_0242ac1c0002row8_col0\" class=\"data row8 col0\" >687,749</td>\n",
              "                        <td id=\"T_c00e8066_f36a_11ea_8a34_0242ac1c0002row8_col1\" class=\"data row8 col1\" >35,734</td>\n",
              "                        <td id=\"T_c00e8066_f36a_11ea_8a34_0242ac1c0002row8_col2\" class=\"data row8 col2\" >22,975</td>\n",
              "            </tr>\n",
              "            <tr>\n",
              "                        <th id=\"T_c00e8066_f36a_11ea_8a34_0242ac1c0002level0_row9\" class=\"row_heading level0 row9\" >% Total</th>\n",
              "                        <td id=\"T_c00e8066_f36a_11ea_8a34_0242ac1c0002row9_col0\" class=\"data row9 col0\" >100</td>\n",
              "                        <td id=\"T_c00e8066_f36a_11ea_8a34_0242ac1c0002row9_col1\" class=\"data row9 col1\" >5</td>\n",
              "                        <td id=\"T_c00e8066_f36a_11ea_8a34_0242ac1c0002row9_col2\" class=\"data row9 col2\" >3</td>\n",
              "            </tr>\n",
              "    </tbody></table>"
            ],
            "text/plain": [
              "<pandas.io.formats.style.Styler at 0x7fd431010d30>"
            ]
          },
          "metadata": {
            "tags": []
          },
          "execution_count": 7
        }
      ]
    },
    {
      "cell_type": "code",
      "metadata": {
        "id": "T6cc0eA63fbQ"
      },
      "source": [
        "# Create a guide for the map styles for each entity\n",
        "# Colors from Color Brewer\n",
        "# https://colorbrewer2.org/#type=sequential&scheme=BuGn&n=5\n",
        "\n",
        "maplayers = [['place','tract']]\n",
        "\n",
        "# Make directory to save output\n",
        "if not os.path.exists('output_maplayers'):\n",
        "    os.mkdir('output_maplayers')"
      ],
      "execution_count": null,
      "outputs": []
    },
    {
      "cell_type": "code",
      "metadata": {
        "id": "MID1s8CrxX_J",
        "outputId": "0486dc38-9c5c-4184-f2e0-187012783bc2",
        "colab": {
          "base_uri": "https://localhost:8080/",
          "height": 69
        }
      },
      "source": [
        "style_function1 = lambda x: {\n",
        "            'fillColor': 'transparent',\n",
        "            'color': 'red',\n",
        "            'weight': 4,\n",
        "            'fillOpacity': 0\n",
        "        }\n",
        "style_function2 = lambda x: {\n",
        "            'fillColor': 'green',\n",
        "            'color': 'black',\n",
        "            'weight': 1,\n",
        "            'fillOpacity': 0.25\n",
        "        }\n",
        "\n",
        "highlight_function1 = lambda x: {'fillOpacity': 0.5}\n",
        "\n",
        "maps = {}\n",
        "for layer in maplayers:\n",
        "    entity1 = layer[0]\n",
        "    entity2 = layer[1]\n",
        "    mapname = entity1+entity2\n",
        "    print(mapname)\n",
        "\n",
        "    # What location should the map be centered on?\n",
        "    center_x = (geographies[entity2].bounds.minx.mean() + geographies[entity2].bounds.maxx.mean())/2\n",
        "    center_y = (geographies[entity2].bounds.miny.mean() + geographies[entity2].bounds.maxy.mean())/2\n",
        "    print(f'The center of the {entity2} data file is located at {center_x} {center_y}')\n",
        "\n",
        "    maps[mapname] = fm.Map(location=[center_y, center_x], \n",
        "        max_bounds = True,\n",
        "        control_scale=True,\n",
        "        prefer_canvas=True)\n",
        "\n",
        "    baselayer = fm.GeoJson(\n",
        "            geographies[entity1].to_json(),\n",
        "            name= entity1,\n",
        "            style_function= style_function1,\n",
        "            tooltip=fm.features.GeoJsonTooltip(fields=['NAME','AFFGEOID','GEOID'], \n",
        "                                               sticky=True,\n",
        "                                               )                \n",
        "        ).add_to(maps[mapname])\n",
        "\n",
        "    searchlayer = fm.GeoJson( \n",
        "            geographies[entity2].to_json(),\n",
        "            name= entity2,\n",
        "            style_function=style_function2,\n",
        "            highlight_function=highlight_function1,\n",
        "            tooltip=fm.features.GeoJsonTooltip(fields=['AFFGEOID','GEOID'], sticky=False) ,\n",
        "            popup= fm.GeoJsonPopup(\n",
        "                fields=['GEOID']\n",
        "            )\n",
        "        ).add_to(maps[mapname] )\n",
        "\n",
        "    fm.LayerControl(collapsed=False, autoZIndex=False).add_to(maps[mapname])\n",
        "\n",
        "    # Add minimap\n",
        "    plugins.MiniMap().add_to(maps[mapname])\n",
        "\n",
        "    # Add search function\n",
        "    plugins.Search(searchlayer,position='topleft',\n",
        "                           search_zoom=15,\n",
        "                           search_label='GEOID',\n",
        "                           geom_type='Polygon').add_to(maps[mapname])\n",
        "\n",
        "    # How should the map be bound - look for the southwest and northeast corners of the data\n",
        "    sw_corner = [geographies[entity2].bounds.miny.min(),geographies[entity2].bounds.minx.min()]\n",
        "    ne_corner = [geographies[entity2].bounds.maxy.max(),geographies[entity2].bounds.maxx.max()]\n",
        "    print(f'The {entity2} data file is bounded by at {sw_corner} {ne_corner}')\n",
        "    maps[mapname].fit_bounds([sw_corner, ne_corner])\n",
        "\n",
        "    maps[mapname].save(f'output_maplayers/{mapname}.html')\n",
        "    #files.download(f'output_maplayers/{mapname}.html')"
      ],
      "execution_count": null,
      "outputs": [
        {
          "output_type": "stream",
          "text": [
            "placetract\n",
            "The center of the tract data file is located at -97.4714547089282 31.010524233089118\n",
            "The tract data file is bounded by at [25.83737698658744, -106.645646] [36.50070399140901, -93.508292]\n"
          ],
          "name": "stdout"
        }
      ]
    },
    {
      "cell_type": "code",
      "metadata": {
        "id": "WTqEQulrxfMk",
        "outputId": "be28d948-632e-4038-e417-1144b83c9f29",
        "colab": {
          "base_uri": "https://localhost:8080/",
          "height": 531
        }
      },
      "source": [
        "display(maps['placetract'])"
      ],
      "execution_count": null,
      "outputs": []
    },
    {
      "cell_type": "code",
      "metadata": {
        "id": "riABJyBxPNNf",
        "outputId": "8f3a7b26-a251-4f2d-9d4a-89d21f172888",
        "colab": {
          "base_uri": "https://localhost:8080/",
          "height": 534
        }
      },
      "source": [
        "geographies['place'].head()"
      ],
      "execution_count": null,
      "outputs": [
        {
          "output_type": "execute_result",
          "data": {
            "text/html": [
              "<div>\n",
              "<style scoped>\n",
              "    .dataframe tbody tr th:only-of-type {\n",
              "        vertical-align: middle;\n",
              "    }\n",
              "\n",
              "    .dataframe tbody tr th {\n",
              "        vertical-align: top;\n",
              "    }\n",
              "\n",
              "    .dataframe thead th {\n",
              "        text-align: right;\n",
              "    }\n",
              "</style>\n",
              "<table border=\"1\" class=\"dataframe\">\n",
              "  <thead>\n",
              "    <tr style=\"text-align: right;\">\n",
              "      <th></th>\n",
              "      <th>STATEFP</th>\n",
              "      <th>PLACEFP</th>\n",
              "      <th>PLACENS</th>\n",
              "      <th>AFFGEOID</th>\n",
              "      <th>GEOID</th>\n",
              "      <th>NAME</th>\n",
              "      <th>LSAD</th>\n",
              "      <th>ALAND</th>\n",
              "      <th>AWATER</th>\n",
              "      <th>geometry</th>\n",
              "      <th>areasqkm</th>\n",
              "    </tr>\n",
              "  </thead>\n",
              "  <tbody>\n",
              "    <tr>\n",
              "      <th>0</th>\n",
              "      <td>48</td>\n",
              "      <td>41464</td>\n",
              "      <td>02411626</td>\n",
              "      <td>1600000US4841464</td>\n",
              "      <td>4841464</td>\n",
              "      <td>Laredo</td>\n",
              "      <td>25</td>\n",
              "      <td>273872753</td>\n",
              "      <td>3805095</td>\n",
              "      <td>POLYGON ((-99.74828 27.74440, -99.74624 27.742...</td>\n",
              "      <td>277.655947</td>\n",
              "    </tr>\n",
              "    <tr>\n",
              "      <th>1</th>\n",
              "      <td>48</td>\n",
              "      <td>45744</td>\n",
              "      <td>02411064</td>\n",
              "      <td>1600000US4845744</td>\n",
              "      <td>4845744</td>\n",
              "      <td>McKinney</td>\n",
              "      <td>25</td>\n",
              "      <td>173372597</td>\n",
              "      <td>1916548</td>\n",
              "      <td>MULTIPOLYGON (((-96.58829 33.22624, -96.58270 ...</td>\n",
              "      <td>175.541192</td>\n",
              "    </tr>\n",
              "    <tr>\n",
              "      <th>2</th>\n",
              "      <td>48</td>\n",
              "      <td>48072</td>\n",
              "      <td>02411096</td>\n",
              "      <td>1600000US4848072</td>\n",
              "      <td>4848072</td>\n",
              "      <td>Midland</td>\n",
              "      <td>25</td>\n",
              "      <td>192650681</td>\n",
              "      <td>441855</td>\n",
              "      <td>POLYGON ((-102.26976 31.97002, -102.25282 31.9...</td>\n",
              "      <td>193.072310</td>\n",
              "    </tr>\n",
              "    <tr>\n",
              "      <th>3</th>\n",
              "      <td>48</td>\n",
              "      <td>53388</td>\n",
              "      <td>02411303</td>\n",
              "      <td>1600000US4853388</td>\n",
              "      <td>4853388</td>\n",
              "      <td>Odessa</td>\n",
              "      <td>25</td>\n",
              "      <td>117128032</td>\n",
              "      <td>667150</td>\n",
              "      <td>POLYGON ((-102.44136 31.83506, -102.43407 31.8...</td>\n",
              "      <td>117.842137</td>\n",
              "    </tr>\n",
              "    <tr>\n",
              "      <th>4</th>\n",
              "      <td>48</td>\n",
              "      <td>61196</td>\n",
              "      <td>02411530</td>\n",
              "      <td>1600000US4861196</td>\n",
              "      <td>4861196</td>\n",
              "      <td>Red Oak</td>\n",
              "      <td>25</td>\n",
              "      <td>40280234</td>\n",
              "      <td>13667</td>\n",
              "      <td>MULTIPOLYGON (((-96.72648 32.47851, -96.72432 ...</td>\n",
              "      <td>40.296520</td>\n",
              "    </tr>\n",
              "  </tbody>\n",
              "</table>\n",
              "</div>"
            ],
            "text/plain": [
              "  STATEFP  ...    areasqkm\n",
              "0      48  ...  277.655947\n",
              "1      48  ...  175.541192\n",
              "2      48  ...  193.072310\n",
              "3      48  ...  117.842137\n",
              "4      48  ...   40.296520\n",
              "\n",
              "[5 rows x 11 columns]"
            ]
          },
          "metadata": {
            "tags": []
          },
          "execution_count": 11
        }
      ]
    }
  ]
}