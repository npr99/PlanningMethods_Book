{
  "nbformat": 4,
  "nbformat_minor": 0,
  "metadata": {
    "colab": {
      "name": "PLAN604 ACS Confidence Intervals",
      "provenance": [],
      "authorship_tag": "ABX9TyPmmo3KNj3Jh3b8e9g/QA2f",
      "include_colab_link": true
    },
    "kernelspec": {
      "name": "python3",
      "display_name": "Python 3"
    }
  },
  "cells": [
    {
      "cell_type": "markdown",
      "metadata": {
        "id": "view-in-github",
        "colab_type": "text"
      },
      "source": [
        "<a href=\"https://colab.research.google.com/github/npr99/PlanningMethods/blob/master/PLAN604_ACS_Confidence_Intervals.ipynb\" target=\"_parent\"><img src=\"https://colab.research.google.com/assets/colab-badge.svg\" alt=\"Open In Colab\"/></a>"
      ]
    },
    {
      "cell_type": "markdown",
      "metadata": {
        "id": "Pu41CCyOh6et"
      },
      "source": [
        "# Application of Confidence Intervals\n",
        "\n",
        "This Google Colab notebook shows how to use American Community Survey (ACS) sample data to estimate a population parameter. This notebook shows how to construct confidence intervals for population proportions by taking the ACS point estimate and adding and subtracting the margin of error (MOE). With ACS data we can demonstrate that the MOE depends on the sample size.\n",
        "\n",
        "Possible source to help illustrate point: https://towardsdatascience.com/illustration-with-python-confidence-interval-ee4736cc3dc2"        
      ]
    },
    {
      "cell_type": "markdown",
      "metadata": {
        "id": "QkPtZWCpjUqX"
      },
      "source": [
        "# Step 1: Obtain Data\n",
        "For this example lets look at the proportion of vacant housing units.\n",
        "\n",
        "https://api.census.gov/data/2010/dec/sf1/variables.html\n",
        "https://www.census.gov/data/developers/data-sets/acs-1year.2011.html"
      ]
    },
    {
      "cell_type": "code",
      "metadata": {
        "id": "rMs0Lbg5jUDv"
      },
      "source": [
        "# Python packages required to read in and Census API data\n",
        "import requests ## Required for the Census API\n",
        "import pandas as pd # For reading, writing and wrangling data"
      ],
      "execution_count": null,
      "outputs": []
    },
    {
      "cell_type": "code",
      "metadata": {
        "id": "cQ7u1pMYho2V",
        "outputId": "f3dbfccb-7690-4461-a302-f7fd7ed3df2a",
        "colab": {
          "base_uri": "https://localhost:8080/",
          "height": 79
        }
      },
      "source": [
        "apijson = requests.get('https://api.census.gov/data/2010/dec/sf1',\n",
        "                       params={'get': 'H001001,H003003,GEO_ID',\n",
        "                               'for': 'state:48'})\n",
        "# Convert the requested json into pandas dataframe\n",
        "statedecdf = pd.DataFrame(columns=apijson.json()[0], data=apijson.json()[1:])\n",
        "statedecdf.head()"
      ],
      "execution_count": null,
      "outputs": [
        {
          "output_type": "execute_result",
          "data": {
            "text/html": [
              "<div>\n",
              "<style scoped>\n",
              "    .dataframe tbody tr th:only-of-type {\n",
              "        vertical-align: middle;\n",
              "    }\n",
              "\n",
              "    .dataframe tbody tr th {\n",
              "        vertical-align: top;\n",
              "    }\n",
              "\n",
              "    .dataframe thead th {\n",
              "        text-align: right;\n",
              "    }\n",
              "</style>\n",
              "<table border=\"1\" class=\"dataframe\">\n",
              "  <thead>\n",
              "    <tr style=\"text-align: right;\">\n",
              "      <th></th>\n",
              "      <th>H001001</th>\n",
              "      <th>H003003</th>\n",
              "      <th>GEO_ID</th>\n",
              "      <th>state</th>\n",
              "    </tr>\n",
              "  </thead>\n",
              "  <tbody>\n",
              "    <tr>\n",
              "      <th>0</th>\n",
              "      <td>9977436</td>\n",
              "      <td>1054503</td>\n",
              "      <td>0400000US48</td>\n",
              "      <td>48</td>\n",
              "    </tr>\n",
              "  </tbody>\n",
              "</table>\n",
              "</div>"
            ],
            "text/plain": [
              "   H001001  H003003       GEO_ID state\n",
              "0  9977436  1054503  0400000US48    48"
            ]
          },
          "metadata": {
            "tags": []
          },
          "execution_count": 2
        }
      ]
    },
    {
      "cell_type": "markdown",
      "metadata": {
        "id": "kdoJK2cCnJNd"
      },
      "source": [
        "https://data.census.gov/cedsci/table?q=B25002&tid=ACSDT1Y2019.B25002\n",
        "\n",
        "https://data.census.gov/cedsci/table?q=B25002&g=0400000US48&tid=ACSDT1Y2011.B25002"
      ]
    },
    {
      "cell_type": "code",
      "metadata": {
        "id": "jmRyR1MWqR86",
        "outputId": "ffcf4dfd-b980-4e94-ab39-8df475b00270",
        "colab": {
          "base_uri": "https://localhost:8080/",
          "height": 104
        }
      },
      "source": [
        "# example of a loop in python\n",
        "years = ['2008','2009','2010','2011','2012']\n",
        "for year in years:\n",
        "  print(year)"
      ],
      "execution_count": null,
      "outputs": [
        {
          "output_type": "stream",
          "text": [
            "2008\n",
            "2009\n",
            "2010\n",
            "2011\n",
            "2012\n"
          ],
          "name": "stdout"
        }
      ]
    },
    {
      "cell_type": "code",
      "metadata": {
        "id": "9iU683UJlI_D",
        "outputId": "0e41d0cf-479e-41bb-b026-44aef0bd3ec3",
        "colab": {
          "base_uri": "https://localhost:8080/",
          "height": 79
        }
      },
      "source": [
        "state = '48'\n",
        "years = ['2008','2009','2010','2011','2012','2013','2014','2015','2016','2017','2018']\n",
        "acs_dict = {} # start a dictionary to store dataframes \n",
        "\n",
        "for year in years:\n",
        "  apijson = requests.get('https://api.census.gov/data/'+year+'/acs/acs1',\n",
        "                        params={'get': 'B25002_001E,B25002_001M,B25002_003E,B25002_003M,B00002_001E',\n",
        "                                'for': 'state:'+state})\n",
        "  # Convert the requested json into pandas dataframe\n",
        "  acs_dict[year] = pd.DataFrame(columns=apijson.json()[0], data=apijson.json()[1:])\n",
        "  acs_dict[year]['year'] = year # add year variable to data frame\n",
        "\n",
        "acs_dict['2008'].head()"
      ],
      "execution_count": null,
      "outputs": [
        {
          "output_type": "execute_result",
          "data": {
            "text/html": [
              "<div>\n",
              "<style scoped>\n",
              "    .dataframe tbody tr th:only-of-type {\n",
              "        vertical-align: middle;\n",
              "    }\n",
              "\n",
              "    .dataframe tbody tr th {\n",
              "        vertical-align: top;\n",
              "    }\n",
              "\n",
              "    .dataframe thead th {\n",
              "        text-align: right;\n",
              "    }\n",
              "</style>\n",
              "<table border=\"1\" class=\"dataframe\">\n",
              "  <thead>\n",
              "    <tr style=\"text-align: right;\">\n",
              "      <th></th>\n",
              "      <th>B25002_001E</th>\n",
              "      <th>B25002_001M</th>\n",
              "      <th>B25002_003E</th>\n",
              "      <th>B25002_003M</th>\n",
              "      <th>B00002_001E</th>\n",
              "      <th>state</th>\n",
              "      <th>year</th>\n",
              "    </tr>\n",
              "  </thead>\n",
              "  <tbody>\n",
              "    <tr>\n",
              "      <th>0</th>\n",
              "      <td>9599073</td>\n",
              "      <td>1601</td>\n",
              "      <td>1176824</td>\n",
              "      <td>18868</td>\n",
              "      <td>127639</td>\n",
              "      <td>48</td>\n",
              "      <td>2008</td>\n",
              "    </tr>\n",
              "  </tbody>\n",
              "</table>\n",
              "</div>"
            ],
            "text/plain": [
              "  B25002_001E B25002_001M B25002_003E B25002_003M B00002_001E state  year\n",
              "0     9599073        1601     1176824       18868      127639    48  2008"
            ]
          },
          "metadata": {
            "tags": []
          },
          "execution_count": 6
        }
      ]
    },
    {
      "cell_type": "markdown",
      "metadata": {
        "id": "iy16D_xotFLL"
      },
      "source": [
        "# Step 2: Data cleaning"
      ]
    },
    {
      "cell_type": "code",
      "metadata": {
        "id": "EVVSXJ58nqa8",
        "outputId": "1a7964ad-8a31-4415-b595-2d63b854f3e7",
        "colab": {
          "base_uri": "https://localhost:8080/",
          "height": 386
        }
      },
      "source": [
        "# Concatenate pandas objects into one dataframe\n",
        "state_acs_df = pd.concat(acs_dict)\n",
        "state_acs_df"
      ],
      "execution_count": null,
      "outputs": [
        {
          "output_type": "execute_result",
          "data": {
            "text/html": [
              "<div>\n",
              "<style scoped>\n",
              "    .dataframe tbody tr th:only-of-type {\n",
              "        vertical-align: middle;\n",
              "    }\n",
              "\n",
              "    .dataframe tbody tr th {\n",
              "        vertical-align: top;\n",
              "    }\n",
              "\n",
              "    .dataframe thead th {\n",
              "        text-align: right;\n",
              "    }\n",
              "</style>\n",
              "<table border=\"1\" class=\"dataframe\">\n",
              "  <thead>\n",
              "    <tr style=\"text-align: right;\">\n",
              "      <th></th>\n",
              "      <th></th>\n",
              "      <th>B25002_001E</th>\n",
              "      <th>B25002_001M</th>\n",
              "      <th>B25002_003E</th>\n",
              "      <th>B25002_003M</th>\n",
              "      <th>B00002_001E</th>\n",
              "      <th>state</th>\n",
              "      <th>year</th>\n",
              "    </tr>\n",
              "  </thead>\n",
              "  <tbody>\n",
              "    <tr>\n",
              "      <th>2008</th>\n",
              "      <th>0</th>\n",
              "      <td>9599073</td>\n",
              "      <td>1601</td>\n",
              "      <td>1176824</td>\n",
              "      <td>18868</td>\n",
              "      <td>127639</td>\n",
              "      <td>48</td>\n",
              "      <td>2008</td>\n",
              "    </tr>\n",
              "    <tr>\n",
              "      <th>2009</th>\n",
              "      <th>0</th>\n",
              "      <td>9724258</td>\n",
              "      <td>1990</td>\n",
              "      <td>1196320</td>\n",
              "      <td>23931</td>\n",
              "      <td>128120</td>\n",
              "      <td>48</td>\n",
              "      <td>2009</td>\n",
              "    </tr>\n",
              "    <tr>\n",
              "      <th>2010</th>\n",
              "      <th>0</th>\n",
              "      <td>9996209</td>\n",
              "      <td>964</td>\n",
              "      <td>1257545</td>\n",
              "      <td>20394</td>\n",
              "      <td>127757</td>\n",
              "      <td>48</td>\n",
              "      <td>2010</td>\n",
              "    </tr>\n",
              "    <tr>\n",
              "      <th>2011</th>\n",
              "      <th>0</th>\n",
              "      <td>10099242</td>\n",
              "      <td>1506</td>\n",
              "      <td>1248872</td>\n",
              "      <td>21442</td>\n",
              "      <td>130965</td>\n",
              "      <td>48</td>\n",
              "      <td>2011</td>\n",
              "    </tr>\n",
              "    <tr>\n",
              "      <th>2012</th>\n",
              "      <th>0</th>\n",
              "      <td>10154835</td>\n",
              "      <td>788</td>\n",
              "      <td>1183876</td>\n",
              "      <td>21573</td>\n",
              "      <td>150406</td>\n",
              "      <td>48</td>\n",
              "      <td>2012</td>\n",
              "    </tr>\n",
              "    <tr>\n",
              "      <th>2013</th>\n",
              "      <th>0</th>\n",
              "      <td>10256203</td>\n",
              "      <td>658</td>\n",
              "      <td>1145350</td>\n",
              "      <td>20707</td>\n",
              "      <td>140249</td>\n",
              "      <td>48</td>\n",
              "      <td>2013</td>\n",
              "    </tr>\n",
              "    <tr>\n",
              "      <th>2014</th>\n",
              "      <th>0</th>\n",
              "      <td>10426760</td>\n",
              "      <td>740</td>\n",
              "      <td>1149563</td>\n",
              "      <td>22891</td>\n",
              "      <td>146897</td>\n",
              "      <td>48</td>\n",
              "      <td>2014</td>\n",
              "    </tr>\n",
              "    <tr>\n",
              "      <th>2015</th>\n",
              "      <th>0</th>\n",
              "      <td>10588236</td>\n",
              "      <td>791</td>\n",
              "      <td>1166824</td>\n",
              "      <td>20920</td>\n",
              "      <td>146469</td>\n",
              "      <td>48</td>\n",
              "      <td>2015</td>\n",
              "    </tr>\n",
              "    <tr>\n",
              "      <th>2016</th>\n",
              "      <th>0</th>\n",
              "      <td>10754268</td>\n",
              "      <td>644</td>\n",
              "      <td>1218656</td>\n",
              "      <td>20127</td>\n",
              "      <td>141647</td>\n",
              "      <td>48</td>\n",
              "      <td>2016</td>\n",
              "    </tr>\n",
              "    <tr>\n",
              "      <th>2017</th>\n",
              "      <th>0</th>\n",
              "      <td>10933375</td>\n",
              "      <td>871</td>\n",
              "      <td>1309501</td>\n",
              "      <td>22246</td>\n",
              "      <td>136667</td>\n",
              "      <td>48</td>\n",
              "      <td>2017</td>\n",
              "    </tr>\n",
              "    <tr>\n",
              "      <th>2018</th>\n",
              "      <th>0</th>\n",
              "      <td>11101498</td>\n",
              "      <td>754</td>\n",
              "      <td>1325415</td>\n",
              "      <td>21781</td>\n",
              "      <td>137000</td>\n",
              "      <td>48</td>\n",
              "      <td>2018</td>\n",
              "    </tr>\n",
              "  </tbody>\n",
              "</table>\n",
              "</div>"
            ],
            "text/plain": [
              "       B25002_001E B25002_001M B25002_003E B25002_003M B00002_001E state  year\n",
              "2008 0     9599073        1601     1176824       18868      127639    48  2008\n",
              "2009 0     9724258        1990     1196320       23931      128120    48  2009\n",
              "2010 0     9996209         964     1257545       20394      127757    48  2010\n",
              "2011 0    10099242        1506     1248872       21442      130965    48  2011\n",
              "2012 0    10154835         788     1183876       21573      150406    48  2012\n",
              "2013 0    10256203         658     1145350       20707      140249    48  2013\n",
              "2014 0    10426760         740     1149563       22891      146897    48  2014\n",
              "2015 0    10588236         791     1166824       20920      146469    48  2015\n",
              "2016 0    10754268         644     1218656       20127      141647    48  2016\n",
              "2017 0    10933375         871     1309501       22246      136667    48  2017\n",
              "2018 0    11101498         754     1325415       21781      137000    48  2018"
            ]
          },
          "metadata": {
            "tags": []
          },
          "execution_count": 9
        }
      ]
    },
    {
      "cell_type": "code",
      "metadata": {
        "id": "bFoRuykHtImJ",
        "outputId": "360fbb75-ee15-4016-af75-a52addf4bdbd",
        "colab": {
          "base_uri": "https://localhost:8080/",
          "height": 156
        }
      },
      "source": [
        "### 2.1 Set the variable type\n",
        "state_acs_df[\"B25002_001E\"] = state_acs_df[\"B25002_001E\"].astype(int)\n",
        "state_acs_df[\"B25002_001M\"] = state_acs_df[\"B25002_001M\"].astype(int)\n",
        "state_acs_df[\"B25002_003E\"] = state_acs_df[\"B25002_003E\"].astype(int)\n",
        "state_acs_df[\"B25002_003M\"] = state_acs_df[\"B25002_003M\"].astype(int)\n",
        "state_acs_df[\"B00002_001E\"] = state_acs_df[\"B00002_001E\"].astype(int)\n",
        "state_acs_df.dtypes"
      ],
      "execution_count": null,
      "outputs": [
        {
          "output_type": "execute_result",
          "data": {
            "text/plain": [
              "B25002_001E     int64\n",
              "B25002_001M     int64\n",
              "B25002_003E     int64\n",
              "B25002_003M     int64\n",
              "B00002_001E     int64\n",
              "state          object\n",
              "year           object\n",
              "dtype: object"
            ]
          },
          "metadata": {
            "tags": []
          },
          "execution_count": 10
        }
      ]
    },
    {
      "cell_type": "code",
      "metadata": {
        "id": "sBAeihfPsXs4",
        "outputId": "35829af8-c47f-4cc2-94a6-8e07e1fd2c30",
        "colab": {
          "base_uri": "https://localhost:8080/",
          "height": 202
        }
      },
      "source": [
        "# estimate the proportion of housing units that are vacant\n",
        "state_acs_df['B25002_003PE'] = state_acs_df['B25002_003E'] / state_acs_df['B25002_001E'] \n",
        "state_acs_df.head()"
      ],
      "execution_count": null,
      "outputs": [
        {
          "output_type": "execute_result",
          "data": {
            "text/html": [
              "<div>\n",
              "<style scoped>\n",
              "    .dataframe tbody tr th:only-of-type {\n",
              "        vertical-align: middle;\n",
              "    }\n",
              "\n",
              "    .dataframe tbody tr th {\n",
              "        vertical-align: top;\n",
              "    }\n",
              "\n",
              "    .dataframe thead th {\n",
              "        text-align: right;\n",
              "    }\n",
              "</style>\n",
              "<table border=\"1\" class=\"dataframe\">\n",
              "  <thead>\n",
              "    <tr style=\"text-align: right;\">\n",
              "      <th></th>\n",
              "      <th></th>\n",
              "      <th>B25002_001E</th>\n",
              "      <th>B25002_001M</th>\n",
              "      <th>B25002_003E</th>\n",
              "      <th>B25002_003M</th>\n",
              "      <th>B00002_001E</th>\n",
              "      <th>state</th>\n",
              "      <th>year</th>\n",
              "      <th>B25002_003PE</th>\n",
              "    </tr>\n",
              "  </thead>\n",
              "  <tbody>\n",
              "    <tr>\n",
              "      <th>2008</th>\n",
              "      <th>0</th>\n",
              "      <td>9599073</td>\n",
              "      <td>1601</td>\n",
              "      <td>1176824</td>\n",
              "      <td>18868</td>\n",
              "      <td>127639</td>\n",
              "      <td>48</td>\n",
              "      <td>2008</td>\n",
              "      <td>0.122598</td>\n",
              "    </tr>\n",
              "    <tr>\n",
              "      <th>2009</th>\n",
              "      <th>0</th>\n",
              "      <td>9724258</td>\n",
              "      <td>1990</td>\n",
              "      <td>1196320</td>\n",
              "      <td>23931</td>\n",
              "      <td>128120</td>\n",
              "      <td>48</td>\n",
              "      <td>2009</td>\n",
              "      <td>0.123024</td>\n",
              "    </tr>\n",
              "    <tr>\n",
              "      <th>2010</th>\n",
              "      <th>0</th>\n",
              "      <td>9996209</td>\n",
              "      <td>964</td>\n",
              "      <td>1257545</td>\n",
              "      <td>20394</td>\n",
              "      <td>127757</td>\n",
              "      <td>48</td>\n",
              "      <td>2010</td>\n",
              "      <td>0.125802</td>\n",
              "    </tr>\n",
              "    <tr>\n",
              "      <th>2011</th>\n",
              "      <th>0</th>\n",
              "      <td>10099242</td>\n",
              "      <td>1506</td>\n",
              "      <td>1248872</td>\n",
              "      <td>21442</td>\n",
              "      <td>130965</td>\n",
              "      <td>48</td>\n",
              "      <td>2011</td>\n",
              "      <td>0.123660</td>\n",
              "    </tr>\n",
              "    <tr>\n",
              "      <th>2012</th>\n",
              "      <th>0</th>\n",
              "      <td>10154835</td>\n",
              "      <td>788</td>\n",
              "      <td>1183876</td>\n",
              "      <td>21573</td>\n",
              "      <td>150406</td>\n",
              "      <td>48</td>\n",
              "      <td>2012</td>\n",
              "      <td>0.116582</td>\n",
              "    </tr>\n",
              "  </tbody>\n",
              "</table>\n",
              "</div>"
            ],
            "text/plain": [
              "        B25002_001E  B25002_001M  B25002_003E  ...  state  year B25002_003PE\n",
              "2008 0      9599073         1601      1176824  ...     48  2008     0.122598\n",
              "2009 0      9724258         1990      1196320  ...     48  2009     0.123024\n",
              "2010 0      9996209          964      1257545  ...     48  2010     0.125802\n",
              "2011 0     10099242         1506      1248872  ...     48  2011     0.123660\n",
              "2012 0     10154835          788      1183876  ...     48  2012     0.116582\n",
              "\n",
              "[5 rows x 8 columns]"
            ]
          },
          "metadata": {
            "tags": []
          },
          "execution_count": 11
        }
      ]
    },
    {
      "cell_type": "code",
      "metadata": {
        "id": "MHzaN6VDN8Ks",
        "outputId": "b3fcaf52-e5c7-428d-de9c-3ec5d931a650",
        "colab": {
          "base_uri": "https://localhost:8080/",
          "height": 35
        }
      },
      "source": [
        "import numpy as np # math functions like square root\n",
        "MOE_X = 5070\n",
        "MOE_Y = 831\n",
        "Y = 630498\n",
        "proportion = 0.322\n",
        "(100*(1/Y)*(np.sqrt(MOE_X**2 - (proportion**2 * MOE_Y**2))))"
      ],
      "execution_count": null,
      "outputs": [
        {
          "output_type": "execute_result",
          "data": {
            "text/plain": [
              "0.8030055479169118"
            ]
          },
          "metadata": {
            "tags": []
          },
          "execution_count": 12
        }
      ]
    },
    {
      "cell_type": "code",
      "metadata": {
        "id": "ktLeJJaBwe8Q",
        "outputId": "bec6d164-e956-4555-938e-fc2307766737",
        "colab": {
          "base_uri": "https://localhost:8080/",
          "height": 202
        }
      },
      "source": [
        "# estimate the MOE of the proportion of housing units that are vacant\n",
        "import numpy as np # math functions like square root\n",
        "MOE_X = state_acs_df['B25002_003M']\n",
        "MOE_Y = state_acs_df['B25002_001M']\n",
        "Y = state_acs_df['B25002_001E']\n",
        "proportion = state_acs_df['B25002_003PE']\n",
        "state_acs_df['B25002_003PM'] = (1/Y)*(np.sqrt(MOE_X**2 - (proportion**2 * MOE_Y**2)))\n",
        "state_acs_df.head()"
      ],
      "execution_count": null,
      "outputs": [
        {
          "output_type": "execute_result",
          "data": {
            "text/html": [
              "<div>\n",
              "<style scoped>\n",
              "    .dataframe tbody tr th:only-of-type {\n",
              "        vertical-align: middle;\n",
              "    }\n",
              "\n",
              "    .dataframe tbody tr th {\n",
              "        vertical-align: top;\n",
              "    }\n",
              "\n",
              "    .dataframe thead th {\n",
              "        text-align: right;\n",
              "    }\n",
              "</style>\n",
              "<table border=\"1\" class=\"dataframe\">\n",
              "  <thead>\n",
              "    <tr style=\"text-align: right;\">\n",
              "      <th></th>\n",
              "      <th></th>\n",
              "      <th>B25002_001E</th>\n",
              "      <th>B25002_001M</th>\n",
              "      <th>B25002_003E</th>\n",
              "      <th>B25002_003M</th>\n",
              "      <th>B00002_001E</th>\n",
              "      <th>state</th>\n",
              "      <th>year</th>\n",
              "      <th>B25002_003PE</th>\n",
              "      <th>B25002_003PM</th>\n",
              "    </tr>\n",
              "  </thead>\n",
              "  <tbody>\n",
              "    <tr>\n",
              "      <th>2008</th>\n",
              "      <th>0</th>\n",
              "      <td>9599073</td>\n",
              "      <td>1601</td>\n",
              "      <td>1176824</td>\n",
              "      <td>18868</td>\n",
              "      <td>127639</td>\n",
              "      <td>48</td>\n",
              "      <td>2008</td>\n",
              "      <td>0.122598</td>\n",
              "      <td>0.001966</td>\n",
              "    </tr>\n",
              "    <tr>\n",
              "      <th>2009</th>\n",
              "      <th>0</th>\n",
              "      <td>9724258</td>\n",
              "      <td>1990</td>\n",
              "      <td>1196320</td>\n",
              "      <td>23931</td>\n",
              "      <td>128120</td>\n",
              "      <td>48</td>\n",
              "      <td>2009</td>\n",
              "      <td>0.123024</td>\n",
              "      <td>0.002461</td>\n",
              "    </tr>\n",
              "    <tr>\n",
              "      <th>2010</th>\n",
              "      <th>0</th>\n",
              "      <td>9996209</td>\n",
              "      <td>964</td>\n",
              "      <td>1257545</td>\n",
              "      <td>20394</td>\n",
              "      <td>127757</td>\n",
              "      <td>48</td>\n",
              "      <td>2010</td>\n",
              "      <td>0.125802</td>\n",
              "      <td>0.002040</td>\n",
              "    </tr>\n",
              "    <tr>\n",
              "      <th>2011</th>\n",
              "      <th>0</th>\n",
              "      <td>10099242</td>\n",
              "      <td>1506</td>\n",
              "      <td>1248872</td>\n",
              "      <td>21442</td>\n",
              "      <td>130965</td>\n",
              "      <td>48</td>\n",
              "      <td>2011</td>\n",
              "      <td>0.123660</td>\n",
              "      <td>0.002123</td>\n",
              "    </tr>\n",
              "    <tr>\n",
              "      <th>2012</th>\n",
              "      <th>0</th>\n",
              "      <td>10154835</td>\n",
              "      <td>788</td>\n",
              "      <td>1183876</td>\n",
              "      <td>21573</td>\n",
              "      <td>150406</td>\n",
              "      <td>48</td>\n",
              "      <td>2012</td>\n",
              "      <td>0.116582</td>\n",
              "      <td>0.002124</td>\n",
              "    </tr>\n",
              "  </tbody>\n",
              "</table>\n",
              "</div>"
            ],
            "text/plain": [
              "        B25002_001E  B25002_001M  B25002_003E  ...  year  B25002_003PE B25002_003PM\n",
              "2008 0      9599073         1601      1176824  ...  2008      0.122598     0.001966\n",
              "2009 0      9724258         1990      1196320  ...  2009      0.123024     0.002461\n",
              "2010 0      9996209          964      1257545  ...  2010      0.125802     0.002040\n",
              "2011 0     10099242         1506      1248872  ...  2011      0.123660     0.002123\n",
              "2012 0     10154835          788      1183876  ...  2012      0.116582     0.002124\n",
              "\n",
              "[5 rows x 9 columns]"
            ]
          },
          "metadata": {
            "tags": []
          },
          "execution_count": 13
        }
      ]
    },
    {
      "cell_type": "code",
      "metadata": {
        "id": "mgmlS-6e0y1w",
        "outputId": "45f98e3b-5fb4-454c-c440-e52bfd0bc4a3",
        "colab": {
          "base_uri": "https://localhost:8080/",
          "height": 202
        }
      },
      "source": [
        "# Construct the confidence interval\n",
        "state_acs_df['B25002_003PCILB'] = (state_acs_df['B25002_003PE'] - state_acs_df['B25002_003PM'])*100\n",
        "state_acs_df['B25002_003PCIUB'] = (state_acs_df['B25002_003PE'] + state_acs_df['B25002_003PM'])*100\n",
        "state_acs_df.head()"
      ],
      "execution_count": null,
      "outputs": [
        {
          "output_type": "execute_result",
          "data": {
            "text/html": [
              "<div>\n",
              "<style scoped>\n",
              "    .dataframe tbody tr th:only-of-type {\n",
              "        vertical-align: middle;\n",
              "    }\n",
              "\n",
              "    .dataframe tbody tr th {\n",
              "        vertical-align: top;\n",
              "    }\n",
              "\n",
              "    .dataframe thead th {\n",
              "        text-align: right;\n",
              "    }\n",
              "</style>\n",
              "<table border=\"1\" class=\"dataframe\">\n",
              "  <thead>\n",
              "    <tr style=\"text-align: right;\">\n",
              "      <th></th>\n",
              "      <th></th>\n",
              "      <th>B25002_001E</th>\n",
              "      <th>B25002_001M</th>\n",
              "      <th>B25002_003E</th>\n",
              "      <th>B25002_003M</th>\n",
              "      <th>B00002_001E</th>\n",
              "      <th>state</th>\n",
              "      <th>year</th>\n",
              "      <th>B25002_003PE</th>\n",
              "      <th>B25002_003PM</th>\n",
              "      <th>B25002_003PCILB</th>\n",
              "      <th>B25002_003PCIUB</th>\n",
              "    </tr>\n",
              "  </thead>\n",
              "  <tbody>\n",
              "    <tr>\n",
              "      <th>2008</th>\n",
              "      <th>0</th>\n",
              "      <td>9599073</td>\n",
              "      <td>1601</td>\n",
              "      <td>1176824</td>\n",
              "      <td>18868</td>\n",
              "      <td>127639</td>\n",
              "      <td>48</td>\n",
              "      <td>2008</td>\n",
              "      <td>0.122598</td>\n",
              "      <td>0.001966</td>\n",
              "      <td>12.063217</td>\n",
              "      <td>12.456317</td>\n",
              "    </tr>\n",
              "    <tr>\n",
              "      <th>2009</th>\n",
              "      <th>0</th>\n",
              "      <td>9724258</td>\n",
              "      <td>1990</td>\n",
              "      <td>1196320</td>\n",
              "      <td>23931</td>\n",
              "      <td>128120</td>\n",
              "      <td>48</td>\n",
              "      <td>2009</td>\n",
              "      <td>0.123024</td>\n",
              "      <td>0.002461</td>\n",
              "      <td>12.056347</td>\n",
              "      <td>12.548513</td>\n",
              "    </tr>\n",
              "    <tr>\n",
              "      <th>2010</th>\n",
              "      <th>0</th>\n",
              "      <td>9996209</td>\n",
              "      <td>964</td>\n",
              "      <td>1257545</td>\n",
              "      <td>20394</td>\n",
              "      <td>127757</td>\n",
              "      <td>48</td>\n",
              "      <td>2010</td>\n",
              "      <td>0.125802</td>\n",
              "      <td>0.002040</td>\n",
              "      <td>12.376205</td>\n",
              "      <td>12.784233</td>\n",
              "    </tr>\n",
              "    <tr>\n",
              "      <th>2011</th>\n",
              "      <th>0</th>\n",
              "      <td>10099242</td>\n",
              "      <td>1506</td>\n",
              "      <td>1248872</td>\n",
              "      <td>21442</td>\n",
              "      <td>130965</td>\n",
              "      <td>48</td>\n",
              "      <td>2011</td>\n",
              "      <td>0.123660</td>\n",
              "      <td>0.002123</td>\n",
              "      <td>12.153692</td>\n",
              "      <td>12.578302</td>\n",
              "    </tr>\n",
              "    <tr>\n",
              "      <th>2012</th>\n",
              "      <th>0</th>\n",
              "      <td>10154835</td>\n",
              "      <td>788</td>\n",
              "      <td>1183876</td>\n",
              "      <td>21573</td>\n",
              "      <td>150406</td>\n",
              "      <td>48</td>\n",
              "      <td>2012</td>\n",
              "      <td>0.116582</td>\n",
              "      <td>0.002124</td>\n",
              "      <td>11.445811</td>\n",
              "      <td>11.870688</td>\n",
              "    </tr>\n",
              "  </tbody>\n",
              "</table>\n",
              "</div>"
            ],
            "text/plain": [
              "        B25002_001E  B25002_001M  ...  B25002_003PCILB  B25002_003PCIUB\n",
              "2008 0      9599073         1601  ...        12.063217        12.456317\n",
              "2009 0      9724258         1990  ...        12.056347        12.548513\n",
              "2010 0      9996209          964  ...        12.376205        12.784233\n",
              "2011 0     10099242         1506  ...        12.153692        12.578302\n",
              "2012 0     10154835          788  ...        11.445811        11.870688\n",
              "\n",
              "[5 rows x 11 columns]"
            ]
          },
          "metadata": {
            "tags": []
          },
          "execution_count": 14
        }
      ]
    },
    {
      "cell_type": "code",
      "metadata": {
        "id": "Sw-QKZs-4pSC",
        "outputId": "d4027a21-de5c-48a2-e2a4-c2198ca30417",
        "colab": {
          "base_uri": "https://localhost:8080/",
          "height": 350
        }
      },
      "source": [
        "import matplotlib.pyplot as plt\n",
        "# Bar chart with eror\n",
        "# Thanks google search \"python plot add confidence interval to point estimate plot\"\n",
        "## https://python-graph-gallery.com/8-add-confidence-interval-on-barplot/\n",
        "plt.figure(figsize=(10,5))\n",
        "plt.errorbar(x    = state_acs_df['year'],\n",
        "             y    = state_acs_df['B25002_003PE'],\n",
        "             yerr = state_acs_df['B25002_003PM'],\n",
        "             fmt='s',\n",
        "             color='b',\n",
        "             markersize=8)\n",
        "plt.title('Change in proportion of vacant housing units for Texas, 2008-2018.')\n",
        "plt.xlabel('Year')\n",
        "plt.ylabel('Proportion vacant')\n",
        "plt.show()"
      ],
      "execution_count": null,
      "outputs": [
        {
          "output_type": "display_data",
          "data": {
            "image/png": "[encoded data removed]",
            "text/plain": [
              "<Figure size 720x360 with 1 Axes>"
            ]
          },
          "metadata": {
            "tags": [],
            "needs_background": "light"
          }
        }
      ]
    },
    {
      "cell_type": "code",
      "metadata": {
        "id": "VvRCFNUoC4Xy"
      },
      "source": [
        ""
      ],
      "execution_count": null,
      "outputs": []
    }
  ]
}
