{
  "cells": [
    {
      "cell_type": "markdown",
      "metadata": {
        "colab_type": "text",
        "id": "view-in-github"
      },
      "source": [
        "<a href=\"https://colab.research.google.com/github/npr99/PlanningMethods/blob/master/PLAN604_Comparison_of_two_proportions.ipynb\" target=\"_parent\"><img src=\"https://colab.research.google.com/assets/colab-badge.svg\" alt=\"Open In Colab\"/></a>"
      ]
    },
    {
      "cell_type": "markdown",
      "metadata": {
        "id": "P-EggxqJwovL"
      },
      "source": [
        "# Application of Comparing two Proportions from ACS Data\n",
        " \n",
        "---\n",
        "This Google Colab Notebook provides a complete workflow (sequence of steps from start to finish) that will allow you to explore two proportions found in ACS Data. \n",
        "\n",
        "This notebook compares population proportions found in the 2012 5-year ACS and the 2019 5-year ACS. The research question what census geographies have a stastically significant difference between two proportions found in two different ACS surveys. The 2012 5-year ACS includes random samples of households between 2008, 2009, 2010, 2011, and 2012. The 2019 5-year ACS includes random samples of households between 2015, 2016, 2017, 2018, and 2019.\n",
        "\n",
        "### Two New python features in this notebook:\n",
        "\n",
        "#### 1. Resuing code\n",
        "This notebook introduces Python concepts of reading in and running a python file that includes reusable code. The code in the python file is stored on GitHub and has code that was introduced in earlier notebooks.\n",
        "\n",
        "When a new pacakge is imported - such as `import pandas as pd` - the notebook is reading in python files that have been shared as open source. The python programming enviroment is simply many python files (`.py`) being referenced. Each (`.py`) is created and maintained by users across the globe.\n",
        "\n",
        "#### 2. Loops\n",
        "Loops are a powerful way to repeat functions across different values. In this notebook we will loop over multiple ACS years and multiple variables.\n"
      ]
    },
    {
      "cell_type": "code",
      "execution_count": null,
      "metadata": {
        "id": "jxd6s7EZwjb6",
        "vscode": {
          "languageId": "python"
        }
      },
      "outputs": [],
      "source": [
        "# Python packages required to read in and Census API data\n",
        "import requests ## Required for the Census API\n",
        "import pandas as pd # For reading, writing and wrangling data\n",
        "import matplotlib.pyplot as plt # For plotting and making graphs"
      ]
    },
    {
      "cell_type": "code",
      "execution_count": null,
      "metadata": {
        "colab": {
          "base_uri": "https://localhost:8080/"
        },
        "id": "Qa1Vw4MQEUxQ",
        "outputId": "889579c2-792c-4db4-ac8c-633108807e8e",
        "vscode": {
          "languageId": "python"
        }
      },
      "outputs": [
        {
          "name": "stdout",
          "output_type": "stream",
          "text": [
            "Reading in python file from https://raw.githubusercontent.com/npr99/PlanningMethods/master/_planning_methods.py\n"
          ]
        }
      ],
      "source": [
        "# Downloading and running python script from github\n",
        "# https://jckantor.github.io/cbe61622/A.02-Downloading_Python_source_files_from_github.html\n",
        "# Make sure the url is the raw version of the file on GitHub\n",
        "\n",
        "user = \"npr99\"\n",
        "repo = \"PlanningMethods\"\n",
        "pyfile = \"_planning_methods.py\"\n",
        "url = f\"https://raw.githubusercontent.com/{user}/{repo}/master/{pyfile}\"\n",
        "!wget --no-cache --quiet --backups=1 {url}\n",
        "print(\"Reading in python file from\",url)\n",
        "exec(open(pyfile).read())"
      ]
    },
    {
      "cell_type": "markdown",
      "metadata": {
        "id": "lwbY5z9jxDo7"
      },
      "source": [
        "## Step 1: Obtain Data\n",
        "The previous step read in a python file with the Obtain Data function presented in the notebook on [Sample Size and Confidence Intervals](https://github.com/npr99/PlanningMethods/blob/master/PLAN604_Population_vs_Sample_USCounties.ipynb) The block of code with the python functions needs to be run first and then the function can be called in future blocks of code."
      ]
    },
    {
      "cell_type": "markdown",
      "metadata": {
        "id": "0BnzQEKqWMeo"
      },
      "source": [
        "## Run Obtain Census API for 2012 and 2019 5-year ACS\n",
        "The next block of code calls the function and gets varaibles related to public transportation use. The code is called in a loop.\n",
        "\n",
        "For more variables see:\n",
        "\n",
        "https://www.census.gov/data/developers/data-sets/acs-5year.2012.html\n",
        "\n",
        "https://api.census.gov/data/2012/acs/acs5/subject/groups/S0801.html\n"
      ]
    },
    {
      "cell_type": "code",
      "execution_count": null,
      "metadata": {
        "colab": {
          "base_uri": "https://localhost:8080/"
        },
        "id": "vO1ebSiBIn_Y",
        "outputId": "57a5d35d-3ac0-4b85-a9b9-26956db70ed8",
        "vscode": {
          "languageId": "python"
        }
      },
      "outputs": [
        {
          "name": "stdout",
          "output_type": "stream",
          "text": [
            "Help on function obtain_census_api in module __main__:\n",
            "\n",
            "obtain_census_api(state: str = '*', county: str = '*', census_geography: str = 'county:*', vintage: str = '2010', dataset_name: str = 'dec/sf1', get_vars: str = 'GEO_ID')\n",
            "    General utility for obtaining census from Census API.\n",
            "    \n",
            "    Args:\n",
            "        state (str): 2-digit FIPS code. Default * for all states\n",
            "        county (str): 3-digit FIPS code. Default * all counties\n",
            "        census_geography (str): example '&for=block:*' would be for all blocks\n",
            "          default is for all counties\n",
            "        vintage (str): Census Year. Default 2010\n",
            "        dataset_name (str): Census dataset name. Default Decennial SF1\n",
            "        for a list of all Census API\n",
            "        get_vars (str): list of variables to get from the API.\n",
            "    \n",
            "    Returns:\n",
            "        obj, dict: A dataframe for with Census data\n",
            "\n"
          ]
        }
      ],
      "source": [
        "  def obtain_census_api(\n",
        "                      state: str = \"*\",\n",
        "                      county: str = \"*\",\n",
        "                      census_geography: str = 'county:*',\n",
        "                      vintage: str = \"2010\", \n",
        "                      dataset_name: str = 'dec/sf1',\n",
        "                      get_vars: str = 'GEO_ID'):\n",
        "\n",
        "          \"\"\"General utility for obtaining census from Census API.\n",
        "\n",
        "          Args:\n",
        "              state (str): 2-digit FIPS code. Default * for all states\n",
        "              county (str): 3-digit FIPS code. Default * all counties\n",
        "              census_geography (str): example '&for=block:*' would be for all blocks\n",
        "                default is for all counties\n",
        "              vintage (str): Census Year. Default 2010\n",
        "              dataset_name (str): Census dataset name. Default Decennial SF1\n",
        "              for a list of all Census API\n",
        "              get_vars (str): list of variables to get from the API.\n",
        "\n",
        "          Returns:\n",
        "              obj, dict: A dataframe for with Census data\n",
        "\n",
        "          \"\"\"\n",
        "          # Set up hyperlink for Census API\n",
        "          api_hyperlink = ('https://api.census.gov/data/' + vintage + '/'+dataset_name + '?get=' + get_vars +\n",
        "                          '&in=state:' + state + '&in=county:' + county + '&for=' + census_geography)\n",
        "\n",
        "          print(\"Census API data from: \" + api_hyperlink)\n",
        "\n",
        "          # Obtain Census API JSON Data\n",
        "          apijson = requests.get(api_hyperlink)\n",
        "\n",
        "          # Convert the requested json into pandas dataframe\n",
        "          df = pd.DataFrame(columns=apijson.json()[0], data=apijson.json()[1:])\n",
        "\n",
        "          return df\n",
        "help(obtain_census_api)"
      ]
    },
    {
      "cell_type": "code",
      "execution_count": null,
      "metadata": {
        "colab": {
          "base_uri": "https://localhost:8080/"
        },
        "id": "eLZuHLRYKITB",
        "outputId": "39af116d-afc1-46b7-80e4-d35a7bbbf57f",
        "vscode": {
          "languageId": "python"
        }
      },
      "outputs": [
        {
          "name": "stdout",
          "output_type": "stream",
          "text": [
            "2012\n",
            "2013\n",
            "2014\n",
            "2015\n"
          ]
        }
      ],
      "source": [
        "# Loop example\n",
        "for year in ['2012','2013','2014','2015']:\n",
        "  print(year)"
      ]
    },
    {
      "cell_type": "code",
      "execution_count": null,
      "metadata": {
        "colab": {
          "base_uri": "https://localhost:8080/"
        },
        "id": "7XVk-5GbUdke",
        "outputId": "cf70eeba-3c47-4b1e-84b4-405e3560776a",
        "vscode": {
          "languageId": "python"
        }
      },
      "outputs": [
        {
          "name": "stdout",
          "output_type": "stream",
          "text": [
            "Census API data from: https://api.census.gov/data/2012/acs/acs5/subject?get=GEO_ID,NAME,S0801_C01_001E,S0801_C01_001M,S0801_C01_009E,S0801_C01_009M&in=state:*&in=county:*&for=county:*\n",
            "Census API data from: https://api.census.gov/data/2019/acs/acs5/subject?get=GEO_ID,NAME,S0801_C01_001E,S0801_C01_001M,S0801_C01_009E,S0801_C01_009M&in=state:*&in=county:*&for=county:*\n"
          ]
        }
      ],
      "source": [
        "# Create an empty \"container\" to store multiple ACS years for the data\n",
        "acs_df = {} \n",
        "\n",
        "dataset_name = 'acs/acs5/subject'\n",
        "vintages = ['2012','2019']\n",
        "get_vars = 'GEO_ID,NAME,S0801_C01_001E,S0801_C01_001M,S0801_C01_009E,S0801_C01_009M'\n",
        "for vintage in vintages:\n",
        "  acs_df[vintage] = obtain_census_api(get_vars = get_vars, dataset_name = dataset_name, vintage = vintage)"
      ]
    },
    {
      "cell_type": "code",
      "execution_count": null,
      "metadata": {
        "colab": {
          "base_uri": "https://localhost:8080/",
          "height": 398
        },
        "id": "YnFP7lUUKtSe",
        "outputId": "3dbeb5ca-5c5a-4753-e0e2-8050a056e127",
        "vscode": {
          "languageId": "python"
        }
      },
      "outputs": [
        {
          "data": {
            "text/html": [
              "<div>\n",
              "<style scoped>\n",
              "    .dataframe tbody tr th:only-of-type {\n",
              "        vertical-align: middle;\n",
              "    }\n",
              "\n",
              "    .dataframe tbody tr th {\n",
              "        vertical-align: top;\n",
              "    }\n",
              "\n",
              "    .dataframe thead th {\n",
              "        text-align: right;\n",
              "    }\n",
              "</style>\n",
              "<table border=\"1\" class=\"dataframe\">\n",
              "  <thead>\n",
              "    <tr style=\"text-align: right;\">\n",
              "      <th></th>\n",
              "      <th>GEO_ID</th>\n",
              "      <th>NAME</th>\n",
              "      <th>S0801_C01_001E</th>\n",
              "      <th>S0801_C01_001M</th>\n",
              "      <th>S0801_C01_009E</th>\n",
              "      <th>S0801_C01_009M</th>\n",
              "      <th>state</th>\n",
              "      <th>county</th>\n",
              "    </tr>\n",
              "  </thead>\n",
              "  <tbody>\n",
              "    <tr>\n",
              "      <th>0</th>\n",
              "      <td>0500000US29115</td>\n",
              "      <td>Linn County, Missouri</td>\n",
              "      <td>5052</td>\n",
              "      <td>234</td>\n",
              "      <td>0.0</td>\n",
              "      <td>0.1</td>\n",
              "      <td>29</td>\n",
              "      <td>115</td>\n",
              "    </tr>\n",
              "    <tr>\n",
              "      <th>1</th>\n",
              "      <td>0500000US29091</td>\n",
              "      <td>Howell County, Missouri</td>\n",
              "      <td>15623</td>\n",
              "      <td>560</td>\n",
              "      <td>0.3</td>\n",
              "      <td>0.3</td>\n",
              "      <td>29</td>\n",
              "      <td>091</td>\n",
              "    </tr>\n",
              "    <tr>\n",
              "      <th>2</th>\n",
              "      <td>0500000US29101</td>\n",
              "      <td>Johnson County, Missouri</td>\n",
              "      <td>25227</td>\n",
              "      <td>677</td>\n",
              "      <td>0.3</td>\n",
              "      <td>0.2</td>\n",
              "      <td>29</td>\n",
              "      <td>101</td>\n",
              "    </tr>\n",
              "    <tr>\n",
              "      <th>3</th>\n",
              "      <td>0500000US29105</td>\n",
              "      <td>Laclede County, Missouri</td>\n",
              "      <td>15019</td>\n",
              "      <td>481</td>\n",
              "      <td>0.1</td>\n",
              "      <td>0.2</td>\n",
              "      <td>29</td>\n",
              "      <td>105</td>\n",
              "    </tr>\n",
              "    <tr>\n",
              "      <th>4</th>\n",
              "      <td>0500000US29125</td>\n",
              "      <td>Maries County, Missouri</td>\n",
              "      <td>3830</td>\n",
              "      <td>246</td>\n",
              "      <td>0.4</td>\n",
              "      <td>0.6</td>\n",
              "      <td>29</td>\n",
              "      <td>125</td>\n",
              "    </tr>\n",
              "  </tbody>\n",
              "</table>\n",
              "</div>"
            ],
            "text/plain": [
              "           GEO_ID                      NAME  ... state county\n",
              "0  0500000US29115     Linn County, Missouri  ...    29    115\n",
              "1  0500000US29091   Howell County, Missouri  ...    29    091\n",
              "2  0500000US29101  Johnson County, Missouri  ...    29    101\n",
              "3  0500000US29105  Laclede County, Missouri  ...    29    105\n",
              "4  0500000US29125   Maries County, Missouri  ...    29    125\n",
              "\n",
              "[5 rows x 8 columns]"
            ]
          },
          "execution_count": 16,
          "metadata": {},
          "output_type": "execute_result"
        }
      ],
      "source": [
        "acs_df['2012'].head()"
      ]
    },
    {
      "cell_type": "code",
      "execution_count": null,
      "metadata": {
        "colab": {
          "base_uri": "https://localhost:8080/",
          "height": 398
        },
        "id": "7sDLtdyjKtCb",
        "outputId": "ed056ee2-63e2-48d8-aa06-59612e965717",
        "vscode": {
          "languageId": "python"
        }
      },
      "outputs": [
        {
          "data": {
            "text/html": [
              "<div>\n",
              "<style scoped>\n",
              "    .dataframe tbody tr th:only-of-type {\n",
              "        vertical-align: middle;\n",
              "    }\n",
              "\n",
              "    .dataframe tbody tr th {\n",
              "        vertical-align: top;\n",
              "    }\n",
              "\n",
              "    .dataframe thead th {\n",
              "        text-align: right;\n",
              "    }\n",
              "</style>\n",
              "<table border=\"1\" class=\"dataframe\">\n",
              "  <thead>\n",
              "    <tr style=\"text-align: right;\">\n",
              "      <th></th>\n",
              "      <th>GEO_ID</th>\n",
              "      <th>NAME</th>\n",
              "      <th>S0801_C01_001E</th>\n",
              "      <th>S0801_C01_001M</th>\n",
              "      <th>S0801_C01_009E</th>\n",
              "      <th>S0801_C01_009M</th>\n",
              "      <th>state</th>\n",
              "      <th>county</th>\n",
              "    </tr>\n",
              "  </thead>\n",
              "  <tbody>\n",
              "    <tr>\n",
              "      <th>0</th>\n",
              "      <td>0500000US17051</td>\n",
              "      <td>Fayette County, Illinois</td>\n",
              "      <td>8633</td>\n",
              "      <td>353</td>\n",
              "      <td>0.8</td>\n",
              "      <td>0.4</td>\n",
              "      <td>17</td>\n",
              "      <td>051</td>\n",
              "    </tr>\n",
              "    <tr>\n",
              "      <th>1</th>\n",
              "      <td>0500000US17107</td>\n",
              "      <td>Logan County, Illinois</td>\n",
              "      <td>12211</td>\n",
              "      <td>378</td>\n",
              "      <td>0.4</td>\n",
              "      <td>0.3</td>\n",
              "      <td>17</td>\n",
              "      <td>107</td>\n",
              "    </tr>\n",
              "    <tr>\n",
              "      <th>2</th>\n",
              "      <td>0500000US17165</td>\n",
              "      <td>Saline County, Illinois</td>\n",
              "      <td>9631</td>\n",
              "      <td>334</td>\n",
              "      <td>0.9</td>\n",
              "      <td>0.6</td>\n",
              "      <td>17</td>\n",
              "      <td>165</td>\n",
              "    </tr>\n",
              "    <tr>\n",
              "      <th>3</th>\n",
              "      <td>0500000US17097</td>\n",
              "      <td>Lake County, Illinois</td>\n",
              "      <td>355918</td>\n",
              "      <td>2280</td>\n",
              "      <td>4.4</td>\n",
              "      <td>0.2</td>\n",
              "      <td>17</td>\n",
              "      <td>097</td>\n",
              "    </tr>\n",
              "    <tr>\n",
              "      <th>4</th>\n",
              "      <td>0500000US17127</td>\n",
              "      <td>Massac County, Illinois</td>\n",
              "      <td>5602</td>\n",
              "      <td>268</td>\n",
              "      <td>0.3</td>\n",
              "      <td>0.5</td>\n",
              "      <td>17</td>\n",
              "      <td>127</td>\n",
              "    </tr>\n",
              "  </tbody>\n",
              "</table>\n",
              "</div>"
            ],
            "text/plain": [
              "           GEO_ID                      NAME  ... state county\n",
              "0  0500000US17051  Fayette County, Illinois  ...    17    051\n",
              "1  0500000US17107    Logan County, Illinois  ...    17    107\n",
              "2  0500000US17165   Saline County, Illinois  ...    17    165\n",
              "3  0500000US17097     Lake County, Illinois  ...    17    097\n",
              "4  0500000US17127   Massac County, Illinois  ...    17    127\n",
              "\n",
              "[5 rows x 8 columns]"
            ]
          },
          "execution_count": 17,
          "metadata": {},
          "output_type": "execute_result"
        }
      ],
      "source": [
        "acs_df['2019'].head()"
      ]
    },
    {
      "cell_type": "markdown",
      "metadata": {
        "id": "tckJOdRRyN44"
      },
      "source": [
        "## Step 2: Clean Data\n",
        "Data cleaning is an important step in the data science process. This step is often the hardest and most time consuming. "
      ]
    },
    {
      "cell_type": "markdown",
      "metadata": {
        "id": "_uNWWSwgh_rK"
      },
      "source": [
        "### 2.1. Clean ACS Data\n",
        "#### 2.1.1 Make sure variable types are set correctly\n",
        "For the ACS data we have both population counts and precents. The percentage estiamtes are not integers - they are \"floats\" which refers the the decimal place that can float in the number between the integer and the fractional part. Here is more information on Python number types https://www.tutorialspoint.com/python/python_numbers.htm "
      ]
    },
    {
      "cell_type": "code",
      "execution_count": null,
      "metadata": {
        "colab": {
          "base_uri": "https://localhost:8080/"
        },
        "id": "38oy4N0uayeJ",
        "outputId": "bb08b2b8-aa91-4149-b552-0964b9788447",
        "vscode": {
          "languageId": "python"
        }
      },
      "outputs": [
        {
          "name": "stdout",
          "output_type": "stream",
          "text": [
            "2012 Renameing GEO_ID  =  Geography Changing type to string\n",
            "2012 Renameing NAME  =  Geographic Area Name Changing type to string\n",
            "2012 Renameing S0801_C01_001E  =  Workers 16 years and over 2012 (Estimate) Changing type to int\n",
            "2012 Renameing S0801_C01_001M  =  Workers 16 years and over 2012 (MOE) Changing type to int\n",
            "2012 Renameing S0801_C01_009E  =  Public transportation (excluding taxicab) 2012 (Estimate) Changing type to float\n",
            "2012 Renameing S0801_C01_009M  =  Public transportation (excluding taxicab) 2012 (MOE) Changing type to float\n",
            "2019 Renameing GEO_ID  =  Geography Changing type to string\n",
            "2019 Renameing NAME  =  Geographic Area Name Changing type to string\n",
            "2019 Renameing S0801_C01_001E  =  Workers 16 years and over 2019 (Estimate) Changing type to int\n",
            "2019 Renameing S0801_C01_001M  =  Workers 16 years and over 2019 (MOE) Changing type to int\n",
            "2019 Renameing S0801_C01_009E  =  Public transportation (excluding taxicab) 2019 (Estimate) Changing type to float\n",
            "2019 Renameing S0801_C01_009M  =  Public transportation (excluding taxicab) 2019 (MOE) Changing type to float\n"
          ]
        }
      ],
      "source": [
        "import json \n",
        "\n",
        "for vintage in vintages:\n",
        "  for variable in get_vars.split(\",\"):\n",
        "    variable_metadata_hyperlink = (f'https://api.census.gov/data/{vintage}/{dataset_name}/variables/{variable}.json')\n",
        "    # Obtain Census API JSON Data\n",
        "    !wget --no-cache --quiet --backups=1 {variable_metadata_hyperlink}\n",
        "\n",
        "    with open(f\"{variable}.json\", \"r\") as rf:\n",
        "      variable_metadata = json.load(rf)\n",
        "\n",
        "    # Find the variable label \n",
        "    census_label_string = str(variable_metadata[\"label\"])\n",
        "    last_exclamation_point_position = census_label_string.rfind(\"!!\")\n",
        "    if last_exclamation_point_position >= 0:\n",
        "      last_exclamation_point_position = last_exclamation_point_position + 2\n",
        "    else:\n",
        "      last_exclamation_point_position = 0\n",
        "    label = census_label_string[last_exclamation_point_position:] \n",
        "\n",
        "    # Add vintage to label name (skip geo_id and name variables)\n",
        "    if variable not in ['GEO_ID','NAME']:\n",
        "      label_addvintage = label + f' {vintage}'\n",
        "    else:\n",
        "      label_addvintage = label\n",
        "\n",
        "    # Add estimate or Margin of Error to label\n",
        "    last_letter_of_variable = variable[-1]\n",
        "    if variable not in ['GEO_ID','NAME']:\n",
        "      if last_letter_of_variable == 'E':\n",
        "        label_addvintage_addtype = label_addvintage + ' (Estimate)'\n",
        "      if last_letter_of_variable == 'M':\n",
        "        label_addvintage_addtype = label_addvintage + ' (MOE)'\n",
        "    else:\n",
        "      label_addvintage_addtype = label_addvintage\n",
        "    print(vintage,\"Renameing\",variable,\" = \",label_addvintage_addtype,\"Changing type to\",variable_metadata[\"predicateType\"])\n",
        "\n",
        "    # Change variable type\n",
        "    acs_df[vintage][variable] = acs_df[vintage][variable].astype(variable_metadata[\"predicateType\"])\n",
        "\n",
        "    acs_df[vintage] = acs_df[vintage].rename(columns={variable: label_addvintage_addtype}) \n",
        "\n",
        "\n"
      ]
    },
    {
      "cell_type": "code",
      "execution_count": null,
      "metadata": {
        "colab": {
          "base_uri": "https://localhost:8080/",
          "height": 430
        },
        "id": "icSyuOHiVkRm",
        "outputId": "861f5afc-cd7b-435a-a6c5-a5a3e3e6927c",
        "vscode": {
          "languageId": "python"
        }
      },
      "outputs": [
        {
          "data": {
            "text/html": [
              "<div>\n",
              "<style scoped>\n",
              "    .dataframe tbody tr th:only-of-type {\n",
              "        vertical-align: middle;\n",
              "    }\n",
              "\n",
              "    .dataframe tbody tr th {\n",
              "        vertical-align: top;\n",
              "    }\n",
              "\n",
              "    .dataframe thead th {\n",
              "        text-align: right;\n",
              "    }\n",
              "</style>\n",
              "<table border=\"1\" class=\"dataframe\">\n",
              "  <thead>\n",
              "    <tr style=\"text-align: right;\">\n",
              "      <th></th>\n",
              "      <th>Geography</th>\n",
              "      <th>Geographic Area Name</th>\n",
              "      <th>Workers 16 years and over 2012 (Estimate)</th>\n",
              "      <th>Workers 16 years and over 2012 (MOE)</th>\n",
              "      <th>Public transportation (excluding taxicab) 2012 (Estimate)</th>\n",
              "      <th>Public transportation (excluding taxicab) 2012 (MOE)</th>\n",
              "      <th>state</th>\n",
              "      <th>county</th>\n",
              "    </tr>\n",
              "  </thead>\n",
              "  <tbody>\n",
              "    <tr>\n",
              "      <th>0</th>\n",
              "      <td>0500000US29115</td>\n",
              "      <td>Linn County, Missouri</td>\n",
              "      <td>5052</td>\n",
              "      <td>234</td>\n",
              "      <td>0.0</td>\n",
              "      <td>0.1</td>\n",
              "      <td>29</td>\n",
              "      <td>115</td>\n",
              "    </tr>\n",
              "    <tr>\n",
              "      <th>1</th>\n",
              "      <td>0500000US29091</td>\n",
              "      <td>Howell County, Missouri</td>\n",
              "      <td>15623</td>\n",
              "      <td>560</td>\n",
              "      <td>0.3</td>\n",
              "      <td>0.3</td>\n",
              "      <td>29</td>\n",
              "      <td>091</td>\n",
              "    </tr>\n",
              "    <tr>\n",
              "      <th>2</th>\n",
              "      <td>0500000US29101</td>\n",
              "      <td>Johnson County, Missouri</td>\n",
              "      <td>25227</td>\n",
              "      <td>677</td>\n",
              "      <td>0.3</td>\n",
              "      <td>0.2</td>\n",
              "      <td>29</td>\n",
              "      <td>101</td>\n",
              "    </tr>\n",
              "    <tr>\n",
              "      <th>3</th>\n",
              "      <td>0500000US29105</td>\n",
              "      <td>Laclede County, Missouri</td>\n",
              "      <td>15019</td>\n",
              "      <td>481</td>\n",
              "      <td>0.1</td>\n",
              "      <td>0.2</td>\n",
              "      <td>29</td>\n",
              "      <td>105</td>\n",
              "    </tr>\n",
              "    <tr>\n",
              "      <th>4</th>\n",
              "      <td>0500000US29125</td>\n",
              "      <td>Maries County, Missouri</td>\n",
              "      <td>3830</td>\n",
              "      <td>246</td>\n",
              "      <td>0.4</td>\n",
              "      <td>0.6</td>\n",
              "      <td>29</td>\n",
              "      <td>125</td>\n",
              "    </tr>\n",
              "  </tbody>\n",
              "</table>\n",
              "</div>"
            ],
            "text/plain": [
              "        Geography      Geographic Area Name  ...  state  county\n",
              "0  0500000US29115     Linn County, Missouri  ...     29     115\n",
              "1  0500000US29091   Howell County, Missouri  ...     29     091\n",
              "2  0500000US29101  Johnson County, Missouri  ...     29     101\n",
              "3  0500000US29105  Laclede County, Missouri  ...     29     105\n",
              "4  0500000US29125   Maries County, Missouri  ...     29     125\n",
              "\n",
              "[5 rows x 8 columns]"
            ]
          },
          "execution_count": 20,
          "metadata": {},
          "output_type": "execute_result"
        }
      ],
      "source": [
        "acs_df['2012'].head()"
      ]
    },
    {
      "cell_type": "markdown",
      "metadata": {
        "id": "K-Wdr-ATjcQW"
      },
      "source": [
        "#### 2.1.2 Use descriptive statistics to check cleaning\n",
        "A descriptive statistics table is a great way to check to make sure the variables have been created correctly."
      ]
    },
    {
      "cell_type": "code",
      "execution_count": null,
      "metadata": {
        "colab": {
          "base_uri": "https://localhost:8080/",
          "height": 99
        },
        "id": "rH_kXl4Eayho",
        "outputId": "151e84a4-f35a-49e2-d83e-94f3b9746af6",
        "vscode": {
          "languageId": "python"
        }
      },
      "outputs": [
        {
          "data": {
            "text/html": [
              "<style  type=\"text/css\" >\n",
              "#T_4f8edd7c_278a_11ec_89a4_0242ac1c0002row0_col0,#T_4f8edd7c_278a_11ec_89a4_0242ac1c0002row0_col1,#T_4f8edd7c_278a_11ec_89a4_0242ac1c0002row0_col2,#T_4f8edd7c_278a_11ec_89a4_0242ac1c0002row0_col3,#T_4f8edd7c_278a_11ec_89a4_0242ac1c0002row0_col4,#T_4f8edd7c_278a_11ec_89a4_0242ac1c0002row0_col5,#T_4f8edd7c_278a_11ec_89a4_0242ac1c0002row0_col6,#T_4f8edd7c_278a_11ec_89a4_0242ac1c0002row0_col7,#T_4f8edd7c_278a_11ec_89a4_0242ac1c0002row1_col0,#T_4f8edd7c_278a_11ec_89a4_0242ac1c0002row1_col1,#T_4f8edd7c_278a_11ec_89a4_0242ac1c0002row1_col2,#T_4f8edd7c_278a_11ec_89a4_0242ac1c0002row1_col3,#T_4f8edd7c_278a_11ec_89a4_0242ac1c0002row1_col4,#T_4f8edd7c_278a_11ec_89a4_0242ac1c0002row1_col5,#T_4f8edd7c_278a_11ec_89a4_0242ac1c0002row1_col6,#T_4f8edd7c_278a_11ec_89a4_0242ac1c0002row1_col7{\n",
              "            text-align:  right;\n",
              "        }</style><table id=\"T_4f8edd7c_278a_11ec_89a4_0242ac1c0002\" ><caption>Table 1. Descriptive statistics for variables by county, 2012 5-year ACS.</caption><thead>    <tr>        <th class=\"blank level0\" ></th>        <th class=\"col_heading level0 col0\" >count</th>        <th class=\"col_heading level0 col1\" >mean</th>        <th class=\"col_heading level0 col2\" >std</th>        <th class=\"col_heading level0 col3\" >min</th>        <th class=\"col_heading level0 col4\" >25%</th>        <th class=\"col_heading level0 col5\" >50%</th>        <th class=\"col_heading level0 col6\" >75%</th>        <th class=\"col_heading level0 col7\" >max</th>    </tr></thead><tbody>\n",
              "                <tr>\n",
              "                        <th id=\"T_4f8edd7c_278a_11ec_89a4_0242ac1c0002level0_row0\" class=\"row_heading level0 row0\" >Public transportation (excluding taxicab) 2012 (Estimate)</th>\n",
              "                        <td id=\"T_4f8edd7c_278a_11ec_89a4_0242ac1c0002row0_col0\" class=\"data row0 col0\" >3,221.00</td>\n",
              "                        <td id=\"T_4f8edd7c_278a_11ec_89a4_0242ac1c0002row0_col1\" class=\"data row0 col1\" >0.97</td>\n",
              "                        <td id=\"T_4f8edd7c_278a_11ec_89a4_0242ac1c0002row0_col2\" class=\"data row0 col2\" >3.00</td>\n",
              "                        <td id=\"T_4f8edd7c_278a_11ec_89a4_0242ac1c0002row0_col3\" class=\"data row0 col3\" >0.00</td>\n",
              "                        <td id=\"T_4f8edd7c_278a_11ec_89a4_0242ac1c0002row0_col4\" class=\"data row0 col4\" >0.10</td>\n",
              "                        <td id=\"T_4f8edd7c_278a_11ec_89a4_0242ac1c0002row0_col5\" class=\"data row0 col5\" >0.40</td>\n",
              "                        <td id=\"T_4f8edd7c_278a_11ec_89a4_0242ac1c0002row0_col6\" class=\"data row0 col6\" >0.80</td>\n",
              "                        <td id=\"T_4f8edd7c_278a_11ec_89a4_0242ac1c0002row0_col7\" class=\"data row0 col7\" >60.80</td>\n",
              "            </tr>\n",
              "            <tr>\n",
              "                        <th id=\"T_4f8edd7c_278a_11ec_89a4_0242ac1c0002level0_row1\" class=\"row_heading level0 row1\" >Public transportation (excluding taxicab) 2012 (MOE)</th>\n",
              "                        <td id=\"T_4f8edd7c_278a_11ec_89a4_0242ac1c0002row1_col0\" class=\"data row1 col0\" >3,221.00</td>\n",
              "                        <td id=\"T_4f8edd7c_278a_11ec_89a4_0242ac1c0002row1_col1\" class=\"data row1 col1\" >0.66</td>\n",
              "                        <td id=\"T_4f8edd7c_278a_11ec_89a4_0242ac1c0002row1_col2\" class=\"data row1 col2\" >1.46</td>\n",
              "                        <td id=\"T_4f8edd7c_278a_11ec_89a4_0242ac1c0002row1_col3\" class=\"data row1 col3\" >0.10</td>\n",
              "                        <td id=\"T_4f8edd7c_278a_11ec_89a4_0242ac1c0002row1_col4\" class=\"data row1 col4\" >0.20</td>\n",
              "                        <td id=\"T_4f8edd7c_278a_11ec_89a4_0242ac1c0002row1_col5\" class=\"data row1 col5\" >0.30</td>\n",
              "                        <td id=\"T_4f8edd7c_278a_11ec_89a4_0242ac1c0002row1_col6\" class=\"data row1 col6\" >0.70</td>\n",
              "                        <td id=\"T_4f8edd7c_278a_11ec_89a4_0242ac1c0002row1_col7\" class=\"data row1 col7\" >40.00</td>\n",
              "            </tr>\n",
              "    </tbody></table>"
            ],
            "text/plain": [
              "<pandas.io.formats.style.Styler at 0x7f11ee7e5910>"
            ]
          },
          "execution_count": 21,
          "metadata": {},
          "output_type": "execute_result"
        }
      ],
      "source": [
        "float_col_list = list(acs_df['2012'].select_dtypes(include=['float']).columns)\n",
        "table1 = acs_df['2012'][float_col_list].describe().T\n",
        "varformat = \"{:,.2f}\" # The variable format adds a comma and rounds up\n",
        "table_title = \"Table 1. Descriptive statistics for variables by county, 2012 5-year ACS.\"\n",
        "table1 = table1.style.set_caption(table_title).format(varformat).set_properties(**{'text-align': 'right'})\n",
        "table1"
      ]
    },
    {
      "cell_type": "code",
      "execution_count": null,
      "metadata": {
        "colab": {
          "base_uri": "https://localhost:8080/",
          "height": 99
        },
        "id": "_3i_unltW9Hj",
        "outputId": "e10de589-66a1-4179-9daa-77b6ee24e318",
        "vscode": {
          "languageId": "python"
        }
      },
      "outputs": [
        {
          "data": {
            "text/html": [
              "<style  type=\"text/css\" >\n",
              "#T_50869742_278a_11ec_89a4_0242ac1c0002row0_col0,#T_50869742_278a_11ec_89a4_0242ac1c0002row0_col1,#T_50869742_278a_11ec_89a4_0242ac1c0002row0_col2,#T_50869742_278a_11ec_89a4_0242ac1c0002row0_col3,#T_50869742_278a_11ec_89a4_0242ac1c0002row0_col4,#T_50869742_278a_11ec_89a4_0242ac1c0002row0_col5,#T_50869742_278a_11ec_89a4_0242ac1c0002row0_col6,#T_50869742_278a_11ec_89a4_0242ac1c0002row0_col7,#T_50869742_278a_11ec_89a4_0242ac1c0002row1_col0,#T_50869742_278a_11ec_89a4_0242ac1c0002row1_col1,#T_50869742_278a_11ec_89a4_0242ac1c0002row1_col2,#T_50869742_278a_11ec_89a4_0242ac1c0002row1_col3,#T_50869742_278a_11ec_89a4_0242ac1c0002row1_col4,#T_50869742_278a_11ec_89a4_0242ac1c0002row1_col5,#T_50869742_278a_11ec_89a4_0242ac1c0002row1_col6,#T_50869742_278a_11ec_89a4_0242ac1c0002row1_col7{\n",
              "            text-align:  right;\n",
              "        }</style><table id=\"T_50869742_278a_11ec_89a4_0242ac1c0002\" ><caption>Table 2. Descriptive statistics for variables by county, 2019 5-year ACS.</caption><thead>    <tr>        <th class=\"blank level0\" ></th>        <th class=\"col_heading level0 col0\" >count</th>        <th class=\"col_heading level0 col1\" >mean</th>        <th class=\"col_heading level0 col2\" >std</th>        <th class=\"col_heading level0 col3\" >min</th>        <th class=\"col_heading level0 col4\" >25%</th>        <th class=\"col_heading level0 col5\" >50%</th>        <th class=\"col_heading level0 col6\" >75%</th>        <th class=\"col_heading level0 col7\" >max</th>    </tr></thead><tbody>\n",
              "                <tr>\n",
              "                        <th id=\"T_50869742_278a_11ec_89a4_0242ac1c0002level0_row0\" class=\"row_heading level0 row0\" >Public transportation (excluding taxicab) 2019 (Estimate)</th>\n",
              "                        <td id=\"T_50869742_278a_11ec_89a4_0242ac1c0002row0_col0\" class=\"data row0 col0\" >3,220.00</td>\n",
              "                        <td id=\"T_50869742_278a_11ec_89a4_0242ac1c0002row0_col1\" class=\"data row0 col1\" >0.91</td>\n",
              "                        <td id=\"T_50869742_278a_11ec_89a4_0242ac1c0002row0_col2\" class=\"data row0 col2\" >3.05</td>\n",
              "                        <td id=\"T_50869742_278a_11ec_89a4_0242ac1c0002row0_col3\" class=\"data row0 col3\" >0.00</td>\n",
              "                        <td id=\"T_50869742_278a_11ec_89a4_0242ac1c0002row0_col4\" class=\"data row0 col4\" >0.10</td>\n",
              "                        <td id=\"T_50869742_278a_11ec_89a4_0242ac1c0002row0_col5\" class=\"data row0 col5\" >0.30</td>\n",
              "                        <td id=\"T_50869742_278a_11ec_89a4_0242ac1c0002row0_col6\" class=\"data row0 col6\" >0.70</td>\n",
              "                        <td id=\"T_50869742_278a_11ec_89a4_0242ac1c0002row0_col7\" class=\"data row0 col7\" >61.20</td>\n",
              "            </tr>\n",
              "            <tr>\n",
              "                        <th id=\"T_50869742_278a_11ec_89a4_0242ac1c0002level0_row1\" class=\"row_heading level0 row1\" >Public transportation (excluding taxicab) 2019 (MOE)</th>\n",
              "                        <td id=\"T_50869742_278a_11ec_89a4_0242ac1c0002row1_col0\" class=\"data row1 col0\" >3,220.00</td>\n",
              "                        <td id=\"T_50869742_278a_11ec_89a4_0242ac1c0002row1_col1\" class=\"data row1 col1\" >0.67</td>\n",
              "                        <td id=\"T_50869742_278a_11ec_89a4_0242ac1c0002row1_col2\" class=\"data row1 col2\" >1.55</td>\n",
              "                        <td id=\"T_50869742_278a_11ec_89a4_0242ac1c0002row1_col3\" class=\"data row1 col3\" >0.10</td>\n",
              "                        <td id=\"T_50869742_278a_11ec_89a4_0242ac1c0002row1_col4\" class=\"data row1 col4\" >0.20</td>\n",
              "                        <td id=\"T_50869742_278a_11ec_89a4_0242ac1c0002row1_col5\" class=\"data row1 col5\" >0.30</td>\n",
              "                        <td id=\"T_50869742_278a_11ec_89a4_0242ac1c0002row1_col6\" class=\"data row1 col6\" >0.60</td>\n",
              "                        <td id=\"T_50869742_278a_11ec_89a4_0242ac1c0002row1_col7\" class=\"data row1 col7\" >59.00</td>\n",
              "            </tr>\n",
              "    </tbody></table>"
            ],
            "text/plain": [
              "<pandas.io.formats.style.Styler at 0x7f11ee572950>"
            ]
          },
          "execution_count": 22,
          "metadata": {},
          "output_type": "execute_result"
        }
      ],
      "source": [
        "float_col_list = list(acs_df['2019'].select_dtypes(include=['float']).columns)\n",
        "table2 = acs_df['2019'][float_col_list].describe().T\n",
        "varformat = \"{:,.2f}\" # The variable format adds a comma and rounds up\n",
        "table_title = \"Table 2. Descriptive statistics for variables by county, 2019 5-year ACS.\"\n",
        "table2 = table2.style.set_caption(table_title).format(varformat).set_properties(**{'text-align': 'right'})\n",
        "table2"
      ]
    },
    {
      "cell_type": "markdown",
      "metadata": {
        "id": "i1EAKmFmyk5J"
      },
      "source": [
        "## Step 3: Merge Data together\n",
        "Merging data together is a powerful tool in data science workflows. Merge data refers to combining data that represent the same unit of analysis. In this example all three datasets represent counties in the US. Each dataframe has a common variable called GEO_ID which uniquely identifies the counties.\n",
        "\n",
        "Here is a good overview of data merging in python:\n",
        "https://towardsdatascience.com/why-and-how-to-use-merge-with-pandas-in-python-548600f7e738"
      ]
    },
    {
      "cell_type": "markdown",
      "metadata": {
        "id": "vmgLuIi6otsX"
      },
      "source": [
        "### 3.1 - Merge Part 1 - Combine ACS Data"
      ]
    },
    {
      "cell_type": "code",
      "execution_count": null,
      "metadata": {
        "colab": {
          "base_uri": "https://localhost:8080/",
          "height": 430
        },
        "id": "rcg3Wo9to1Sj",
        "outputId": "f5737255-1414-46ab-f3d8-4d55b45db4a2",
        "vscode": {
          "languageId": "python"
        }
      },
      "outputs": [
        {
          "data": {
            "text/html": [
              "<div>\n",
              "<style scoped>\n",
              "    .dataframe tbody tr th:only-of-type {\n",
              "        vertical-align: middle;\n",
              "    }\n",
              "\n",
              "    .dataframe tbody tr th {\n",
              "        vertical-align: top;\n",
              "    }\n",
              "\n",
              "    .dataframe thead th {\n",
              "        text-align: right;\n",
              "    }\n",
              "</style>\n",
              "<table border=\"1\" class=\"dataframe\">\n",
              "  <thead>\n",
              "    <tr style=\"text-align: right;\">\n",
              "      <th></th>\n",
              "      <th>Geography</th>\n",
              "      <th>Geographic Area Name</th>\n",
              "      <th>Workers 16 years and over 2012 (Estimate)</th>\n",
              "      <th>Workers 16 years and over 2012 (MOE)</th>\n",
              "      <th>Public transportation (excluding taxicab) 2012 (Estimate)</th>\n",
              "      <th>Public transportation (excluding taxicab) 2012 (MOE)</th>\n",
              "      <th>state</th>\n",
              "      <th>county</th>\n",
              "    </tr>\n",
              "  </thead>\n",
              "  <tbody>\n",
              "    <tr>\n",
              "      <th>0</th>\n",
              "      <td>0500000US29115</td>\n",
              "      <td>Linn County, Missouri</td>\n",
              "      <td>5052</td>\n",
              "      <td>234</td>\n",
              "      <td>0.0</td>\n",
              "      <td>0.1</td>\n",
              "      <td>29</td>\n",
              "      <td>115</td>\n",
              "    </tr>\n",
              "    <tr>\n",
              "      <th>1</th>\n",
              "      <td>0500000US29091</td>\n",
              "      <td>Howell County, Missouri</td>\n",
              "      <td>15623</td>\n",
              "      <td>560</td>\n",
              "      <td>0.3</td>\n",
              "      <td>0.3</td>\n",
              "      <td>29</td>\n",
              "      <td>091</td>\n",
              "    </tr>\n",
              "    <tr>\n",
              "      <th>2</th>\n",
              "      <td>0500000US29101</td>\n",
              "      <td>Johnson County, Missouri</td>\n",
              "      <td>25227</td>\n",
              "      <td>677</td>\n",
              "      <td>0.3</td>\n",
              "      <td>0.2</td>\n",
              "      <td>29</td>\n",
              "      <td>101</td>\n",
              "    </tr>\n",
              "    <tr>\n",
              "      <th>3</th>\n",
              "      <td>0500000US29105</td>\n",
              "      <td>Laclede County, Missouri</td>\n",
              "      <td>15019</td>\n",
              "      <td>481</td>\n",
              "      <td>0.1</td>\n",
              "      <td>0.2</td>\n",
              "      <td>29</td>\n",
              "      <td>105</td>\n",
              "    </tr>\n",
              "    <tr>\n",
              "      <th>4</th>\n",
              "      <td>0500000US29125</td>\n",
              "      <td>Maries County, Missouri</td>\n",
              "      <td>3830</td>\n",
              "      <td>246</td>\n",
              "      <td>0.4</td>\n",
              "      <td>0.6</td>\n",
              "      <td>29</td>\n",
              "      <td>125</td>\n",
              "    </tr>\n",
              "  </tbody>\n",
              "</table>\n",
              "</div>"
            ],
            "text/plain": [
              "        Geography      Geographic Area Name  ...  state  county\n",
              "0  0500000US29115     Linn County, Missouri  ...     29     115\n",
              "1  0500000US29091   Howell County, Missouri  ...     29     091\n",
              "2  0500000US29101  Johnson County, Missouri  ...     29     101\n",
              "3  0500000US29105  Laclede County, Missouri  ...     29     105\n",
              "4  0500000US29125   Maries County, Missouri  ...     29     125\n",
              "\n",
              "[5 rows x 8 columns]"
            ]
          },
          "execution_count": 23,
          "metadata": {},
          "output_type": "execute_result"
        }
      ],
      "source": [
        "acs_df['2012'].head()"
      ]
    },
    {
      "cell_type": "code",
      "execution_count": null,
      "metadata": {
        "colab": {
          "base_uri": "https://localhost:8080/",
          "height": 430
        },
        "id": "1sTUBFDPo1mu",
        "outputId": "10ebcea1-bf0d-4afa-f502-4531e519abb1",
        "vscode": {
          "languageId": "python"
        }
      },
      "outputs": [
        {
          "data": {
            "text/html": [
              "<div>\n",
              "<style scoped>\n",
              "    .dataframe tbody tr th:only-of-type {\n",
              "        vertical-align: middle;\n",
              "    }\n",
              "\n",
              "    .dataframe tbody tr th {\n",
              "        vertical-align: top;\n",
              "    }\n",
              "\n",
              "    .dataframe thead th {\n",
              "        text-align: right;\n",
              "    }\n",
              "</style>\n",
              "<table border=\"1\" class=\"dataframe\">\n",
              "  <thead>\n",
              "    <tr style=\"text-align: right;\">\n",
              "      <th></th>\n",
              "      <th>Geography</th>\n",
              "      <th>Geographic Area Name</th>\n",
              "      <th>Workers 16 years and over 2019 (Estimate)</th>\n",
              "      <th>Workers 16 years and over 2019 (MOE)</th>\n",
              "      <th>Public transportation (excluding taxicab) 2019 (Estimate)</th>\n",
              "      <th>Public transportation (excluding taxicab) 2019 (MOE)</th>\n",
              "      <th>state</th>\n",
              "      <th>county</th>\n",
              "    </tr>\n",
              "  </thead>\n",
              "  <tbody>\n",
              "    <tr>\n",
              "      <th>0</th>\n",
              "      <td>0500000US17051</td>\n",
              "      <td>Fayette County, Illinois</td>\n",
              "      <td>8633</td>\n",
              "      <td>353</td>\n",
              "      <td>0.8</td>\n",
              "      <td>0.4</td>\n",
              "      <td>17</td>\n",
              "      <td>051</td>\n",
              "    </tr>\n",
              "    <tr>\n",
              "      <th>1</th>\n",
              "      <td>0500000US17107</td>\n",
              "      <td>Logan County, Illinois</td>\n",
              "      <td>12211</td>\n",
              "      <td>378</td>\n",
              "      <td>0.4</td>\n",
              "      <td>0.3</td>\n",
              "      <td>17</td>\n",
              "      <td>107</td>\n",
              "    </tr>\n",
              "    <tr>\n",
              "      <th>2</th>\n",
              "      <td>0500000US17165</td>\n",
              "      <td>Saline County, Illinois</td>\n",
              "      <td>9631</td>\n",
              "      <td>334</td>\n",
              "      <td>0.9</td>\n",
              "      <td>0.6</td>\n",
              "      <td>17</td>\n",
              "      <td>165</td>\n",
              "    </tr>\n",
              "    <tr>\n",
              "      <th>3</th>\n",
              "      <td>0500000US17097</td>\n",
              "      <td>Lake County, Illinois</td>\n",
              "      <td>355918</td>\n",
              "      <td>2280</td>\n",
              "      <td>4.4</td>\n",
              "      <td>0.2</td>\n",
              "      <td>17</td>\n",
              "      <td>097</td>\n",
              "    </tr>\n",
              "    <tr>\n",
              "      <th>4</th>\n",
              "      <td>0500000US17127</td>\n",
              "      <td>Massac County, Illinois</td>\n",
              "      <td>5602</td>\n",
              "      <td>268</td>\n",
              "      <td>0.3</td>\n",
              "      <td>0.5</td>\n",
              "      <td>17</td>\n",
              "      <td>127</td>\n",
              "    </tr>\n",
              "  </tbody>\n",
              "</table>\n",
              "</div>"
            ],
            "text/plain": [
              "        Geography      Geographic Area Name  ...  state  county\n",
              "0  0500000US17051  Fayette County, Illinois  ...     17     051\n",
              "1  0500000US17107    Logan County, Illinois  ...     17     107\n",
              "2  0500000US17165   Saline County, Illinois  ...     17     165\n",
              "3  0500000US17097     Lake County, Illinois  ...     17     097\n",
              "4  0500000US17127   Massac County, Illinois  ...     17     127\n",
              "\n",
              "[5 rows x 8 columns]"
            ]
          },
          "execution_count": 24,
          "metadata": {},
          "output_type": "execute_result"
        }
      ],
      "source": [
        "acs_df['2019'].head()"
      ]
    },
    {
      "cell_type": "code",
      "execution_count": null,
      "metadata": {
        "colab": {
          "base_uri": "https://localhost:8080/",
          "height": 485
        },
        "id": "-SccRvo6oYw7",
        "outputId": "14c52278-4556-42b9-ddbc-17653b2bbfa1",
        "vscode": {
          "languageId": "python"
        }
      },
      "outputs": [
        {
          "data": {
            "text/html": [
              "<div>\n",
              "<style scoped>\n",
              "    .dataframe tbody tr th:only-of-type {\n",
              "        vertical-align: middle;\n",
              "    }\n",
              "\n",
              "    .dataframe tbody tr th {\n",
              "        vertical-align: top;\n",
              "    }\n",
              "\n",
              "    .dataframe thead th {\n",
              "        text-align: right;\n",
              "    }\n",
              "</style>\n",
              "<table border=\"1\" class=\"dataframe\">\n",
              "  <thead>\n",
              "    <tr style=\"text-align: right;\">\n",
              "      <th></th>\n",
              "      <th>Geography</th>\n",
              "      <th>Geographic Area Name</th>\n",
              "      <th>Workers 16 years and over 2012 (Estimate)</th>\n",
              "      <th>Workers 16 years and over 2012 (MOE)</th>\n",
              "      <th>Public transportation (excluding taxicab) 2012 (Estimate)</th>\n",
              "      <th>Public transportation (excluding taxicab) 2012 (MOE)</th>\n",
              "      <th>state_x</th>\n",
              "      <th>county_x</th>\n",
              "      <th>Workers 16 years and over 2019 (Estimate)</th>\n",
              "      <th>Workers 16 years and over 2019 (MOE)</th>\n",
              "      <th>Public transportation (excluding taxicab) 2019 (Estimate)</th>\n",
              "      <th>Public transportation (excluding taxicab) 2019 (MOE)</th>\n",
              "      <th>state_y</th>\n",
              "      <th>county_y</th>\n",
              "    </tr>\n",
              "  </thead>\n",
              "  <tbody>\n",
              "    <tr>\n",
              "      <th>0</th>\n",
              "      <td>0500000US29115</td>\n",
              "      <td>Linn County, Missouri</td>\n",
              "      <td>5052</td>\n",
              "      <td>234</td>\n",
              "      <td>0.0</td>\n",
              "      <td>0.1</td>\n",
              "      <td>29</td>\n",
              "      <td>115</td>\n",
              "      <td>5579</td>\n",
              "      <td>158</td>\n",
              "      <td>0.0</td>\n",
              "      <td>0.5</td>\n",
              "      <td>29</td>\n",
              "      <td>115</td>\n",
              "    </tr>\n",
              "    <tr>\n",
              "      <th>1</th>\n",
              "      <td>0500000US29091</td>\n",
              "      <td>Howell County, Missouri</td>\n",
              "      <td>15623</td>\n",
              "      <td>560</td>\n",
              "      <td>0.3</td>\n",
              "      <td>0.3</td>\n",
              "      <td>29</td>\n",
              "      <td>091</td>\n",
              "      <td>16210</td>\n",
              "      <td>514</td>\n",
              "      <td>0.4</td>\n",
              "      <td>0.4</td>\n",
              "      <td>29</td>\n",
              "      <td>091</td>\n",
              "    </tr>\n",
              "    <tr>\n",
              "      <th>2</th>\n",
              "      <td>0500000US29101</td>\n",
              "      <td>Johnson County, Missouri</td>\n",
              "      <td>25227</td>\n",
              "      <td>677</td>\n",
              "      <td>0.3</td>\n",
              "      <td>0.2</td>\n",
              "      <td>29</td>\n",
              "      <td>101</td>\n",
              "      <td>26742</td>\n",
              "      <td>682</td>\n",
              "      <td>0.2</td>\n",
              "      <td>0.1</td>\n",
              "      <td>29</td>\n",
              "      <td>101</td>\n",
              "    </tr>\n",
              "    <tr>\n",
              "      <th>3</th>\n",
              "      <td>0500000US29105</td>\n",
              "      <td>Laclede County, Missouri</td>\n",
              "      <td>15019</td>\n",
              "      <td>481</td>\n",
              "      <td>0.1</td>\n",
              "      <td>0.2</td>\n",
              "      <td>29</td>\n",
              "      <td>105</td>\n",
              "      <td>15395</td>\n",
              "      <td>663</td>\n",
              "      <td>0.0</td>\n",
              "      <td>0.2</td>\n",
              "      <td>29</td>\n",
              "      <td>105</td>\n",
              "    </tr>\n",
              "    <tr>\n",
              "      <th>4</th>\n",
              "      <td>0500000US29125</td>\n",
              "      <td>Maries County, Missouri</td>\n",
              "      <td>3830</td>\n",
              "      <td>246</td>\n",
              "      <td>0.4</td>\n",
              "      <td>0.6</td>\n",
              "      <td>29</td>\n",
              "      <td>125</td>\n",
              "      <td>3716</td>\n",
              "      <td>254</td>\n",
              "      <td>0.2</td>\n",
              "      <td>0.3</td>\n",
              "      <td>29</td>\n",
              "      <td>125</td>\n",
              "    </tr>\n",
              "  </tbody>\n",
              "</table>\n",
              "</div>"
            ],
            "text/plain": [
              "        Geography      Geographic Area Name  ...  state_y  county_y\n",
              "0  0500000US29115     Linn County, Missouri  ...       29       115\n",
              "1  0500000US29091   Howell County, Missouri  ...       29       091\n",
              "2  0500000US29101  Johnson County, Missouri  ...       29       101\n",
              "3  0500000US29105  Laclede County, Missouri  ...       29       105\n",
              "4  0500000US29125   Maries County, Missouri  ...       29       125\n",
              "\n",
              "[5 rows x 14 columns]"
            ]
          },
          "execution_count": 25,
          "metadata": {},
          "output_type": "execute_result"
        }
      ],
      "source": [
        "merge_df = pd.merge(left = acs_df['2012'],\n",
        "                    right = acs_df['2019'],\n",
        "                    left_on = ['Geography','Geographic Area Name'],\n",
        "                    right_on = ['Geography','Geographic Area Name'],\n",
        "                    how = 'inner')\n",
        "merge_df.head()"
      ]
    },
    {
      "cell_type": "code",
      "execution_count": null,
      "metadata": {
        "colab": {
          "base_uri": "https://localhost:8080/",
          "height": 142
        },
        "id": "GTnjDizMXi5C",
        "outputId": "6959ff8c-4dea-4537-98ba-bcc4ed74377a",
        "vscode": {
          "languageId": "python"
        }
      },
      "outputs": [
        {
          "data": {
            "text/html": [
              "<style  type=\"text/css\" >\n",
              "#T_55d35e1a_278a_11ec_89a4_0242ac1c0002row0_col0,#T_55d35e1a_278a_11ec_89a4_0242ac1c0002row0_col1,#T_55d35e1a_278a_11ec_89a4_0242ac1c0002row0_col2,#T_55d35e1a_278a_11ec_89a4_0242ac1c0002row0_col3,#T_55d35e1a_278a_11ec_89a4_0242ac1c0002row0_col4,#T_55d35e1a_278a_11ec_89a4_0242ac1c0002row0_col5,#T_55d35e1a_278a_11ec_89a4_0242ac1c0002row0_col6,#T_55d35e1a_278a_11ec_89a4_0242ac1c0002row0_col7,#T_55d35e1a_278a_11ec_89a4_0242ac1c0002row1_col0,#T_55d35e1a_278a_11ec_89a4_0242ac1c0002row1_col1,#T_55d35e1a_278a_11ec_89a4_0242ac1c0002row1_col2,#T_55d35e1a_278a_11ec_89a4_0242ac1c0002row1_col3,#T_55d35e1a_278a_11ec_89a4_0242ac1c0002row1_col4,#T_55d35e1a_278a_11ec_89a4_0242ac1c0002row1_col5,#T_55d35e1a_278a_11ec_89a4_0242ac1c0002row1_col6,#T_55d35e1a_278a_11ec_89a4_0242ac1c0002row1_col7,#T_55d35e1a_278a_11ec_89a4_0242ac1c0002row2_col0,#T_55d35e1a_278a_11ec_89a4_0242ac1c0002row2_col1,#T_55d35e1a_278a_11ec_89a4_0242ac1c0002row2_col2,#T_55d35e1a_278a_11ec_89a4_0242ac1c0002row2_col3,#T_55d35e1a_278a_11ec_89a4_0242ac1c0002row2_col4,#T_55d35e1a_278a_11ec_89a4_0242ac1c0002row2_col5,#T_55d35e1a_278a_11ec_89a4_0242ac1c0002row2_col6,#T_55d35e1a_278a_11ec_89a4_0242ac1c0002row2_col7,#T_55d35e1a_278a_11ec_89a4_0242ac1c0002row3_col0,#T_55d35e1a_278a_11ec_89a4_0242ac1c0002row3_col1,#T_55d35e1a_278a_11ec_89a4_0242ac1c0002row3_col2,#T_55d35e1a_278a_11ec_89a4_0242ac1c0002row3_col3,#T_55d35e1a_278a_11ec_89a4_0242ac1c0002row3_col4,#T_55d35e1a_278a_11ec_89a4_0242ac1c0002row3_col5,#T_55d35e1a_278a_11ec_89a4_0242ac1c0002row3_col6,#T_55d35e1a_278a_11ec_89a4_0242ac1c0002row3_col7{\n",
              "            text-align:  right;\n",
              "        }</style><table id=\"T_55d35e1a_278a_11ec_89a4_0242ac1c0002\" ><caption>Table 3. Descriptive statistics for variables by county, 2012 & 2019 5-year ACS.</caption><thead>    <tr>        <th class=\"blank level0\" ></th>        <th class=\"col_heading level0 col0\" >count</th>        <th class=\"col_heading level0 col1\" >mean</th>        <th class=\"col_heading level0 col2\" >std</th>        <th class=\"col_heading level0 col3\" >min</th>        <th class=\"col_heading level0 col4\" >25%</th>        <th class=\"col_heading level0 col5\" >50%</th>        <th class=\"col_heading level0 col6\" >75%</th>        <th class=\"col_heading level0 col7\" >max</th>    </tr></thead><tbody>\n",
              "                <tr>\n",
              "                        <th id=\"T_55d35e1a_278a_11ec_89a4_0242ac1c0002level0_row0\" class=\"row_heading level0 row0\" >Public transportation (excluding taxicab) 2012 (Estimate)</th>\n",
              "                        <td id=\"T_55d35e1a_278a_11ec_89a4_0242ac1c0002row0_col0\" class=\"data row0 col0\" >3,217.00</td>\n",
              "                        <td id=\"T_55d35e1a_278a_11ec_89a4_0242ac1c0002row0_col1\" class=\"data row0 col1\" >0.97</td>\n",
              "                        <td id=\"T_55d35e1a_278a_11ec_89a4_0242ac1c0002row0_col2\" class=\"data row0 col2\" >3.00</td>\n",
              "                        <td id=\"T_55d35e1a_278a_11ec_89a4_0242ac1c0002row0_col3\" class=\"data row0 col3\" >0.00</td>\n",
              "                        <td id=\"T_55d35e1a_278a_11ec_89a4_0242ac1c0002row0_col4\" class=\"data row0 col4\" >0.10</td>\n",
              "                        <td id=\"T_55d35e1a_278a_11ec_89a4_0242ac1c0002row0_col5\" class=\"data row0 col5\" >0.40</td>\n",
              "                        <td id=\"T_55d35e1a_278a_11ec_89a4_0242ac1c0002row0_col6\" class=\"data row0 col6\" >0.80</td>\n",
              "                        <td id=\"T_55d35e1a_278a_11ec_89a4_0242ac1c0002row0_col7\" class=\"data row0 col7\" >60.80</td>\n",
              "            </tr>\n",
              "            <tr>\n",
              "                        <th id=\"T_55d35e1a_278a_11ec_89a4_0242ac1c0002level0_row1\" class=\"row_heading level0 row1\" >Public transportation (excluding taxicab) 2012 (MOE)</th>\n",
              "                        <td id=\"T_55d35e1a_278a_11ec_89a4_0242ac1c0002row1_col0\" class=\"data row1 col0\" >3,217.00</td>\n",
              "                        <td id=\"T_55d35e1a_278a_11ec_89a4_0242ac1c0002row1_col1\" class=\"data row1 col1\" >0.66</td>\n",
              "                        <td id=\"T_55d35e1a_278a_11ec_89a4_0242ac1c0002row1_col2\" class=\"data row1 col2\" >1.46</td>\n",
              "                        <td id=\"T_55d35e1a_278a_11ec_89a4_0242ac1c0002row1_col3\" class=\"data row1 col3\" >0.10</td>\n",
              "                        <td id=\"T_55d35e1a_278a_11ec_89a4_0242ac1c0002row1_col4\" class=\"data row1 col4\" >0.20</td>\n",
              "                        <td id=\"T_55d35e1a_278a_11ec_89a4_0242ac1c0002row1_col5\" class=\"data row1 col5\" >0.30</td>\n",
              "                        <td id=\"T_55d35e1a_278a_11ec_89a4_0242ac1c0002row1_col6\" class=\"data row1 col6\" >0.70</td>\n",
              "                        <td id=\"T_55d35e1a_278a_11ec_89a4_0242ac1c0002row1_col7\" class=\"data row1 col7\" >40.00</td>\n",
              "            </tr>\n",
              "            <tr>\n",
              "                        <th id=\"T_55d35e1a_278a_11ec_89a4_0242ac1c0002level0_row2\" class=\"row_heading level0 row2\" >Public transportation (excluding taxicab) 2019 (Estimate)</th>\n",
              "                        <td id=\"T_55d35e1a_278a_11ec_89a4_0242ac1c0002row2_col0\" class=\"data row2 col0\" >3,217.00</td>\n",
              "                        <td id=\"T_55d35e1a_278a_11ec_89a4_0242ac1c0002row2_col1\" class=\"data row2 col1\" >0.91</td>\n",
              "                        <td id=\"T_55d35e1a_278a_11ec_89a4_0242ac1c0002row2_col2\" class=\"data row2 col2\" >3.05</td>\n",
              "                        <td id=\"T_55d35e1a_278a_11ec_89a4_0242ac1c0002row2_col3\" class=\"data row2 col3\" >0.00</td>\n",
              "                        <td id=\"T_55d35e1a_278a_11ec_89a4_0242ac1c0002row2_col4\" class=\"data row2 col4\" >0.10</td>\n",
              "                        <td id=\"T_55d35e1a_278a_11ec_89a4_0242ac1c0002row2_col5\" class=\"data row2 col5\" >0.30</td>\n",
              "                        <td id=\"T_55d35e1a_278a_11ec_89a4_0242ac1c0002row2_col6\" class=\"data row2 col6\" >0.70</td>\n",
              "                        <td id=\"T_55d35e1a_278a_11ec_89a4_0242ac1c0002row2_col7\" class=\"data row2 col7\" >61.20</td>\n",
              "            </tr>\n",
              "            <tr>\n",
              "                        <th id=\"T_55d35e1a_278a_11ec_89a4_0242ac1c0002level0_row3\" class=\"row_heading level0 row3\" >Public transportation (excluding taxicab) 2019 (MOE)</th>\n",
              "                        <td id=\"T_55d35e1a_278a_11ec_89a4_0242ac1c0002row3_col0\" class=\"data row3 col0\" >3,217.00</td>\n",
              "                        <td id=\"T_55d35e1a_278a_11ec_89a4_0242ac1c0002row3_col1\" class=\"data row3 col1\" >0.67</td>\n",
              "                        <td id=\"T_55d35e1a_278a_11ec_89a4_0242ac1c0002row3_col2\" class=\"data row3 col2\" >1.55</td>\n",
              "                        <td id=\"T_55d35e1a_278a_11ec_89a4_0242ac1c0002row3_col3\" class=\"data row3 col3\" >0.10</td>\n",
              "                        <td id=\"T_55d35e1a_278a_11ec_89a4_0242ac1c0002row3_col4\" class=\"data row3 col4\" >0.20</td>\n",
              "                        <td id=\"T_55d35e1a_278a_11ec_89a4_0242ac1c0002row3_col5\" class=\"data row3 col5\" >0.30</td>\n",
              "                        <td id=\"T_55d35e1a_278a_11ec_89a4_0242ac1c0002row3_col6\" class=\"data row3 col6\" >0.60</td>\n",
              "                        <td id=\"T_55d35e1a_278a_11ec_89a4_0242ac1c0002row3_col7\" class=\"data row3 col7\" >59.00</td>\n",
              "            </tr>\n",
              "    </tbody></table>"
            ],
            "text/plain": [
              "<pandas.io.formats.style.Styler at 0x7f11ee200090>"
            ]
          },
          "execution_count": 26,
          "metadata": {},
          "output_type": "execute_result"
        }
      ],
      "source": [
        "float_col_list = list(merge_df.select_dtypes(include=['float']).columns)\n",
        "table3 = merge_df[float_col_list].describe().T\n",
        "varformat = \"{:,.2f}\" # The variable format adds a comma and rounds up\n",
        "table_title = \"Table 3. Descriptive statistics for variables by county, 2012 & 2019 5-year ACS.\"\n",
        "table3 = table3.style.set_caption(table_title).format(varformat).set_properties(**{'text-align': 'right'})\n",
        "table3"
      ]
    },
    {
      "cell_type": "markdown",
      "metadata": {
        "id": "3q0qFN6opdyS"
      },
      "source": [
        "### 3.3 Clean Up Merge File\n",
        "Notice that the merge file has several columns (variables) that have repeated information. All three datafiles had a column called `name`. The name column is a good way to see that the merge has worked correctly. In this step we will also rename the columns."
      ]
    },
    {
      "cell_type": "markdown",
      "metadata": {
        "id": "vnIMKNioYKds"
      },
      "source": [
        "### 3.3.1 Remove repeated columns"
      ]
    },
    {
      "cell_type": "code",
      "execution_count": null,
      "metadata": {
        "colab": {
          "base_uri": "https://localhost:8080/",
          "height": 485
        },
        "id": "UtkICtZfrmLJ",
        "outputId": "bc48b79f-ac6d-4452-e463-4a187b49de11",
        "vscode": {
          "languageId": "python"
        }
      },
      "outputs": [
        {
          "data": {
            "text/html": [
              "<div>\n",
              "<style scoped>\n",
              "    .dataframe tbody tr th:only-of-type {\n",
              "        vertical-align: middle;\n",
              "    }\n",
              "\n",
              "    .dataframe tbody tr th {\n",
              "        vertical-align: top;\n",
              "    }\n",
              "\n",
              "    .dataframe thead th {\n",
              "        text-align: right;\n",
              "    }\n",
              "</style>\n",
              "<table border=\"1\" class=\"dataframe\">\n",
              "  <thead>\n",
              "    <tr style=\"text-align: right;\">\n",
              "      <th></th>\n",
              "      <th>Geography</th>\n",
              "      <th>Geographic Area Name</th>\n",
              "      <th>Workers 16 years and over 2012 (Estimate)</th>\n",
              "      <th>Workers 16 years and over 2012 (MOE)</th>\n",
              "      <th>Public transportation (excluding taxicab) 2012 (Estimate)</th>\n",
              "      <th>Public transportation (excluding taxicab) 2012 (MOE)</th>\n",
              "      <th>state_x</th>\n",
              "      <th>county_x</th>\n",
              "      <th>Workers 16 years and over 2019 (Estimate)</th>\n",
              "      <th>Workers 16 years and over 2019 (MOE)</th>\n",
              "      <th>Public transportation (excluding taxicab) 2019 (Estimate)</th>\n",
              "      <th>Public transportation (excluding taxicab) 2019 (MOE)</th>\n",
              "    </tr>\n",
              "  </thead>\n",
              "  <tbody>\n",
              "    <tr>\n",
              "      <th>0</th>\n",
              "      <td>0500000US29115</td>\n",
              "      <td>Linn County, Missouri</td>\n",
              "      <td>5052</td>\n",
              "      <td>234</td>\n",
              "      <td>0.0</td>\n",
              "      <td>0.1</td>\n",
              "      <td>29</td>\n",
              "      <td>115</td>\n",
              "      <td>5579</td>\n",
              "      <td>158</td>\n",
              "      <td>0.0</td>\n",
              "      <td>0.5</td>\n",
              "    </tr>\n",
              "    <tr>\n",
              "      <th>1</th>\n",
              "      <td>0500000US29091</td>\n",
              "      <td>Howell County, Missouri</td>\n",
              "      <td>15623</td>\n",
              "      <td>560</td>\n",
              "      <td>0.3</td>\n",
              "      <td>0.3</td>\n",
              "      <td>29</td>\n",
              "      <td>091</td>\n",
              "      <td>16210</td>\n",
              "      <td>514</td>\n",
              "      <td>0.4</td>\n",
              "      <td>0.4</td>\n",
              "    </tr>\n",
              "    <tr>\n",
              "      <th>2</th>\n",
              "      <td>0500000US29101</td>\n",
              "      <td>Johnson County, Missouri</td>\n",
              "      <td>25227</td>\n",
              "      <td>677</td>\n",
              "      <td>0.3</td>\n",
              "      <td>0.2</td>\n",
              "      <td>29</td>\n",
              "      <td>101</td>\n",
              "      <td>26742</td>\n",
              "      <td>682</td>\n",
              "      <td>0.2</td>\n",
              "      <td>0.1</td>\n",
              "    </tr>\n",
              "    <tr>\n",
              "      <th>3</th>\n",
              "      <td>0500000US29105</td>\n",
              "      <td>Laclede County, Missouri</td>\n",
              "      <td>15019</td>\n",
              "      <td>481</td>\n",
              "      <td>0.1</td>\n",
              "      <td>0.2</td>\n",
              "      <td>29</td>\n",
              "      <td>105</td>\n",
              "      <td>15395</td>\n",
              "      <td>663</td>\n",
              "      <td>0.0</td>\n",
              "      <td>0.2</td>\n",
              "    </tr>\n",
              "    <tr>\n",
              "      <th>4</th>\n",
              "      <td>0500000US29125</td>\n",
              "      <td>Maries County, Missouri</td>\n",
              "      <td>3830</td>\n",
              "      <td>246</td>\n",
              "      <td>0.4</td>\n",
              "      <td>0.6</td>\n",
              "      <td>29</td>\n",
              "      <td>125</td>\n",
              "      <td>3716</td>\n",
              "      <td>254</td>\n",
              "      <td>0.2</td>\n",
              "      <td>0.3</td>\n",
              "    </tr>\n",
              "  </tbody>\n",
              "</table>\n",
              "</div>"
            ],
            "text/plain": [
              "        Geography  ... Public transportation (excluding taxicab) 2019 (MOE)\n",
              "0  0500000US29115  ...                                                0.5  \n",
              "1  0500000US29091  ...                                                0.4  \n",
              "2  0500000US29101  ...                                                0.1  \n",
              "3  0500000US29105  ...                                                0.2  \n",
              "4  0500000US29125  ...                                                0.3  \n",
              "\n",
              "[5 rows x 12 columns]"
            ]
          },
          "execution_count": 27,
          "metadata": {},
          "output_type": "execute_result"
        }
      ],
      "source": [
        "## The state and county columns also match - we can drop the repeated columns\n",
        "merge_df = merge_df.drop(['state_y','county_y'], axis = 1)\n",
        "merge_df.head()"
      ]
    },
    {
      "cell_type": "markdown",
      "metadata": {
        "id": "Fqp0Ji4yYF4s"
      },
      "source": [
        "### 3.3.2 Add new variable\n",
        "Add difference between ACS statiscs"
      ]
    },
    {
      "cell_type": "code",
      "execution_count": null,
      "metadata": {
        "colab": {
          "base_uri": "https://localhost:8080/"
        },
        "id": "K0kUJd26YFVC",
        "outputId": "d40c61cf-f5a6-44fa-f958-d49c1b497906",
        "vscode": {
          "languageId": "python"
        }
      },
      "outputs": [
        {
          "data": {
            "text/plain": [
              "count    3217.000000\n",
              "mean       -0.067454\n",
              "std         0.810308\n",
              "min       -17.000000\n",
              "25%        -0.300000\n",
              "50%         0.000000\n",
              "75%         0.200000\n",
              "max        18.400000\n",
              "Name: Difference between Percents, dtype: float64"
            ]
          },
          "execution_count": 29,
          "metadata": {},
          "output_type": "execute_result"
        }
      ],
      "source": [
        "percent1 = 'Public transportation (excluding taxicab) 2019 (Estimate)'\n",
        "percent2 = 'Public transportation (excluding taxicab) 2012 (Estimate)'\n",
        "merge_df.loc[:,'Difference between Percents'] = (merge_df[percent1]) - (merge_df[percent2])\n",
        "merge_df['Difference between Percents'].describe()"
      ]
    },
    {
      "cell_type": "markdown",
      "metadata": {
        "id": "t4vgRLTiagNe"
      },
      "source": [
        "Add standard error for the pooled estimate"
      ]
    },
    {
      "cell_type": "code",
      "execution_count": null,
      "metadata": {
        "colab": {
          "base_uri": "https://localhost:8080/"
        },
        "id": "Sra6lKdKYFLC",
        "outputId": "fd726d99-8a96-4d75-8c2a-84e6ec4b531a",
        "vscode": {
          "languageId": "python"
        }
      },
      "outputs": [
        {
          "data": {
            "text/plain": [
              "count    3217.000000\n",
              "mean        3.725210\n",
              "std         2.794229\n",
              "min         0.023168\n",
              "25%         1.661701\n",
              "50%         3.054688\n",
              "75%         5.201947\n",
              "max        11.631907\n",
              "Name: Difference Standard Error, dtype: float64"
            ]
          },
          "execution_count": 30,
          "metadata": {},
          "output_type": "execute_result"
        }
      ],
      "source": [
        "moe1 = 'Public transportation (excluding taxicab) 2019 (MOE)'\n",
        "moe2 = 'Public transportation (excluding taxicab) 2012 (MOE)'\n",
        "census_critical_value = 1.645\n",
        "merge_df.loc[:,'Standard Error 1'] = (merge_df[moe1])/census_critical_value\n",
        "merge_df.loc[:,'Standard Error 2'] = (merge_df[moe2])/census_critical_value\n",
        "merge_df.loc[:,'Difference Standard Error'] = (merge_df['Standard Error 1']**2 + merge_df['Standard Error 2']**2)**(1/2)\n",
        "merge_df['Difference Standard Error'].describe()"
      ]
    },
    {
      "cell_type": "markdown",
      "metadata": {
        "id": "LpiNRVTGdRRH"
      },
      "source": [
        "Add test statistic for difference"
      ]
    },
    {
      "cell_type": "code",
      "execution_count": null,
      "metadata": {
        "colab": {
          "base_uri": "https://localhost:8080/"
        },
        "id": "dCQZgzKndQyZ",
        "outputId": "ce96cd83-d293-47ab-cd89-b4df40a89c6a",
        "vscode": {
          "languageId": "python"
        }
      },
      "outputs": [
        {
          "data": {
            "text/plain": [
              "count    3217.000000\n",
              "mean        0.419156\n",
              "std         2.664195\n",
              "min         0.000000\n",
              "25%         0.017194\n",
              "50%         0.060790\n",
              "75%         0.203897\n",
              "max        74.078825\n",
              "Name: Test Statistic, dtype: float64"
            ]
          },
          "execution_count": 31,
          "metadata": {},
          "output_type": "execute_result"
        }
      ],
      "source": [
        "merge_df.loc[:,'Test Statistic'] = abs(merge_df['Difference between Percents'] / merge_df['Difference Standard Error'])\n",
        "merge_df['Test Statistic'].describe()"
      ]
    },
    {
      "cell_type": "markdown",
      "metadata": {
        "id": "pZSllxtht4A5"
      },
      "source": [
        "## Step 4: Explore Data\n",
        "### 4.1 - Which Counties had significant changes?"
      ]
    },
    {
      "cell_type": "code",
      "execution_count": null,
      "metadata": {
        "colab": {
          "base_uri": "https://localhost:8080/",
          "height": 353
        },
        "id": "3se4cCbdfy-C",
        "outputId": "1df367ee-1602-478d-8242-cbc328014637",
        "vscode": {
          "languageId": "python"
        }
      },
      "outputs": [
        {
          "data": {
            "text/html": [
              "<div>\n",
              "<style scoped>\n",
              "    .dataframe tbody tr th:only-of-type {\n",
              "        vertical-align: middle;\n",
              "    }\n",
              "\n",
              "    .dataframe tbody tr th {\n",
              "        vertical-align: top;\n",
              "    }\n",
              "\n",
              "    .dataframe thead th {\n",
              "        text-align: right;\n",
              "    }\n",
              "</style>\n",
              "<table border=\"1\" class=\"dataframe\">\n",
              "  <thead>\n",
              "    <tr style=\"text-align: right;\">\n",
              "      <th></th>\n",
              "      <th>Geography</th>\n",
              "      <th>Geographic Area Name</th>\n",
              "      <th>Workers 16 years and over 2012 (Estimate)</th>\n",
              "      <th>Workers 16 years and over 2012 (MOE)</th>\n",
              "      <th>Public transportation (excluding taxicab) 2012 (Estimate)</th>\n",
              "      <th>Public transportation (excluding taxicab) 2012 (MOE)</th>\n",
              "      <th>state_x</th>\n",
              "      <th>county_x</th>\n",
              "      <th>Workers 16 years and over 2019 (Estimate)</th>\n",
              "      <th>Workers 16 years and over 2019 (MOE)</th>\n",
              "      <th>Public transportation (excluding taxicab) 2019 (Estimate)</th>\n",
              "      <th>Public transportation (excluding taxicab) 2019 (MOE)</th>\n",
              "      <th>Difference between Percent</th>\n",
              "      <th>Difference between Percents</th>\n",
              "      <th>Standard Error 1</th>\n",
              "      <th>Standard Error 2</th>\n",
              "      <th>Difference Standard Error</th>\n",
              "      <th>Test Statistic</th>\n",
              "    </tr>\n",
              "  </thead>\n",
              "  <tbody>\n",
              "    <tr>\n",
              "      <th>603</th>\n",
              "      <td>0500000US48153</td>\n",
              "      <td>Floyd County, Texas</td>\n",
              "      <td>2841</td>\n",
              "      <td>179</td>\n",
              "      <td>0.0</td>\n",
              "      <td>1.3</td>\n",
              "      <td>48</td>\n",
              "      <td>153</td>\n",
              "      <td>2415</td>\n",
              "      <td>158</td>\n",
              "      <td>1.4</td>\n",
              "      <td>1.6</td>\n",
              "      <td>1.4</td>\n",
              "      <td>1.4</td>\n",
              "      <td>0.972644</td>\n",
              "      <td>0.790274</td>\n",
              "      <td>0.797942</td>\n",
              "      <td>1.754513</td>\n",
              "    </tr>\n",
              "    <tr>\n",
              "      <th>3057</th>\n",
              "      <td>0500000US48269</td>\n",
              "      <td>King County, Texas</td>\n",
              "      <td>147</td>\n",
              "      <td>47</td>\n",
              "      <td>0.0</td>\n",
              "      <td>22.3</td>\n",
              "      <td>48</td>\n",
              "      <td>269</td>\n",
              "      <td>113</td>\n",
              "      <td>32</td>\n",
              "      <td>5.3</td>\n",
              "      <td>5.6</td>\n",
              "      <td>5.3</td>\n",
              "      <td>5.3</td>\n",
              "      <td>3.404255</td>\n",
              "      <td>13.556231</td>\n",
              "      <td>0.071545</td>\n",
              "      <td>74.078825</td>\n",
              "    </tr>\n",
              "    <tr>\n",
              "      <th>3154</th>\n",
              "      <td>0500000US48103</td>\n",
              "      <td>Crane County, Texas</td>\n",
              "      <td>1664</td>\n",
              "      <td>126</td>\n",
              "      <td>0.0</td>\n",
              "      <td>2.2</td>\n",
              "      <td>48</td>\n",
              "      <td>103</td>\n",
              "      <td>2100</td>\n",
              "      <td>167</td>\n",
              "      <td>1.9</td>\n",
              "      <td>1.6</td>\n",
              "      <td>1.9</td>\n",
              "      <td>1.9</td>\n",
              "      <td>0.972644</td>\n",
              "      <td>1.337386</td>\n",
              "      <td>0.604714</td>\n",
              "      <td>3.141981</td>\n",
              "    </tr>\n",
              "  </tbody>\n",
              "</table>\n",
              "</div>"
            ],
            "text/plain": [
              "           Geography  ... Test Statistic\n",
              "603   0500000US48153  ...       1.754513\n",
              "3057  0500000US48269  ...      74.078825\n",
              "3154  0500000US48103  ...       3.141981\n",
              "\n",
              "[3 rows x 18 columns]"
            ]
          },
          "execution_count": 32,
          "metadata": {},
          "output_type": "execute_result"
        }
      ],
      "source": [
        "merge_df.loc[(merge_df['Test Statistic'] >= 1.645) & \n",
        "             (merge_df['Difference between Percents'] > 0) &\n",
        "             (merge_df['state_x'] == '48')]"
      ]
    },
    {
      "cell_type": "code",
      "execution_count": null,
      "metadata": {
        "colab": {
          "base_uri": "https://localhost:8080/",
          "height": 550
        },
        "id": "Yd0U_0R8AvYY",
        "outputId": "debb4b2e-c1d1-4381-d88a-b8aef34802a5",
        "vscode": {
          "languageId": "python"
        }
      },
      "outputs": [
        {
          "data": {
            "text/html": [
              "<div>\n",
              "<style scoped>\n",
              "    .dataframe tbody tr th:only-of-type {\n",
              "        vertical-align: middle;\n",
              "    }\n",
              "\n",
              "    .dataframe tbody tr th {\n",
              "        vertical-align: top;\n",
              "    }\n",
              "\n",
              "    .dataframe thead th {\n",
              "        text-align: right;\n",
              "    }\n",
              "</style>\n",
              "<table border=\"1\" class=\"dataframe\">\n",
              "  <thead>\n",
              "    <tr style=\"text-align: right;\">\n",
              "      <th></th>\n",
              "      <th>Geography</th>\n",
              "      <th>Geographic Area Name</th>\n",
              "      <th>Workers 16 years and over 2012 (Estimate)</th>\n",
              "      <th>Workers 16 years and over 2012 (MOE)</th>\n",
              "      <th>Public transportation (excluding taxicab) 2012 (Estimate)</th>\n",
              "      <th>Public transportation (excluding taxicab) 2012 (MOE)</th>\n",
              "      <th>state_x</th>\n",
              "      <th>county_x</th>\n",
              "      <th>Workers 16 years and over 2019 (Estimate)</th>\n",
              "      <th>Workers 16 years and over 2019 (MOE)</th>\n",
              "      <th>Public transportation (excluding taxicab) 2019 (Estimate)</th>\n",
              "      <th>Public transportation (excluding taxicab) 2019 (MOE)</th>\n",
              "      <th>Difference between Percent</th>\n",
              "      <th>Difference between Percents</th>\n",
              "      <th>Standard Error 1</th>\n",
              "      <th>Standard Error 2</th>\n",
              "      <th>Difference Standard Error</th>\n",
              "      <th>Test Statistic</th>\n",
              "    </tr>\n",
              "  </thead>\n",
              "  <tbody>\n",
              "    <tr>\n",
              "      <th>587</th>\n",
              "      <td>0500000US48485</td>\n",
              "      <td>Wichita County, Texas</td>\n",
              "      <td>61365</td>\n",
              "      <td>1185</td>\n",
              "      <td>0.4</td>\n",
              "      <td>0.2</td>\n",
              "      <td>48</td>\n",
              "      <td>485</td>\n",
              "      <td>60792</td>\n",
              "      <td>1204</td>\n",
              "      <td>0.6</td>\n",
              "      <td>0.2</td>\n",
              "      <td>0.2</td>\n",
              "      <td>0.2</td>\n",
              "      <td>0.121581</td>\n",
              "      <td>0.121581</td>\n",
              "      <td>5.815953</td>\n",
              "      <td>0.034388</td>\n",
              "    </tr>\n",
              "    <tr>\n",
              "      <th>606</th>\n",
              "      <td>0500000US48027</td>\n",
              "      <td>Bell County, Texas</td>\n",
              "      <td>141453</td>\n",
              "      <td>1753</td>\n",
              "      <td>0.3</td>\n",
              "      <td>0.1</td>\n",
              "      <td>48</td>\n",
              "      <td>027</td>\n",
              "      <td>156345</td>\n",
              "      <td>2006</td>\n",
              "      <td>0.5</td>\n",
              "      <td>0.2</td>\n",
              "      <td>0.2</td>\n",
              "      <td>0.2</td>\n",
              "      <td>0.121581</td>\n",
              "      <td>0.060790</td>\n",
              "      <td>7.356664</td>\n",
              "      <td>0.027186</td>\n",
              "    </tr>\n",
              "    <tr>\n",
              "      <th>616</th>\n",
              "      <td>0500000US48215</td>\n",
              "      <td>Hidalgo County, Texas</td>\n",
              "      <td>274317</td>\n",
              "      <td>3048</td>\n",
              "      <td>0.3</td>\n",
              "      <td>0.1</td>\n",
              "      <td>48</td>\n",
              "      <td>215</td>\n",
              "      <td>321731</td>\n",
              "      <td>3145</td>\n",
              "      <td>0.4</td>\n",
              "      <td>0.1</td>\n",
              "      <td>0.1</td>\n",
              "      <td>0.1</td>\n",
              "      <td>0.060790</td>\n",
              "      <td>0.060790</td>\n",
              "      <td>11.631907</td>\n",
              "      <td>0.008597</td>\n",
              "    </tr>\n",
              "    <tr>\n",
              "      <th>847</th>\n",
              "      <td>0500000US48491</td>\n",
              "      <td>Williamson County, Texas</td>\n",
              "      <td>208257</td>\n",
              "      <td>1832</td>\n",
              "      <td>0.5</td>\n",
              "      <td>0.1</td>\n",
              "      <td>48</td>\n",
              "      <td>491</td>\n",
              "      <td>275549</td>\n",
              "      <td>1905</td>\n",
              "      <td>0.9</td>\n",
              "      <td>0.1</td>\n",
              "      <td>0.4</td>\n",
              "      <td>0.4</td>\n",
              "      <td>0.060790</td>\n",
              "      <td>0.060790</td>\n",
              "      <td>11.631907</td>\n",
              "      <td>0.034388</td>\n",
              "    </tr>\n",
              "    <tr>\n",
              "      <th>3030</th>\n",
              "      <td>0500000US48121</td>\n",
              "      <td>Denton County, Texas</td>\n",
              "      <td>342383</td>\n",
              "      <td>2506</td>\n",
              "      <td>0.7</td>\n",
              "      <td>0.1</td>\n",
              "      <td>48</td>\n",
              "      <td>121</td>\n",
              "      <td>445453</td>\n",
              "      <td>2252</td>\n",
              "      <td>0.8</td>\n",
              "      <td>0.1</td>\n",
              "      <td>0.1</td>\n",
              "      <td>0.1</td>\n",
              "      <td>0.060790</td>\n",
              "      <td>0.060790</td>\n",
              "      <td>11.631907</td>\n",
              "      <td>0.008597</td>\n",
              "    </tr>\n",
              "    <tr>\n",
              "      <th>3147</th>\n",
              "      <td>0500000US48091</td>\n",
              "      <td>Comal County, Texas</td>\n",
              "      <td>50136</td>\n",
              "      <td>1095</td>\n",
              "      <td>0.1</td>\n",
              "      <td>0.1</td>\n",
              "      <td>48</td>\n",
              "      <td>091</td>\n",
              "      <td>65484</td>\n",
              "      <td>1117</td>\n",
              "      <td>0.2</td>\n",
              "      <td>0.1</td>\n",
              "      <td>0.1</td>\n",
              "      <td>0.1</td>\n",
              "      <td>0.060790</td>\n",
              "      <td>0.060790</td>\n",
              "      <td>11.631907</td>\n",
              "      <td>0.008597</td>\n",
              "    </tr>\n",
              "  </tbody>\n",
              "</table>\n",
              "</div>"
            ],
            "text/plain": [
              "           Geography  ... Test Statistic\n",
              "587   0500000US48485  ...       0.034388\n",
              "606   0500000US48027  ...       0.027186\n",
              "616   0500000US48215  ...       0.008597\n",
              "847   0500000US48491  ...       0.034388\n",
              "3030  0500000US48121  ...       0.008597\n",
              "3147  0500000US48091  ...       0.008597\n",
              "\n",
              "[6 rows x 18 columns]"
            ]
          },
          "execution_count": 34,
          "metadata": {},
          "output_type": "execute_result"
        }
      ],
      "source": [
        "merge_df.loc[(merge_df['Workers 16 years and over 2012 (Estimate)'] > 50000) &\n",
        "             (merge_df['Difference between Percents'] > 0) &\n",
        "             (merge_df['state_x'] == '48')]"
      ]
    }
  ],
  "metadata": {
    "colab": {
      "authorship_tag": "ABX9TyMA9wLQE/f+7MokqwO8L7Rb",
      "collapsed_sections": [],
      "include_colab_link": true,
      "name": "PLAN604_Comparison_of_two_proportions",
      "provenance": []
    },
    "kernelspec": {
      "display_name": "Python 3",
      "name": "python3"
    }
  },
  "nbformat": 4,
  "nbformat_minor": 0
}
