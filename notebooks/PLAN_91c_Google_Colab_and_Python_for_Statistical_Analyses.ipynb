{
  "cells": [
    {
      "cell_type": "markdown",
      "metadata": {
        "colab_type": "text",
        "id": "view-in-github"
      },
      "source": [
        "<a href=\"https://colab.research.google.com/github/npr99/PlanningMethods/blob/master/Google_Colab_and_Python_for_Statistical_Analyses.ipynb\" target=\"_parent\"><img src=\"https://colab.research.google.com/assets/colab-badge.svg\" alt=\"Open In Colab\"/></a>"
      ]
    },
    {
      "cell_type": "markdown",
      "metadata": {
        "id": "vu4FrXliNrCS"
      },
      "source": [
        "# Google Colab and Python for Statistical Analyses\n",
        "\n",
        "Major statistical software packages have procedures for the methods presented in Agresti (2018). This Google Colab Notebook (also called a Jupyter Notebook) discusses and illustrates the use of Python for these methods. We deal with basic use of the software rather than the great variety of options provided by the procedures. For ease of reference, the material is organized by chapter of presentation in this text. The full data files for most of the text examples and exercises are a vailable at:\n",
        "\n",
        "http://users.stat.ufl.edu/~aa/smss/data/\n",
        "\n",
        "Sections of this notebook are adapted from Agresit (2018) Appendix on Major Statitical Packages.\n",
        "\n",
        "Agresti, A. (2018). Statistical Methods for the Social Sciences. 5th Edition. Upper Saddle River, NJ: Pearson, Inc."
      ]
    },
    {
      "cell_type": "markdown",
      "metadata": {
        "id": "gdNb39GCOmmA"
      },
      "source": [
        "## Introduction to Python\n",
        "\n",
        "Python is a free software maintained and regularly updated by many volunteers. \n",
        "\n",
        "You can get help abut Python with many books tailored to implementing statistcal methods using Python and at many sites on the Internet, such as:\n",
        "\n",
        "Lavanya Vijayan (2019) Python Quick Start. Available on LinkedIn Learning\n",
        "https://www.linkedin.com/learning/python-quick-start/advance-your-career-with-python\n"
      ]
    },
    {
      "cell_type": "markdown",
      "metadata": {
        "id": "BU0QH9jjP2RC"
      },
      "source": [
        "### Python Packages\n",
        "\n",
        "Many packages have been created to perform analyses in Python. Each package must be imported into Google Colab (Jupyter Notebook) in order to use commands available in the package.\n",
        "A primary package required for working with datafiles is Pandas (https://pandas.pydata.org/)\n",
        "\n",
        "The next block of code imports pandas as \"pd\". When you see \"pd\" in a code block Python is calling on the Pandas library of commands."
      ]
    },
    {
      "cell_type": "code",
      "execution_count": null,
      "metadata": {
        "id": "X6hJAL6BOu1S"
      },
      "outputs": [],
      "source": [
        "import pandas as pd # For reading, writing and wrangling data"
      ]
    },
    {
      "cell_type": "markdown",
      "metadata": {
        "id": "y-rEFTw9THz2"
      },
      "source": [
        "## Read in an Agresti (2018) data file\n",
        "The next block of code reads a data file from the Agresti (2018) website.\n",
        "\n",
        "Often one of the most challanging parts of working with data is getting the data into the statistical software. Agresti (2018) presents an intersesting challange. The datafiles are in the .dat format. This format is basically a text file with the data seperated by whitespace.\n",
        "\n",
        "The Pandas (pd) command read table (read_table) provides the tools needed to read in textfiles with whitespace. This is a bit tricky (a [Google search resulted in a solution](https://stackoverflow.com/questions/16578573/python-pandas-with-large-disordered-text-files)). The seperator (sep) is set to \\s+ which is a regular expression for \"any amount of whitespace\". \n",
        "\n",
        "The next codeblock will work for any of the .dat data files on the Agresti (2018) website. The command reads in the [Crime.dat](http://users.stat.ufl.edu/~aa/smss/data/Crime.dat) file, seperates the data values into three columns:\n",
        "\n",
        "*   state = Two letter abbreviation for each state (AK = Alaska)\n",
        "*   violent = Violent crime rate in the state\n",
        "*   murder = Murder rate in the state\n",
        "\n",
        "The datafile is stored in the Pandas dataframe called Crime.\n",
        "\n",
        "The command Crime.head() provides a preview of the first 5 lines in the dataframe. Notice that for "
      ]
    },
    {
      "cell_type": "code",
      "execution_count": null,
      "metadata": {},
      "outputs": [],
      "source": [
        "# New version of python needs these lines to read webfiles\n",
        "# Issue with security on reading content from web\n",
        "# solution found at https://stackoverflow.com/questions/44629631/while-using-pandas-got-error-urlopen-error-ssl-certificate-verify-failed-cert\n",
        "import ssl\n",
        "ssl._create_default_https_context = ssl._create_unverified_context"
      ]
    },
    {
      "cell_type": "code",
      "execution_count": null,
      "metadata": {
        "colab": {
          "base_uri": "https://localhost:8080/",
          "height": 202
        },
        "id": "rX4XGVhqRgPE",
        "outputId": "b58fe213-e49b-49b9-f1b0-b0b57e74a3ba"
      },
      "outputs": [
        {
          "data": {
            "text/html": [
              "<div>\n",
              "<style scoped>\n",
              "    .dataframe tbody tr th:only-of-type {\n",
              "        vertical-align: middle;\n",
              "    }\n",
              "\n",
              "    .dataframe tbody tr th {\n",
              "        vertical-align: top;\n",
              "    }\n",
              "\n",
              "    .dataframe thead th {\n",
              "        text-align: right;\n",
              "    }\n",
              "</style>\n",
              "<table border=\"1\" class=\"dataframe\">\n",
              "  <thead>\n",
              "    <tr style=\"text-align: right;\">\n",
              "      <th></th>\n",
              "      <th>state</th>\n",
              "      <th>violent</th>\n",
              "      <th>murder</th>\n",
              "    </tr>\n",
              "  </thead>\n",
              "  <tbody>\n",
              "    <tr>\n",
              "      <th>0</th>\n",
              "      <td>AK</td>\n",
              "      <td>64</td>\n",
              "      <td>4.6</td>\n",
              "    </tr>\n",
              "    <tr>\n",
              "      <th>1</th>\n",
              "      <td>AL</td>\n",
              "      <td>43</td>\n",
              "      <td>7.2</td>\n",
              "    </tr>\n",
              "    <tr>\n",
              "      <th>2</th>\n",
              "      <td>AR</td>\n",
              "      <td>46</td>\n",
              "      <td>5.4</td>\n",
              "    </tr>\n",
              "    <tr>\n",
              "      <th>3</th>\n",
              "      <td>AZ</td>\n",
              "      <td>42</td>\n",
              "      <td>5.4</td>\n",
              "    </tr>\n",
              "    <tr>\n",
              "      <th>4</th>\n",
              "      <td>CA</td>\n",
              "      <td>40</td>\n",
              "      <td>4.6</td>\n",
              "    </tr>\n",
              "  </tbody>\n",
              "</table>\n",
              "</div>"
            ],
            "text/plain": [
              "  state  violent  murder\n",
              "0    AK       64     4.6\n",
              "1    AL       43     7.2\n",
              "2    AR       46     5.4\n",
              "3    AZ       42     5.4\n",
              "4    CA       40     4.6"
            ]
          },
          "execution_count": 26,
          "metadata": {
            "tags": []
          },
          "output_type": "execute_result"
        }
      ],
      "source": [
        "Crime = pd.read_table(\"http://users.stat.ufl.edu/~aa/smss/data/Crime.dat\", sep=\"\\s+\")\n",
        "Crime.head()"
      ]
    },
    {
      "cell_type": "markdown",
      "metadata": {
        "id": "qJ9zmVGgf_mH"
      },
      "source": [
        "## Chapter 2: Sampling and Measurement\n",
        "\n",
        "On page 16, we showed how to select a simple random sample, to select four people from a population numbered 1 to 60.\n",
        "\n",
        "In Python we will need the package `random` and the function `sample`."
      ]
    },
    {
      "cell_type": "code",
      "execution_count": null,
      "metadata": {
        "id": "_0VdzIrff_7F"
      },
      "outputs": [],
      "source": [
        "import random  \n",
        "from random import sample "
      ]
    },
    {
      "cell_type": "code",
      "execution_count": null,
      "metadata": {
        "colab": {
          "base_uri": "https://localhost:8080/",
          "height": 55
        },
        "id": "plMGuDBagDsf",
        "outputId": "2b1a07b2-d7e3-4850-bd88-db83c06947da"
      },
      "outputs": [
        {
          "name": "stdout",
          "output_type": "stream",
          "text": [
            "[1, 2, 3, 4, 5, 6, 7, 8, 9, 10, 11, 12, 13, 14, 15, 16, 17, 18, 19, 20, 21, 22, 23, 24, 25, 26, 27, 28, 29, 30, 31, 32, 33, 34, 35, 36, 37, 38, 39, 40, 41, 42, 43, 44, 45, 46, 47, 48, 49, 50, 51, 52, 53, 54, 55, 56, 57, 58, 59]\n"
          ]
        }
      ],
      "source": [
        "# Create a list from 1 to 60\n",
        "list = [*range(1, 60)] \n",
        "print(list) "
      ]
    },
    {
      "cell_type": "code",
      "execution_count": null,
      "metadata": {
        "colab": {
          "base_uri": "https://localhost:8080/",
          "height": 35
        },
        "id": "_QlRSKJghcVE",
        "outputId": "178f66b2-fa11-4d73-cc19-758ebf7ea5b3"
      },
      "outputs": [
        {
          "data": {
            "text/plain": [
              "[15, 46, 12, 10]"
            ]
          },
          "execution_count": 35,
          "metadata": {
            "tags": []
          },
          "output_type": "execute_result"
        }
      ],
      "source": [
        "# Randomly sample four people from the list \n",
        "random.sample(list, 4)"
      ]
    },
    {
      "cell_type": "markdown",
      "metadata": {
        "id": "SapbpTjbXBFo"
      },
      "source": [
        "## Chapter 3: Descriptive Statistics\n",
        "After loading the data file Crime, here is how to request a historgram and a box plot for the violent crime rates in Table 3.2."
      ]
    },
    {
      "cell_type": "markdown",
      "metadata": {
        "id": "z9ajQplteoX-"
      },
      "source": [
        "### Histogram and Boxplots"
      ]
    },
    {
      "cell_type": "markdown",
      "metadata": {
        "id": "iepiEfAjWbJE"
      },
      "source": [
        "For help with how to make a histogram I Googled \"python historgram\" and found this link to be helpful: https://datatofish.com/plot-histogram-python/\n",
        "\n",
        "For help with how to make a boxplot I Googled \"matplotlib boxplot\" and found this link to be helpful: https://www.geeksforgeeks.org/box-plot-in-python-using-matplotlib/\"\n",
        "\n",
        "To make a histogram and boxplots the package matplotlib needs to be imported."
      ]
    },
    {
      "cell_type": "code",
      "execution_count": null,
      "metadata": {
        "id": "8soPzEsUVq4r"
      },
      "outputs": [],
      "source": [
        "import matplotlib.pyplot as plt"
      ]
    },
    {
      "cell_type": "code",
      "execution_count": null,
      "metadata": {
        "colab": {
          "base_uri": "https://localhost:8080/",
          "height": 281
        },
        "id": "n-S29jEOV-XB",
        "outputId": "1b015a7c-c5ca-4ff3-e405-a7809469f0e4"
      },
      "outputs": [
        {
          "data": {
            "image/png": "[encoded data removed]",
            "text/plain": [
              "<Figure size 432x288 with 1 Axes>"
            ]
          },
          "metadata": {
            "needs_background": "light",
            "tags": []
          },
          "output_type": "display_data"
        }
      ],
      "source": [
        "plt.hist(Crime['violent'])\n",
        "plt.title(\"Histogram of Violent Crime Rate\")\n",
        "plt.show()"
      ]
    },
    {
      "cell_type": "code",
      "execution_count": null,
      "metadata": {
        "colab": {
          "base_uri": "https://localhost:8080/",
          "height": 281
        },
        "id": "yVzIKjxMXt2F",
        "outputId": "eca6e59b-e8c7-4169-ee46-5b63066af45f"
      },
      "outputs": [
        {
          "data": {
            "image/png": "[encoded data removed]",
            "text/plain": [
              "<Figure size 432x288 with 1 Axes>"
            ]
          },
          "metadata": {
            "needs_background": "light",
            "tags": []
          },
          "output_type": "display_data"
        }
      ],
      "source": [
        "plt.boxplot(Crime['violent'], vert=False)\n",
        "plt.title(\"Boxplot of Violent Crime Rates of U.S. States. (D.C. not included)\")\n",
        "plt.show()"
      ]
    },
    {
      "cell_type": "markdown",
      "metadata": {
        "id": "T1YER-6LZ-I9"
      },
      "source": [
        "### Basic Descriptive Statistics\n",
        "\n",
        "The `describe` function provides eight basic descriptive statistics. These include the count, the mean, the standard deviation (std), the minimum (min), the lower quartile (25%), the median (50%), the upper quartile (75%), and the maximum (max)."
      ]
    },
    {
      "cell_type": "code",
      "execution_count": null,
      "metadata": {
        "colab": {
          "base_uri": "https://localhost:8080/",
          "height": 173
        },
        "id": "Idg0xQRBaS3Q",
        "outputId": "2aeb46f0-8a9a-4a5d-aa89-1ba0f72459d6"
      },
      "outputs": [
        {
          "data": {
            "text/plain": [
              "count    50.000000\n",
              "mean     34.900000\n",
              "std      12.436369\n",
              "min      12.000000\n",
              "25%      26.000000\n",
              "50%      33.000000\n",
              "75%      43.000000\n",
              "max      64.000000\n",
              "Name: violent, dtype: float64"
            ]
          },
          "execution_count": 9,
          "metadata": {
            "tags": []
          },
          "output_type": "execute_result"
        }
      ],
      "source": [
        "Crime['violent'].describe()"
      ]
    },
    {
      "cell_type": "markdown",
      "metadata": {
        "id": "AMXIRvdmbE9f"
      },
      "source": [
        "You can also get the mean and standard deviation with the `mean` and `std` functions."
      ]
    },
    {
      "cell_type": "code",
      "execution_count": null,
      "metadata": {
        "colab": {
          "base_uri": "https://localhost:8080/",
          "height": 35
        },
        "id": "Zp0YcKKybEC-",
        "outputId": "a5909124-91a5-4f41-a83f-15232d5bc5ca"
      },
      "outputs": [
        {
          "data": {
            "text/plain": [
              "34.9"
            ]
          },
          "execution_count": 42,
          "metadata": {
            "tags": []
          },
          "output_type": "execute_result"
        }
      ],
      "source": [
        "Crime['violent'].mean()"
      ]
    },
    {
      "cell_type": "code",
      "execution_count": null,
      "metadata": {
        "colab": {
          "base_uri": "https://localhost:8080/",
          "height": 35
        },
        "id": "u1Dr57wmbLt2",
        "outputId": "cf6afc8b-bb7c-4320-911a-1e8532c85f77"
      },
      "outputs": [
        {
          "data": {
            "text/plain": [
              "12.436368654318771"
            ]
          },
          "execution_count": 40,
          "metadata": {
            "tags": []
          },
          "output_type": "execute_result"
        }
      ],
      "source": [
        "Crime['violent'].std()"
      ]
    },
    {
      "cell_type": "markdown",
      "metadata": {
        "id": "QiMOFBa0bmyw"
      },
      "source": [
        "### Percentiles\n",
        "\n",
        "You can obtain percentiles using the `quantile` pandas function, such as for a variable `violent`."
      ]
    },
    {
      "cell_type": "code",
      "execution_count": null,
      "metadata": {
        "colab": {
          "base_uri": "https://localhost:8080/",
          "height": 87
        },
        "id": "SGLeSm8mbwt4",
        "outputId": "f1d8290a-6fe8-4487-b6d4-1f1dae0e8f85"
      },
      "outputs": [
        {
          "data": {
            "text/plain": [
              "0.25    26.0\n",
              "0.50    33.0\n",
              "0.75    43.0\n",
              "Name: violent, dtype: float64"
            ]
          },
          "execution_count": 12,
          "metadata": {
            "tags": []
          },
          "output_type": "execute_result"
        }
      ],
      "source": [
        "Crime['violent'].quantile([0.25, 0.50, 0.75])"
      ]
    },
    {
      "cell_type": "markdown",
      "metadata": {
        "id": "6r8L673Mifx8"
      },
      "source": [
        "### Boxplot inlcuding D.C.\n",
        "To include D.C. (which is an outlier) we will need to read in a new data file.\n",
        "\n",
        "Notice that the count for the CrimeDC dataframe is 51 - 1 more than the Crime dataframe.\n",
        "\n",
        "The boxplot for CrimeDC has an outlier."
      ]
    },
    {
      "cell_type": "code",
      "execution_count": null,
      "metadata": {
        "colab": {
          "base_uri": "https://localhost:8080/",
          "height": 202
        },
        "id": "oUc6FDBeis9Q",
        "outputId": "9f2deb28-a6f4-4077-dae0-051ecb09d94e"
      },
      "outputs": [
        {
          "data": {
            "text/html": [
              "<div>\n",
              "<style scoped>\n",
              "    .dataframe tbody tr th:only-of-type {\n",
              "        vertical-align: middle;\n",
              "    }\n",
              "\n",
              "    .dataframe tbody tr th {\n",
              "        vertical-align: top;\n",
              "    }\n",
              "\n",
              "    .dataframe thead th {\n",
              "        text-align: right;\n",
              "    }\n",
              "</style>\n",
              "<table border=\"1\" class=\"dataframe\">\n",
              "  <thead>\n",
              "    <tr style=\"text-align: right;\">\n",
              "      <th></th>\n",
              "      <th>state</th>\n",
              "      <th>violent</th>\n",
              "      <th>murder</th>\n",
              "    </tr>\n",
              "  </thead>\n",
              "  <tbody>\n",
              "    <tr>\n",
              "      <th>0</th>\n",
              "      <td>AK</td>\n",
              "      <td>64</td>\n",
              "      <td>4.6</td>\n",
              "    </tr>\n",
              "    <tr>\n",
              "      <th>1</th>\n",
              "      <td>AL</td>\n",
              "      <td>43</td>\n",
              "      <td>7.2</td>\n",
              "    </tr>\n",
              "    <tr>\n",
              "      <th>2</th>\n",
              "      <td>AR</td>\n",
              "      <td>46</td>\n",
              "      <td>5.4</td>\n",
              "    </tr>\n",
              "    <tr>\n",
              "      <th>3</th>\n",
              "      <td>AZ</td>\n",
              "      <td>42</td>\n",
              "      <td>5.4</td>\n",
              "    </tr>\n",
              "    <tr>\n",
              "      <th>4</th>\n",
              "      <td>CA</td>\n",
              "      <td>40</td>\n",
              "      <td>4.6</td>\n",
              "    </tr>\n",
              "  </tbody>\n",
              "</table>\n",
              "</div>"
            ],
            "text/plain": [
              "  state  violent  murder\n",
              "0    AK       64     4.6\n",
              "1    AL       43     7.2\n",
              "2    AR       46     5.4\n",
              "3    AZ       42     5.4\n",
              "4    CA       40     4.6"
            ]
          },
          "execution_count": 13,
          "metadata": {
            "tags": []
          },
          "output_type": "execute_result"
        }
      ],
      "source": [
        "CrimeDC = pd.read_table(\"http://users.stat.ufl.edu/~aa/smss/data/Crime-DC.dat\", sep=\"\\s+\")\n",
        "CrimeDC.head()"
      ]
    },
    {
      "cell_type": "code",
      "execution_count": null,
      "metadata": {
        "colab": {
          "base_uri": "https://localhost:8080/",
          "height": 173
        },
        "id": "c_Kw3e55i3F6",
        "outputId": "a2469328-f68c-46b2-b66a-5813edf3deac"
      },
      "outputs": [
        {
          "data": {
            "text/plain": [
              "count     51.000000\n",
              "mean      36.764706\n",
              "std       18.135698\n",
              "min       12.000000\n",
              "25%       26.000000\n",
              "50%       34.000000\n",
              "75%       43.500000\n",
              "max      130.000000\n",
              "Name: violent, dtype: float64"
            ]
          },
          "execution_count": 14,
          "metadata": {
            "tags": []
          },
          "output_type": "execute_result"
        }
      ],
      "source": [
        "CrimeDC['violent'].describe()"
      ]
    },
    {
      "cell_type": "code",
      "execution_count": null,
      "metadata": {
        "colab": {
          "base_uri": "https://localhost:8080/",
          "height": 281
        },
        "id": "bZL9C7t5i6VT",
        "outputId": "032fdf45-bcab-4bbc-9e33-28f08dbb0a20"
      },
      "outputs": [
        {
          "data": {
            "image/png": "[encoded data removed]",
            "text/plain": [
              "<Figure size 432x288 with 1 Axes>"
            ]
          },
          "metadata": {
            "needs_background": "light",
            "tags": []
          },
          "output_type": "display_data"
        }
      ],
      "source": [
        "plt.boxplot(CrimeDC['violent'], vert=False)\n",
        "plt.title(\"Boxplot of Violent Crime Rates of U.S. States. The outlied is the observation for D.C.\")\n",
        "plt.show()"
      ]
    },
    {
      "cell_type": "markdown",
      "metadata": {
        "id": "eh-Z_7L9ceZC"
      },
      "source": [
        "### Scatter Plots, Correlations, and Regression\n",
        "\n",
        "You can construct scatterplots and find correlations and regression prediction equations using the following functions:\n",
        "\n",
        "`scatter` from matplotlib\n",
        "\n",
        "`corr` from pandas\n",
        "\n",
        "`OLS` from the statsmodels package\n",
        "\n",
        "For this example we will use the UN data file.\n"
      ]
    },
    {
      "cell_type": "code",
      "execution_count": null,
      "metadata": {
        "colab": {
          "base_uri": "https://localhost:8080/",
          "height": 202
        },
        "id": "GJBLws7aju0i",
        "outputId": "f3661eac-4b57-4af2-b42a-08ce1e528424"
      },
      "outputs": [
        {
          "data": {
            "text/html": [
              "<div>\n",
              "<style scoped>\n",
              "    .dataframe tbody tr th:only-of-type {\n",
              "        vertical-align: middle;\n",
              "    }\n",
              "\n",
              "    .dataframe tbody tr th {\n",
              "        vertical-align: top;\n",
              "    }\n",
              "\n",
              "    .dataframe thead th {\n",
              "        text-align: right;\n",
              "    }\n",
              "</style>\n",
              "<table border=\"1\" class=\"dataframe\">\n",
              "  <thead>\n",
              "    <tr style=\"text-align: right;\">\n",
              "      <th></th>\n",
              "      <th>Nation</th>\n",
              "      <th>GDP</th>\n",
              "      <th>HDI</th>\n",
              "      <th>GII</th>\n",
              "      <th>Fertility</th>\n",
              "      <th>C02</th>\n",
              "      <th>Homicide</th>\n",
              "      <th>Prison</th>\n",
              "      <th>Internet</th>\n",
              "    </tr>\n",
              "  </thead>\n",
              "  <tbody>\n",
              "    <tr>\n",
              "      <th>0</th>\n",
              "      <td>Algeria</td>\n",
              "      <td>12.8</td>\n",
              "      <td>0.72</td>\n",
              "      <td>0.42</td>\n",
              "      <td>2.8</td>\n",
              "      <td>3.2</td>\n",
              "      <td>0.8</td>\n",
              "      <td>162</td>\n",
              "      <td>17</td>\n",
              "    </tr>\n",
              "    <tr>\n",
              "      <th>1</th>\n",
              "      <td>Argentina</td>\n",
              "      <td>14.7</td>\n",
              "      <td>0.81</td>\n",
              "      <td>0.38</td>\n",
              "      <td>2.2</td>\n",
              "      <td>4.7</td>\n",
              "      <td>5.5</td>\n",
              "      <td>147</td>\n",
              "      <td>60</td>\n",
              "    </tr>\n",
              "    <tr>\n",
              "      <th>2</th>\n",
              "      <td>Australia</td>\n",
              "      <td>42.3</td>\n",
              "      <td>0.93</td>\n",
              "      <td>0.11</td>\n",
              "      <td>1.9</td>\n",
              "      <td>16.5</td>\n",
              "      <td>1.1</td>\n",
              "      <td>130</td>\n",
              "      <td>83</td>\n",
              "    </tr>\n",
              "    <tr>\n",
              "      <th>3</th>\n",
              "      <td>Austria</td>\n",
              "      <td>43.1</td>\n",
              "      <td>0.88</td>\n",
              "      <td>0.06</td>\n",
              "      <td>1.4</td>\n",
              "      <td>7.8</td>\n",
              "      <td>0.8</td>\n",
              "      <td>98</td>\n",
              "      <td>81</td>\n",
              "    </tr>\n",
              "    <tr>\n",
              "      <th>4</th>\n",
              "      <td>Belgium</td>\n",
              "      <td>39.5</td>\n",
              "      <td>0.88</td>\n",
              "      <td>0.07</td>\n",
              "      <td>1.8</td>\n",
              "      <td>8.8</td>\n",
              "      <td>1.8</td>\n",
              "      <td>108</td>\n",
              "      <td>82</td>\n",
              "    </tr>\n",
              "  </tbody>\n",
              "</table>\n",
              "</div>"
            ],
            "text/plain": [
              "      Nation   GDP   HDI   GII  Fertility   C02  Homicide  Prison  Internet\n",
              "0    Algeria  12.8  0.72  0.42        2.8   3.2       0.8     162        17\n",
              "1  Argentina  14.7  0.81  0.38        2.2   4.7       5.5     147        60\n",
              "2  Australia  42.3  0.93  0.11        1.9  16.5       1.1     130        83\n",
              "3    Austria  43.1  0.88  0.06        1.4   7.8       0.8      98        81\n",
              "4    Belgium  39.5  0.88  0.07        1.8   8.8       1.8     108        82"
            ]
          },
          "execution_count": 16,
          "metadata": {
            "tags": []
          },
          "output_type": "execute_result"
        }
      ],
      "source": [
        "UN = pd.read_table(\"http://users.stat.ufl.edu/~aa/smss/data/UN.dat\", sep=\"\\s+\")\n",
        "UN.head()"
      ]
    },
    {
      "cell_type": "code",
      "execution_count": null,
      "metadata": {
        "colab": {
          "base_uri": "https://localhost:8080/",
          "height": 295
        },
        "id": "pTx8SzmscTP6",
        "outputId": "fd9a1ad9-96c5-4f4a-9399-510e512f8961"
      },
      "outputs": [
        {
          "data": {
            "image/png": "[encoded data removed]",
            "text/plain": [
              "<Figure size 432x288 with 1 Axes>"
            ]
          },
          "metadata": {
            "needs_background": "light",
            "tags": []
          },
          "output_type": "display_data"
        }
      ],
      "source": [
        "# Scatter Plot\n",
        "plt.scatter(UN['GDP'], UN['Fertility'])\n",
        "plt.title('Scatter plot GDP vs Fertility')\n",
        "plt.xlabel('GDP')\n",
        "plt.ylabel('Fertility')\n",
        "plt.show()"
      ]
    },
    {
      "cell_type": "code",
      "execution_count": null,
      "metadata": {
        "colab": {
          "base_uri": "https://localhost:8080/",
          "height": 110
        },
        "id": "FdW8C-SScKrg",
        "outputId": "1b63d553-6528-4d7c-85b7-14b37854ba20"
      },
      "outputs": [
        {
          "data": {
            "text/html": [
              "<div>\n",
              "<style scoped>\n",
              "    .dataframe tbody tr th:only-of-type {\n",
              "        vertical-align: middle;\n",
              "    }\n",
              "\n",
              "    .dataframe tbody tr th {\n",
              "        vertical-align: top;\n",
              "    }\n",
              "\n",
              "    .dataframe thead th {\n",
              "        text-align: right;\n",
              "    }\n",
              "</style>\n",
              "<table border=\"1\" class=\"dataframe\">\n",
              "  <thead>\n",
              "    <tr style=\"text-align: right;\">\n",
              "      <th></th>\n",
              "      <th>GDP</th>\n",
              "      <th>Fertility</th>\n",
              "    </tr>\n",
              "  </thead>\n",
              "  <tbody>\n",
              "    <tr>\n",
              "      <th>GDP</th>\n",
              "      <td>1.000000</td>\n",
              "      <td>-0.486159</td>\n",
              "    </tr>\n",
              "    <tr>\n",
              "      <th>Fertility</th>\n",
              "      <td>-0.486159</td>\n",
              "      <td>1.000000</td>\n",
              "    </tr>\n",
              "  </tbody>\n",
              "</table>\n",
              "</div>"
            ],
            "text/plain": [
              "                GDP  Fertility\n",
              "GDP        1.000000  -0.486159\n",
              "Fertility -0.486159   1.000000"
            ]
          },
          "execution_count": 18,
          "metadata": {
            "tags": []
          },
          "output_type": "execute_result"
        }
      ],
      "source": [
        "# Correlation\n",
        "UN[['GDP','Fertility']].corr()"
      ]
    },
    {
      "cell_type": "code",
      "execution_count": null,
      "metadata": {
        "colab": {
          "base_uri": "https://localhost:8080/",
          "height": 110
        },
        "id": "RmmF_v0JkIdv",
        "outputId": "385d0b26-46c3-48b9-fe90-cb0978d96b98"
      },
      "outputs": [
        {
          "data": {
            "text/html": [
              "<div>\n",
              "<style scoped>\n",
              "    .dataframe tbody tr th:only-of-type {\n",
              "        vertical-align: middle;\n",
              "    }\n",
              "\n",
              "    .dataframe tbody tr th {\n",
              "        vertical-align: top;\n",
              "    }\n",
              "\n",
              "    .dataframe thead th {\n",
              "        text-align: right;\n",
              "    }\n",
              "</style>\n",
              "<table border=\"1\" class=\"dataframe\">\n",
              "  <thead>\n",
              "    <tr style=\"text-align: right;\">\n",
              "      <th></th>\n",
              "      <th>GDP</th>\n",
              "      <th>Internet</th>\n",
              "    </tr>\n",
              "  </thead>\n",
              "  <tbody>\n",
              "    <tr>\n",
              "      <th>GDP</th>\n",
              "      <td>1.000000</td>\n",
              "      <td>0.877199</td>\n",
              "    </tr>\n",
              "    <tr>\n",
              "      <th>Internet</th>\n",
              "      <td>0.877199</td>\n",
              "      <td>1.000000</td>\n",
              "    </tr>\n",
              "  </tbody>\n",
              "</table>\n",
              "</div>"
            ],
            "text/plain": [
              "               GDP  Internet\n",
              "GDP       1.000000  0.877199\n",
              "Internet  0.877199  1.000000"
            ]
          },
          "execution_count": 19,
          "metadata": {
            "tags": []
          },
          "output_type": "execute_result"
        }
      ],
      "source": [
        "# Correlation\n",
        "UN[['GDP','Internet']].corr()"
      ]
    },
    {
      "cell_type": "code",
      "execution_count": null,
      "metadata": {
        "colab": {
          "base_uri": "https://localhost:8080/",
          "height": 110
        },
        "id": "r-CVznlJkLE-",
        "outputId": "2f578726-8383-4e1c-d37c-e4c08a9f3ce1"
      },
      "outputs": [
        {
          "data": {
            "text/html": [
              "<div>\n",
              "<style scoped>\n",
              "    .dataframe tbody tr th:only-of-type {\n",
              "        vertical-align: middle;\n",
              "    }\n",
              "\n",
              "    .dataframe tbody tr th {\n",
              "        vertical-align: top;\n",
              "    }\n",
              "\n",
              "    .dataframe thead th {\n",
              "        text-align: right;\n",
              "    }\n",
              "</style>\n",
              "<table border=\"1\" class=\"dataframe\">\n",
              "  <thead>\n",
              "    <tr style=\"text-align: right;\">\n",
              "      <th></th>\n",
              "      <th>GDP</th>\n",
              "      <th>GII</th>\n",
              "    </tr>\n",
              "  </thead>\n",
              "  <tbody>\n",
              "    <tr>\n",
              "      <th>GDP</th>\n",
              "      <td>1.000000</td>\n",
              "      <td>-0.850669</td>\n",
              "    </tr>\n",
              "    <tr>\n",
              "      <th>GII</th>\n",
              "      <td>-0.850669</td>\n",
              "      <td>1.000000</td>\n",
              "    </tr>\n",
              "  </tbody>\n",
              "</table>\n",
              "</div>"
            ],
            "text/plain": [
              "          GDP       GII\n",
              "GDP  1.000000 -0.850669\n",
              "GII -0.850669  1.000000"
            ]
          },
          "execution_count": 20,
          "metadata": {
            "tags": []
          },
          "output_type": "execute_result"
        }
      ],
      "source": [
        "# Correlation\n",
        "UN[['GDP','GII']].corr()"
      ]
    },
    {
      "cell_type": "code",
      "execution_count": null,
      "metadata": {
        "colab": {
          "base_uri": "https://localhost:8080/",
          "height": 35
        },
        "id": "S5kZC8LPdJ7Z",
        "outputId": "192f5928-3d31-4869-c5a0-815fbfa3f136"
      },
      "outputs": [
        {
          "data": {
            "text/plain": [
              "LinearRegression(copy_X=True, fit_intercept=True, n_jobs=None, normalize=False)"
            ]
          },
          "execution_count": 21,
          "metadata": {
            "tags": []
          },
          "output_type": "execute_result"
        }
      ],
      "source": [
        "# Regression Prediction\n",
        "from sklearn.linear_model import LinearRegression\n",
        "\n",
        "# Data must be reshaped to work with the Linear Regression Model\n",
        "x = UN['GDP'].values.reshape(-1,1)\n",
        "y = UN['Fertility'].values.reshape(-1,1)\n",
        "\n",
        "# Fit and summarize OLS model\n",
        "model = LinearRegression()  \n",
        "model.fit(x, y) "
      ]
    },
    {
      "cell_type": "code",
      "execution_count": null,
      "metadata": {
        "colab": {
          "base_uri": "https://localhost:8080/",
          "height": 35
        },
        "id": "MK6g8ucllt4H",
        "outputId": "72a2ffaa-c2bd-4616-8ce9-7cab42824d40"
      },
      "outputs": [
        {
          "name": "stdout",
          "output_type": "stream",
          "text": [
            "[2.71401159]\n"
          ]
        }
      ],
      "source": [
        "#To retrieve the intercept:\n",
        "print(model.intercept_)"
      ]
    },
    {
      "cell_type": "code",
      "execution_count": null,
      "metadata": {
        "colab": {
          "base_uri": "https://localhost:8080/",
          "height": 35
        },
        "id": "Ty2v7VuNlx4h",
        "outputId": "eaca2eeb-4579-49a9-f2a8-2f215b30eccf"
      },
      "outputs": [
        {
          "name": "stdout",
          "output_type": "stream",
          "text": [
            "[[-0.02519166]]\n"
          ]
        }
      ],
      "source": [
        "#For retrieving the slope:\n",
        "print(model.coef_)"
      ]
    }
  ],
  "metadata": {
    "colab": {
      "authorship_tag": "ABX9TyNvgkK28mEgfFiOEJgbALZG",
      "include_colab_link": true,
      "name": "Google Colab and Python for Statistical Analyses.ipynb",
      "provenance": [],
      "toc_visible": true
    },
    "kernelspec": {
      "display_name": "Python 3.7.10 ('pyincoreEnv20210802')",
      "language": "python",
      "name": "python3"
    },
    "language_info": {
      "name": "python",
      "version": "3.7.10"
    },
    "vscode": {
      "interpreter": {
        "hash": "4df308431e0e051f1a7caa73a15c7a71398d18f0e70d73b50ce41f664d9adabe"
      }
    }
  },
  "nbformat": 4,
  "nbformat_minor": 0
}
