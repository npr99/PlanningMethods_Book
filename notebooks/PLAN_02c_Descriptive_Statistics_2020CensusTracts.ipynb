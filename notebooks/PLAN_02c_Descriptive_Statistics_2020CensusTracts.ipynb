{
  "cells": [
    {
      "cell_type": "markdown",
      "metadata": {
        "colab_type": "text",
        "id": "view-in-github"
      },
      "source": [
        "<a href=\"https://colab.research.google.com/github/npr99/PlanningMethods/blob/master/PLAN604_Descriptive_Statistics_2020CensusTracts.ipynb\" target=\"_parent\"><img src=\"https://colab.research.google.com/assets/colab-badge.svg\" alt=\"Open In Colab\"/></a>"
      ]
    },
    {
      "cell_type": "markdown",
      "metadata": {
        "id": "QbMmz5adRauc"
      },
      "source": [
        "# Application of Descriptive Statistics: Finding US Census Tract Outliers (2020 Census)\n",
        " \n",
        "---\n",
        "This Google Colab Notebook provides a complete workflow (sequence of steps from start to finish) that will allow you to explore [US Census Tracts](https://www.census.gov/glossary/#term_Censustract?term=Tract). \n",
        " \n",
        "A census tract is a statistical subdivision of a county, with around 4,000 people and 1,600 housing units. This boundary may change with each decennial census (every 10 years). Census tract population size provides an application for understanding descriptive statistics such as outliers. Outliers are observations (census tracts) that fall outside of the normal distribution. These might be census tracts with no population or very large populations. \n",
        " \n",
        "This notebook will demonstrate how to read in data from the US Census website. Clean the data for use in this statistical software environment (python). Explore the data using histograms and descriptive statistics and mapping. This program brings together publicly available data, US Census geography, and descriptive statistics. \n",
        " \n",
        "This notebook assumes that you have some basic experience with Google Colab and running blocks of code. Users of this notebook do not need to have any python programming background. A basic introduction and curiosity about descriptive statistics and US Census geography is helpful."
      ]
    },
    {
      "cell_type": "markdown",
      "metadata": {
        "id": "nARUWOcSSWxz"
      },
      "source": [
        "## Step 1: Obtain Data with Census API\n",
        "\n",
        "The following section sets up and reads in data from the Census API. For more details on using Census API in Google Colab for Urban Planning see:\n",
        "\n",
        "> Gu, Donghwan, and Rosenheim, Nathanael. *Demographic Analysis Workflow using Census API  in Jupyter Notebook: 1990-2000 Population Size and Change.* Ann Arbor, MI: Inter-university Consortium for Political and Social Research [distributor], 2020-07-30. https://doi.org/10.3886/E120381V1\n",
        "\n",
        "> Goodman, Cooper, Rosenheim, Nathanael, Day, Wayne, Gu, Donghwan, and Korukonda, Jayasaree. *Population Distribution Workflow using Census API in Jupyter Notebook: Dynamic Map of Census Tracts in Boone County, KY, 2000.* Ann Arbor, MI: Inter-university Consortium for Political and Social Research [distributor], 2020-07-31. https://doi.org/10.3886/E120382V1\n",
        "\n",
        "For this notebook we will obtain data from the Census API in the fewest number of lines.\n"
      ]
    },
    {
      "cell_type": "code",
      "execution_count": 1,
      "metadata": {
        "id": "MrqwYfRDQ7ZH"
      },
      "outputs": [],
      "source": [
        "# Python packages required to read in and Census API data\n",
        "import requests ## Required for the Census API\n",
        "import pandas as pd # For reading, writing and wrangling data"
      ]
    },
    {
      "cell_type": "markdown",
      "metadata": {
        "id": "t1riCQuczR-G"
      },
      "source": [
        "## What does the next block of code do?\n",
        "The following block of code does three things:\n",
        "#### 1. Obtain data from the Census API\n",
        "The first line requests data from the Census API (`https:// api.census.gov / data`). [Available APIs](https://www.census.gov/data/developers/data-sets/decennial-census.html)\n",
        "\n",
        "From the 2020 Decennial Census (`/ 2020 / dec/`), redistricting data Public Law (PL 94-171) (`PL`), which means the [short form](https://www.census.gov/programs-surveys/decennial-census/technical-documentation/questionnaires.2020_Census.html). \n",
        "\n",
        "The Census API needs three parameters (`params={`) in order to find the correct data for the right geography.\n",
        "1.   `'get' :` the following [variables](https://api.census.gov/data/2020/dec/pl/variables.html):\n",
        "> Total Housing Units (`H1_001N`) and Total Population (`P1_001N`)\n",
        "2.   `'for' : ` the following Census Geography \n",
        "> Census tracts (`'tract:*'`)\n",
        "3.   `'in' : ` the following state\n",
        "> Texas (`'state:48'`)\n",
        "\n",
        "You can actually see the same data by going to this weblink:\n",
        "\n",
        "https://api.census.gov/data/2020/dec/pl?get=H1_001N,P1_001N&for=tract:*&in=state:48\n",
        "\n",
        "#### 2. Clean the data (convert from json to pandas dataframe)\n",
        "After the `requests.get` command gets the data from api.census.gov, the data is stored in the varaible names `apijson`. The variable name indicates the data source (`api`) and the file type (`json`). [`JSON`](https://www.json.org/json-en.html) (pronounced JAY-son) is a format, like [CSV](https://www.kaggle.com/rtatman/an-intro-to-json-vs-csv).\n",
        "\n",
        "#### 3. Explore the data (view the first 5 rows of the data)\n",
        "The last two lines convert the `json` file into a `pandas` [dataframe](https://towardsdatascience.com/pandas-dataframe-a-lightweight-intro-680e3a212b96). The last line tells Google Colab to display the first 5 rows of the dataframe `tractdf`."
      ]
    },
    {
      "cell_type": "code",
      "execution_count": 2,
      "metadata": {
        "colab": {
          "base_uri": "https://localhost:8080/",
          "height": 0
        },
        "id": "CCVf3M61gNKu",
        "outputId": "e8fecaee-3d69-4398-a276-b3eda9e2c99f"
      },
      "outputs": [
        {
          "data": {
            "text/html": [
              "<div>\n",
              "<style scoped>\n",
              "    .dataframe tbody tr th:only-of-type {\n",
              "        vertical-align: middle;\n",
              "    }\n",
              "\n",
              "    .dataframe tbody tr th {\n",
              "        vertical-align: top;\n",
              "    }\n",
              "\n",
              "    .dataframe thead th {\n",
              "        text-align: right;\n",
              "    }\n",
              "</style>\n",
              "<table border=\"1\" class=\"dataframe\">\n",
              "  <thead>\n",
              "    <tr style=\"text-align: right;\">\n",
              "      <th></th>\n",
              "      <th>H1_001N</th>\n",
              "      <th>P1_001N</th>\n",
              "      <th>state</th>\n",
              "      <th>county</th>\n",
              "      <th>tract</th>\n",
              "    </tr>\n",
              "  </thead>\n",
              "  <tbody>\n",
              "    <tr>\n",
              "      <th>0</th>\n",
              "      <td>3166</td>\n",
              "      <td>5354</td>\n",
              "      <td>48</td>\n",
              "      <td>029</td>\n",
              "      <td>181004</td>\n",
              "    </tr>\n",
              "    <tr>\n",
              "      <th>1</th>\n",
              "      <td>2419</td>\n",
              "      <td>4251</td>\n",
              "      <td>48</td>\n",
              "      <td>029</td>\n",
              "      <td>181005</td>\n",
              "    </tr>\n",
              "    <tr>\n",
              "      <th>2</th>\n",
              "      <td>2771</td>\n",
              "      <td>5818</td>\n",
              "      <td>48</td>\n",
              "      <td>029</td>\n",
              "      <td>181100</td>\n",
              "    </tr>\n",
              "    <tr>\n",
              "      <th>3</th>\n",
              "      <td>2197</td>\n",
              "      <td>4844</td>\n",
              "      <td>48</td>\n",
              "      <td>029</td>\n",
              "      <td>181200</td>\n",
              "    </tr>\n",
              "    <tr>\n",
              "      <th>4</th>\n",
              "      <td>2444</td>\n",
              "      <td>4290</td>\n",
              "      <td>48</td>\n",
              "      <td>029</td>\n",
              "      <td>181301</td>\n",
              "    </tr>\n",
              "  </tbody>\n",
              "</table>\n",
              "</div>"
            ],
            "text/plain": [
              "  H1_001N P1_001N state county   tract\n",
              "0    3166    5354    48    029  181004\n",
              "1    2419    4251    48    029  181005\n",
              "2    2771    5818    48    029  181100\n",
              "3    2197    4844    48    029  181200\n",
              "4    2444    4290    48    029  181301"
            ]
          },
          "execution_count": 2,
          "metadata": {},
          "output_type": "execute_result"
        }
      ],
      "source": [
        "apijson = requests.get('https://api.census.gov/data/2020/dec/pl',\n",
        "                       params={'get': 'H1_001N,P1_001N',\n",
        "                               'for': 'tract:*',\n",
        "                                'in': 'state:48'})\n",
        "# Convert the requested json into pandas dataframe\n",
        "tractdf = pd.DataFrame(columns=apijson.json()[0], data=apijson.json()[1:])\n",
        "tractdf.head()"
      ]
    },
    {
      "cell_type": "markdown",
      "metadata": {
        "id": "BobiJ2au4GUk"
      },
      "source": [
        "The parameters for the Census API can be modified to request data for other Census Surveys, variables, geographies, and states.\n",
        "For more information on Census API:\n",
        "*   [Census Data API User Guide](https://www.census.gov/content/dam/Census/data/developers/api-user-guide/api-guide.pdf)\n",
        "*   [List of available Census APIs](https://www.census.gov/data/developers/data-sets/decennial-census.2010.html)\n",
        "*   [A list of variables available just from the 2010 short form](https://api.census.gov/data/2010/dec/sf1/variables.html)\n",
        "*   [A list of State FIPS codes](https://www.nrcs.usda.gov/wps/portal/nrcs/detail/?cid=nrcs143_013696)"
      ]
    },
    {
      "cell_type": "markdown",
      "metadata": {
        "id": "oJusBkLGnMZg"
      },
      "source": [
        "## Step 2: Clean Data\n",
        "Data cleaning is an important step in the data science process. This step is often the hardest and most time consuming. The follow section provides three examples of data cleaning. \n",
        "1. Set the variable type\n",
        "2. Label variables\n",
        "3. Add a unique id"
      ]
    },
    {
      "cell_type": "markdown",
      "metadata": {
        "id": "uzJ5ZB3gUgAT"
      },
      "source": [
        "### 2.1 Set the variable type\n",
        "\n",
        "The data obtained from the Census API is not in the right format. For example, right now the statistical software does not recognize the H1_001N variable is a discrete quantitative number.\n",
        "\n",
        "If we try to look at the descriptive statistics (min, max, mean, median etc.) for the total housing units by census tract the describe command does not work."
      ]
    },
    {
      "cell_type": "code",
      "execution_count": 3,
      "metadata": {
        "colab": {
          "base_uri": "https://localhost:8080/"
        },
        "id": "Low3NQDRjuL7",
        "outputId": "40c0797a-7f4b-4d53-b5a8-d03f68d0f964"
      },
      "outputs": [
        {
          "data": {
            "text/plain": [
              "count     6896\n",
              "unique    2439\n",
              "top          0\n",
              "freq        28\n",
              "Name: H1_001N, dtype: object"
            ]
          },
          "execution_count": 3,
          "metadata": {},
          "output_type": "execute_result"
        }
      ],
      "source": [
        "tractdf['H1_001N'].describe()"
      ]
    },
    {
      "cell_type": "markdown",
      "metadata": {
        "id": "SiTSggsEoGPj"
      },
      "source": [
        "Converting variables into the correct data type is a regular data cleaning step. The next codeblock changes the variable type to integer using the `astype(int)` command."
      ]
    },
    {
      "cell_type": "code",
      "execution_count": 4,
      "metadata": {
        "id": "e-cDC_h9oFl5"
      },
      "outputs": [],
      "source": [
        "tractdf[\"H1_001N\"] = tractdf[\"H1_001N\"].astype(int)\n",
        "tractdf[\"P1_001N\"] = tractdf[\"P1_001N\"].astype(int)"
      ]
    },
    {
      "cell_type": "markdown",
      "metadata": {
        "id": "qWXqJ3eLoeiT"
      },
      "source": [
        "Now that the statistical software knows that the variables for total housing units and population are integers (discrete numbers) we can use the `describe` command to get the descriptive statistics. "
      ]
    },
    {
      "cell_type": "markdown",
      "metadata": {
        "id": "dSFZpnlLVKKW"
      },
      "source": [
        "### 2.2 Label variables\n",
        "Variable labels are an important form of metadata (data about the data). In this example `H1_001N` is the variable name and the variable label is `Total Housing Units`. In python we can rename the variable using the variable label. This will make it easier to remember what the data is about."
      ]
    },
    {
      "cell_type": "code",
      "execution_count": 5,
      "metadata": {
        "colab": {
          "base_uri": "https://localhost:8080/",
          "height": 0
        },
        "id": "4nP5SemvUG5e",
        "outputId": "c7038cb4-cd25-4e34-de47-48e43a2106ba"
      },
      "outputs": [
        {
          "data": {
            "text/html": [
              "<div>\n",
              "<style scoped>\n",
              "    .dataframe tbody tr th:only-of-type {\n",
              "        vertical-align: middle;\n",
              "    }\n",
              "\n",
              "    .dataframe tbody tr th {\n",
              "        vertical-align: top;\n",
              "    }\n",
              "\n",
              "    .dataframe thead th {\n",
              "        text-align: right;\n",
              "    }\n",
              "</style>\n",
              "<table border=\"1\" class=\"dataframe\">\n",
              "  <thead>\n",
              "    <tr style=\"text-align: right;\">\n",
              "      <th></th>\n",
              "      <th>Total Housing Units</th>\n",
              "      <th>Total Population</th>\n",
              "      <th>state</th>\n",
              "      <th>county</th>\n",
              "      <th>tract</th>\n",
              "    </tr>\n",
              "  </thead>\n",
              "  <tbody>\n",
              "    <tr>\n",
              "      <th>0</th>\n",
              "      <td>3166</td>\n",
              "      <td>5354</td>\n",
              "      <td>48</td>\n",
              "      <td>029</td>\n",
              "      <td>181004</td>\n",
              "    </tr>\n",
              "    <tr>\n",
              "      <th>1</th>\n",
              "      <td>2419</td>\n",
              "      <td>4251</td>\n",
              "      <td>48</td>\n",
              "      <td>029</td>\n",
              "      <td>181005</td>\n",
              "    </tr>\n",
              "    <tr>\n",
              "      <th>2</th>\n",
              "      <td>2771</td>\n",
              "      <td>5818</td>\n",
              "      <td>48</td>\n",
              "      <td>029</td>\n",
              "      <td>181100</td>\n",
              "    </tr>\n",
              "    <tr>\n",
              "      <th>3</th>\n",
              "      <td>2197</td>\n",
              "      <td>4844</td>\n",
              "      <td>48</td>\n",
              "      <td>029</td>\n",
              "      <td>181200</td>\n",
              "    </tr>\n",
              "    <tr>\n",
              "      <th>4</th>\n",
              "      <td>2444</td>\n",
              "      <td>4290</td>\n",
              "      <td>48</td>\n",
              "      <td>029</td>\n",
              "      <td>181301</td>\n",
              "    </tr>\n",
              "  </tbody>\n",
              "</table>\n",
              "</div>"
            ],
            "text/plain": [
              "   Total Housing Units  Total Population state county   tract\n",
              "0                 3166              5354    48    029  181004\n",
              "1                 2419              4251    48    029  181005\n",
              "2                 2771              5818    48    029  181100\n",
              "3                 2197              4844    48    029  181200\n",
              "4                 2444              4290    48    029  181301"
            ]
          },
          "execution_count": 5,
          "metadata": {},
          "output_type": "execute_result"
        }
      ],
      "source": [
        "tractdf = tractdf.rename(columns={\"H1_001N\": \"Total Housing Units\", \n",
        "                                  \"P1_001N\": \"Total Population\"})\n",
        "tractdf.head()"
      ]
    },
    {
      "cell_type": "markdown",
      "metadata": {
        "id": "K_9bBgQ9V9f_"
      },
      "source": [
        "### 2.3 Add a unique id\n",
        "A unique id is an important part of a good data file. The current list of census tracts does not have a unique id, but we can create one using the state, county, and tract variables. For US Census Geographies this code is called the  [Geographic Identifier (GEOID)](https://www.census.gov/programs-surveys/geography/guidance/geo-identifiers.html).\n",
        "\n",
        "The `describe` command provides a count of the number of unique values for the state, county, and tract variables."
      ]
    },
    {
      "cell_type": "code",
      "execution_count": 6,
      "metadata": {
        "colab": {
          "base_uri": "https://localhost:8080/",
          "height": 0
        },
        "id": "bS3XfqlNW6SC",
        "outputId": "a7b18cb0-5edf-4627-f087-71a73c3e2fe0"
      },
      "outputs": [
        {
          "data": {
            "text/html": [
              "<div>\n",
              "<style scoped>\n",
              "    .dataframe tbody tr th:only-of-type {\n",
              "        vertical-align: middle;\n",
              "    }\n",
              "\n",
              "    .dataframe tbody tr th {\n",
              "        vertical-align: top;\n",
              "    }\n",
              "\n",
              "    .dataframe thead th {\n",
              "        text-align: right;\n",
              "    }\n",
              "</style>\n",
              "<table border=\"1\" class=\"dataframe\">\n",
              "  <thead>\n",
              "    <tr style=\"text-align: right;\">\n",
              "      <th></th>\n",
              "      <th>state</th>\n",
              "      <th>county</th>\n",
              "      <th>tract</th>\n",
              "    </tr>\n",
              "  </thead>\n",
              "  <tbody>\n",
              "    <tr>\n",
              "      <th>count</th>\n",
              "      <td>6896</td>\n",
              "      <td>6896</td>\n",
              "      <td>6896</td>\n",
              "    </tr>\n",
              "    <tr>\n",
              "      <th>unique</th>\n",
              "      <td>1</td>\n",
              "      <td>254</td>\n",
              "      <td>5136</td>\n",
              "    </tr>\n",
              "    <tr>\n",
              "      <th>top</th>\n",
              "      <td>48</td>\n",
              "      <td>201</td>\n",
              "      <td>950100</td>\n",
              "    </tr>\n",
              "    <tr>\n",
              "      <th>freq</th>\n",
              "      <td>6896</td>\n",
              "      <td>1115</td>\n",
              "      <td>92</td>\n",
              "    </tr>\n",
              "  </tbody>\n",
              "</table>\n",
              "</div>"
            ],
            "text/plain": [
              "       state county   tract\n",
              "count   6896   6896    6896\n",
              "unique     1    254    5136\n",
              "top       48    201  950100\n",
              "freq    6896   1115      92"
            ]
          },
          "execution_count": 6,
          "metadata": {},
          "output_type": "execute_result"
        }
      ],
      "source": [
        "tractdf[['state','county','tract']].describe()"
      ]
    },
    {
      "cell_type": "markdown",
      "metadata": {
        "id": "Y08vk1BMXOmE"
      },
      "source": [
        "Notice that there is 1 unique value for state (all the census tracts are in the same state). There are 254 unique values for county (there are 254 counties in Texas), and there are 5,136 unique values for the tract code, but there are 6,896 total tracts. The count of unique values needs to be equal to the total count. (Note that for 2010 there were 5,265 tracts in Texas)."
      ]
    },
    {
      "cell_type": "markdown",
      "metadata": {
        "id": "Y6X5VXAKX7o8"
      },
      "source": [
        "The three variables state, county, and tract may look like numbers, but they are actually not quantitative variables, they are actually categorical and nominal (values do not have a \"high\" or \"low\" end). Python will treat these variables like strings or letters. The next code block combines the three variables into a new variable called GEOID. "
      ]
    },
    {
      "cell_type": "code",
      "execution_count": 7,
      "metadata": {
        "colab": {
          "base_uri": "https://localhost:8080/",
          "height": 0
        },
        "id": "eQo_vcD8Xplj",
        "outputId": "9b963366-42bf-4513-a06c-4a9524b0ea26"
      },
      "outputs": [
        {
          "data": {
            "text/html": [
              "<div>\n",
              "<style scoped>\n",
              "    .dataframe tbody tr th:only-of-type {\n",
              "        vertical-align: middle;\n",
              "    }\n",
              "\n",
              "    .dataframe tbody tr th {\n",
              "        vertical-align: top;\n",
              "    }\n",
              "\n",
              "    .dataframe thead th {\n",
              "        text-align: right;\n",
              "    }\n",
              "</style>\n",
              "<table border=\"1\" class=\"dataframe\">\n",
              "  <thead>\n",
              "    <tr style=\"text-align: right;\">\n",
              "      <th></th>\n",
              "      <th>Total Housing Units</th>\n",
              "      <th>Total Population</th>\n",
              "      <th>state</th>\n",
              "      <th>county</th>\n",
              "      <th>tract</th>\n",
              "      <th>GEOID</th>\n",
              "      <th>year</th>\n",
              "    </tr>\n",
              "  </thead>\n",
              "  <tbody>\n",
              "    <tr>\n",
              "      <th>0</th>\n",
              "      <td>3166</td>\n",
              "      <td>5354</td>\n",
              "      <td>48</td>\n",
              "      <td>029</td>\n",
              "      <td>181004</td>\n",
              "      <td>48029181004</td>\n",
              "      <td>2020</td>\n",
              "    </tr>\n",
              "    <tr>\n",
              "      <th>1</th>\n",
              "      <td>2419</td>\n",
              "      <td>4251</td>\n",
              "      <td>48</td>\n",
              "      <td>029</td>\n",
              "      <td>181005</td>\n",
              "      <td>48029181005</td>\n",
              "      <td>2020</td>\n",
              "    </tr>\n",
              "    <tr>\n",
              "      <th>2</th>\n",
              "      <td>2771</td>\n",
              "      <td>5818</td>\n",
              "      <td>48</td>\n",
              "      <td>029</td>\n",
              "      <td>181100</td>\n",
              "      <td>48029181100</td>\n",
              "      <td>2020</td>\n",
              "    </tr>\n",
              "    <tr>\n",
              "      <th>3</th>\n",
              "      <td>2197</td>\n",
              "      <td>4844</td>\n",
              "      <td>48</td>\n",
              "      <td>029</td>\n",
              "      <td>181200</td>\n",
              "      <td>48029181200</td>\n",
              "      <td>2020</td>\n",
              "    </tr>\n",
              "    <tr>\n",
              "      <th>4</th>\n",
              "      <td>2444</td>\n",
              "      <td>4290</td>\n",
              "      <td>48</td>\n",
              "      <td>029</td>\n",
              "      <td>181301</td>\n",
              "      <td>48029181301</td>\n",
              "      <td>2020</td>\n",
              "    </tr>\n",
              "  </tbody>\n",
              "</table>\n",
              "</div>"
            ],
            "text/plain": [
              "   Total Housing Units  Total Population state county   tract        GEOID  \\\n",
              "0                 3166              5354    48    029  181004  48029181004   \n",
              "1                 2419              4251    48    029  181005  48029181005   \n",
              "2                 2771              5818    48    029  181100  48029181100   \n",
              "3                 2197              4844    48    029  181200  48029181200   \n",
              "4                 2444              4290    48    029  181301  48029181301   \n",
              "\n",
              "   year  \n",
              "0  2020  \n",
              "1  2020  \n",
              "2  2020  \n",
              "3  2020  \n",
              "4  2020  "
            ]
          },
          "execution_count": 7,
          "metadata": {},
          "output_type": "execute_result"
        }
      ],
      "source": [
        "tractdf['GEOID'] = tractdf['state']+tractdf['county']+tractdf['tract']\n",
        "tractdf['year'] = '2020'\n",
        "tractdf.head()"
      ]
    },
    {
      "cell_type": "markdown",
      "metadata": {
        "id": "1pawHeMHYuOc"
      },
      "source": [
        "GEOID now uniquely identifies each census tract in the data."
      ]
    },
    {
      "cell_type": "code",
      "execution_count": 8,
      "metadata": {
        "colab": {
          "base_uri": "https://localhost:8080/"
        },
        "id": "viXXa-rqY_sC",
        "outputId": "9f589304-1258-46f4-d274-090740b94025"
      },
      "outputs": [
        {
          "data": {
            "text/plain": [
              "count            6896\n",
              "unique           6896\n",
              "top       48029181004\n",
              "freq                1\n",
              "Name: GEOID, dtype: object"
            ]
          },
          "execution_count": 8,
          "metadata": {},
          "output_type": "execute_result"
        }
      ],
      "source": [
        "tractdf['GEOID'].describe()"
      ]
    },
    {
      "cell_type": "markdown",
      "metadata": {},
      "source": [
        "Notice after describing the variable `GEOID` that the total count equals the total number of unique observations. When the count = unique the variable is a unique id."
      ]
    },
    {
      "cell_type": "markdown",
      "metadata": {
        "id": "B1rw7rQAZqkq"
      },
      "source": [
        "## Step 3: Describe the data\n",
        "Descriptive methods summarize the data. Descriptive statistics summarize data with numbers, tables, and graphs. The following block of code creates and formats a table using the `describe` function. The table provides eight descriptive statistics. These include the count, the mean, the standard deviation (std), the minimum (min), the lower quartile (25%), the median (50%), the upper quartile (75%), and the maximum (max)."
      ]
    },
    {
      "cell_type": "code",
      "execution_count": 9,
      "metadata": {
        "colab": {
          "base_uri": "https://localhost:8080/",
          "height": 116
        },
        "id": "Yg5w-twMo0rq",
        "outputId": "0a01062c-5080-437c-9327-1d6a5b6ced5b"
      },
      "outputs": [
        {
          "data": {
            "text/html": [
              "<style type=\"text/css\">\n",
              "#T_432ac_row0_col0, #T_432ac_row0_col1, #T_432ac_row0_col2, #T_432ac_row0_col3, #T_432ac_row0_col4, #T_432ac_row0_col5, #T_432ac_row0_col6, #T_432ac_row0_col7, #T_432ac_row1_col0, #T_432ac_row1_col1, #T_432ac_row1_col2, #T_432ac_row1_col3, #T_432ac_row1_col4, #T_432ac_row1_col5, #T_432ac_row1_col6, #T_432ac_row1_col7 {\n",
              "  text-align: right;\n",
              "}\n",
              "</style>\n",
              "<table id=\"T_432ac_\">\n",
              "  <caption>Table 1. Descriptive statistics for total housing units and population by census tract in Texas, 2020.</caption>\n",
              "  <thead>\n",
              "    <tr>\n",
              "      <th class=\"blank level0\" >&nbsp;</th>\n",
              "      <th class=\"col_heading level0 col0\" >count</th>\n",
              "      <th class=\"col_heading level0 col1\" >mean</th>\n",
              "      <th class=\"col_heading level0 col2\" >std</th>\n",
              "      <th class=\"col_heading level0 col3\" >min</th>\n",
              "      <th class=\"col_heading level0 col4\" >25%</th>\n",
              "      <th class=\"col_heading level0 col5\" >50%</th>\n",
              "      <th class=\"col_heading level0 col6\" >75%</th>\n",
              "      <th class=\"col_heading level0 col7\" >max</th>\n",
              "    </tr>\n",
              "  </thead>\n",
              "  <tbody>\n",
              "    <tr>\n",
              "      <th id=\"T_432ac_level0_row0\" class=\"row_heading level0 row0\" >Total Housing Units</th>\n",
              "      <td id=\"T_432ac_row0_col0\" class=\"data row0 col0\" >6,896</td>\n",
              "      <td id=\"T_432ac_row0_col1\" class=\"data row0 col1\" >1,681</td>\n",
              "      <td id=\"T_432ac_row0_col2\" class=\"data row0 col2\" >734</td>\n",
              "      <td id=\"T_432ac_row0_col3\" class=\"data row0 col3\" >0</td>\n",
              "      <td id=\"T_432ac_row0_col4\" class=\"data row0 col4\" >1,187</td>\n",
              "      <td id=\"T_432ac_row0_col5\" class=\"data row0 col5\" >1,598</td>\n",
              "      <td id=\"T_432ac_row0_col6\" class=\"data row0 col6\" >2,063</td>\n",
              "      <td id=\"T_432ac_row0_col7\" class=\"data row0 col7\" >10,021</td>\n",
              "    </tr>\n",
              "    <tr>\n",
              "      <th id=\"T_432ac_level0_row1\" class=\"row_heading level0 row1\" >Total Population</th>\n",
              "      <td id=\"T_432ac_row1_col0\" class=\"data row1 col0\" >6,896</td>\n",
              "      <td id=\"T_432ac_row1_col1\" class=\"data row1 col1\" >4,226</td>\n",
              "      <td id=\"T_432ac_row1_col2\" class=\"data row1 col2\" >2,026</td>\n",
              "      <td id=\"T_432ac_row1_col3\" class=\"data row1 col3\" >0</td>\n",
              "      <td id=\"T_432ac_row1_col4\" class=\"data row1 col4\" >2,860</td>\n",
              "      <td id=\"T_432ac_row1_col5\" class=\"data row1 col5\" >3,957</td>\n",
              "      <td id=\"T_432ac_row1_col6\" class=\"data row1 col6\" >5,194</td>\n",
              "      <td id=\"T_432ac_row1_col7\" class=\"data row1 col7\" >30,199</td>\n",
              "    </tr>\n",
              "  </tbody>\n",
              "</table>\n"
            ],
            "text/plain": [
              "<pandas.io.formats.style.Styler at 0x1de811513c8>"
            ]
          },
          "execution_count": 9,
          "metadata": {},
          "output_type": "execute_result"
        }
      ],
      "source": [
        "table1 = tractdf[['Total Housing Units','Total Population']].describe().T\n",
        "varformat = \"{:,.0f}\" # The variable format adds a comma and rounds up\n",
        "table_title = \"Table 1. Descriptive statistics for total housing units \" + \\\n",
        "              \"and population by census tract in Texas, 2020.\"\n",
        "table1 = table1.style.set_caption(table_title).format(varformat).set_properties(**{'text-align': 'right'})\n",
        "table1"
      ]
    },
    {
      "cell_type": "markdown",
      "metadata": {
        "id": "TgElfJW6o2bs"
      },
      "source": [
        "### 3.1 Summary of descriptive statistics for Census Tracts in Texas, 2010.\n",
        "\n",
        "In 2020 Texas had 6,896 Census Tracts. The average tract had 1,681 housing units and 4,226 people. These values are slightly higher than the expected 1,600 housing units and 4,000 people. The median values are smaller that then mean, therefore the distribution is skewed to the right, with very large outliers pulling the mean to the right. The standard deviation is 734 for total housing units and 2,026 for the total population. The largest census tract in Texas had 30,199 people."
      ]
    },
    {
      "cell_type": "markdown",
      "metadata": {
        "id": "ikwSx0j0DMs1"
      },
      "source": [
        "Where is the largest Census Tract? If you know the GEOID you can use data.census.gov to find the largest Census Tract. In python we can use the Pandas .loc (locate) function to find observations with a specific value."
      ]
    },
    {
      "cell_type": "code",
      "execution_count": 10,
      "metadata": {
        "colab": {
          "base_uri": "https://localhost:8080/",
          "height": 80
        },
        "id": "JO3nf4W1DXIH",
        "outputId": "4ca0db55-2183-4029-c658-9924d95fd07c"
      },
      "outputs": [
        {
          "data": {
            "text/html": [
              "<div>\n",
              "<style scoped>\n",
              "    .dataframe tbody tr th:only-of-type {\n",
              "        vertical-align: middle;\n",
              "    }\n",
              "\n",
              "    .dataframe tbody tr th {\n",
              "        vertical-align: top;\n",
              "    }\n",
              "\n",
              "    .dataframe thead th {\n",
              "        text-align: right;\n",
              "    }\n",
              "</style>\n",
              "<table border=\"1\" class=\"dataframe\">\n",
              "  <thead>\n",
              "    <tr style=\"text-align: right;\">\n",
              "      <th></th>\n",
              "      <th>Total Housing Units</th>\n",
              "      <th>Total Population</th>\n",
              "      <th>state</th>\n",
              "      <th>county</th>\n",
              "      <th>tract</th>\n",
              "      <th>GEOID</th>\n",
              "      <th>year</th>\n",
              "    </tr>\n",
              "  </thead>\n",
              "  <tbody>\n",
              "    <tr>\n",
              "      <th>6409</th>\n",
              "      <td>10021</td>\n",
              "      <td>30199</td>\n",
              "      <td>48</td>\n",
              "      <td>029</td>\n",
              "      <td>172002</td>\n",
              "      <td>48029172002</td>\n",
              "      <td>2020</td>\n",
              "    </tr>\n",
              "  </tbody>\n",
              "</table>\n",
              "</div>"
            ],
            "text/plain": [
              "      Total Housing Units  Total Population state county   tract        GEOID  \\\n",
              "6409                10021             30199    48    029  172002  48029172002   \n",
              "\n",
              "      year  \n",
              "6409  2020  "
            ]
          },
          "execution_count": 10,
          "metadata": {},
          "output_type": "execute_result"
        }
      ],
      "source": [
        "tractdf.loc[tractdf['Total Population'] > 30000]"
      ]
    },
    {
      "cell_type": "markdown",
      "metadata": {
        "id": "x_GvuN6lEMYq"
      },
      "source": [
        "With the GEOID the data.census.gov link to the data is \n",
        "https://data.census.gov/cedsci/table?g=1400000US48029172002&tid=DECENNIALPL2020.P1\n",
        "\n",
        "The Census Reporter Link for the same tract is \n",
        "https://censusreporter.org/profiles/14000US48029172002-census-tract-172002-bexar-tx/\n",
        "\n",
        "Notice that the link to the website includes the GEOID. \n",
        "\n",
        "Also notice that Census Reporter has been updated to use 2020 Census geographies. These are sometimes different between decennial Census geographies. In the case of Census Tract 48029172002 the geographies appear to be the same.\n"
      ]
    },
    {
      "cell_type": "markdown",
      "metadata": {
        "id": "4MZ8MD2brwtZ"
      },
      "source": [
        "### 3.2 Histograms and Boxplots\n",
        "Histograms and boxplots are tools to help describe the distribution (range and variability) in data. \n",
        "\n",
        "In python the `matplotlib` package provides commands to create graphs."
      ]
    },
    {
      "cell_type": "code",
      "execution_count": 11,
      "metadata": {
        "id": "yYlFkvaswfZ7"
      },
      "outputs": [],
      "source": [
        "import matplotlib.pyplot as plt # required for graphs (histogram, boxplot)"
      ]
    },
    {
      "cell_type": "code",
      "execution_count": 12,
      "metadata": {
        "colab": {
          "base_uri": "https://localhost:8080/",
          "height": 295
        },
        "id": "Rr52vnVvqdH6",
        "outputId": "367412b6-438d-468f-ba5e-60ebda153565"
      },
      "outputs": [
        {
          "data": {
            "image/png": "[encoded data removed]",
            "text/plain": [
              "<Figure size 432x288 with 1 Axes>"
            ]
          },
          "metadata": {
            "needs_background": "light"
          },
          "output_type": "display_data"
        }
      ],
      "source": [
        "plt.hist(tractdf['Total Housing Units'], bins=100)\n",
        "plt.title(\"Figure 3.1. Histogram of total housing units by census tract in Texas, 2020.\")\n",
        "plt.xlabel('Total Housing Units')\n",
        "plt.ylabel('Count')\n",
        "plt.show()"
      ]
    },
    {
      "cell_type": "markdown",
      "metadata": {
        "id": "mLUawb6vb3hY"
      },
      "source": [
        "Figure 3.1 provides a graph of the frequency distribution for the total housing units. Each interval has a bar over it, with a height representing the number of observations in that interval. The distribution \"peaks\" around the mean value of 1,681."
      ]
    },
    {
      "cell_type": "code",
      "execution_count": 13,
      "metadata": {
        "colab": {
          "base_uri": "https://localhost:8080/",
          "height": 295
        },
        "id": "tME6GlltsF3i",
        "outputId": "a0bcf005-8c23-4e2a-8d54-66933a1e7101"
      },
      "outputs": [
        {
          "data": {
            "image/png": "[encoded data removed]",
            "text/plain": [
              "<Figure size 432x288 with 1 Axes>"
            ]
          },
          "metadata": {
            "needs_background": "light"
          },
          "output_type": "display_data"
        }
      ],
      "source": [
        "plt.boxplot(tractdf['Total Housing Units'], vert=False)\n",
        "plt.title(\"Figure 3.2. Boxplot of total housing units by census tract in Texas, 2020.\")\n",
        "plt.xlabel('Total Housing Units')\n",
        "plt.show()"
      ]
    },
    {
      "cell_type": "code",
      "execution_count": 14,
      "metadata": {
        "colab": {
          "base_uri": "https://localhost:8080/",
          "height": 308
        },
        "id": "UPYTt7VxsdyM",
        "outputId": "bc074859-eb0f-44d0-c372-a30f2ca539f3"
      },
      "outputs": [
        {
          "data": {
            "image/png": "[encoded data removed]",
            "text/plain": [
              "<Figure size 432x288 with 2 Axes>"
            ]
          },
          "metadata": {
            "needs_background": "light"
          },
          "output_type": "display_data"
        }
      ],
      "source": [
        "# This block of code combines two plots into one image\n",
        "fig, (ax1, ax2) = plt.subplots(2, 1)\n",
        "fig.suptitle('Figure 3.3. Histogram and Boxplot of total population by census tract in Texas, 2020.')\n",
        "ax1.hist(tractdf['Total Population'], bins=100)\n",
        "ax1.set_ylabel('Count')\n",
        "ax2.boxplot(tractdf['Total Population'], vert=False)\n",
        "ax2.set_xlabel('Total Population')\n",
        "plt.show()"
      ]
    },
    {
      "cell_type": "markdown",
      "metadata": {
        "id": "E1S0h-JfZgt0"
      },
      "source": [
        "#### 3.2.1 Discussion of histograms and boxplots\n",
        "Figure 3.1 is a histogram of total housing units in each census tract in Texas. Notice that the distribution is skewed to the right.\n",
        "\n",
        "Figure 3.2 is a boxplot of the same data that is in Figure 3.1. The box plot uses the descriptive statistics to show the variability of the data. The boxplot highlights that many census tracts are outliers.\n",
        "\n",
        "Figure 3.3 combines a histogram with the boxplot for the total population in each census tract in Texas. Notice that the boxplot highlights the median value, around 4,226 people."
      ]
    },
    {
      "cell_type": "markdown",
      "metadata": {
        "id": "rWE6oRNVTWbx"
      },
      "source": [
        "### 3.3 Scatter Plots, Correlations, and Regression\n",
        "\n",
        "You can construct scatter plots and find correlations and regression prediction equations using the following functions:\n",
        "\n",
        "`scatter` from matplotlib\n",
        "\n",
        "`corr` from pandas\n",
        "\n",
        "`OLS` from the statsmodels package"
      ]
    },
    {
      "cell_type": "code",
      "execution_count": 15,
      "metadata": {
        "colab": {
          "base_uri": "https://localhost:8080/",
          "height": 295
        },
        "id": "c-i1i6d6TkiU",
        "outputId": "d207db73-81cf-4354-f82a-3409181c09e1"
      },
      "outputs": [
        {
          "data": {
            "image/png": "[encoded data removed]",
            "text/plain": [
              "<Figure size 432x288 with 1 Axes>"
            ]
          },
          "metadata": {
            "needs_background": "light"
          },
          "output_type": "display_data"
        }
      ],
      "source": [
        "# Scatter Plot\n",
        "plt.scatter(tractdf['Total Population'], tractdf['Total Housing Units'])\n",
        "plt.title('Figure 3.5. Scatter plot total housing units vs population by census tract in Texas, 2020.')\n",
        "plt.xlabel('Total Housing Units')\n",
        "plt.ylabel('Total Population')\n",
        "plt.show()"
      ]
    },
    {
      "cell_type": "markdown",
      "metadata": {
        "id": "5qej1q2he_BR"
      },
      "source": [
        "### 3.3.1 Discussion of scatter plots\n",
        "\n",
        "Figure 3.5 is an example of a scatterplot, that compares the relationship between total housing units and total population. Total housing units are plotted on the horizontal axis. Total population are plotted on the vertical axis. The figure plots the 6,896 census tracts as 6,896 points. The scatter plot shows that census tracts with more housing units have higher populations."
      ]
    },
    {
      "cell_type": "code",
      "execution_count": 16,
      "metadata": {
        "colab": {
          "base_uri": "https://localhost:8080/",
          "height": 111
        },
        "id": "lcGZhbBXbolh",
        "outputId": "30cd5848-05aa-4fa8-803a-95b877f36c8e"
      },
      "outputs": [
        {
          "data": {
            "text/html": [
              "<div>\n",
              "<style scoped>\n",
              "    .dataframe tbody tr th:only-of-type {\n",
              "        vertical-align: middle;\n",
              "    }\n",
              "\n",
              "    .dataframe tbody tr th {\n",
              "        vertical-align: top;\n",
              "    }\n",
              "\n",
              "    .dataframe thead th {\n",
              "        text-align: right;\n",
              "    }\n",
              "</style>\n",
              "<table border=\"1\" class=\"dataframe\">\n",
              "  <thead>\n",
              "    <tr style=\"text-align: right;\">\n",
              "      <th></th>\n",
              "      <th>Total Population</th>\n",
              "      <th>Total Housing Units</th>\n",
              "    </tr>\n",
              "  </thead>\n",
              "  <tbody>\n",
              "    <tr>\n",
              "      <th>Total Population</th>\n",
              "      <td>1.000000</td>\n",
              "      <td>0.852102</td>\n",
              "    </tr>\n",
              "    <tr>\n",
              "      <th>Total Housing Units</th>\n",
              "      <td>0.852102</td>\n",
              "      <td>1.000000</td>\n",
              "    </tr>\n",
              "  </tbody>\n",
              "</table>\n",
              "</div>"
            ],
            "text/plain": [
              "                     Total Population  Total Housing Units\n",
              "Total Population             1.000000             0.852102\n",
              "Total Housing Units          0.852102             1.000000"
            ]
          },
          "execution_count": 16,
          "metadata": {},
          "output_type": "execute_result"
        }
      ],
      "source": [
        "# Correlation\n",
        "tractdf[['Total Population','Total Housing Units']].corr()"
      ]
    },
    {
      "cell_type": "markdown",
      "metadata": {
        "id": "PdGQemlYgY8m"
      },
      "source": [
        "### 3.3.2 Discussion of correlation\n",
        "Correlation describes how strong the association is between two varaibles. For total population and total housing units the correlation is 0.85. The postive value means that total population tends to go up as total housing units goes up. "
      ]
    },
    {
      "cell_type": "code",
      "execution_count": 17,
      "metadata": {
        "colab": {
          "base_uri": "https://localhost:8080/"
        },
        "id": "l_yxK_UPb0n1",
        "outputId": "f4ba8e36-f121-406b-c26c-7d6dfda3faca"
      },
      "outputs": [
        {
          "data": {
            "text/plain": [
              "LinearRegression()"
            ]
          },
          "execution_count": 17,
          "metadata": {},
          "output_type": "execute_result"
        }
      ],
      "source": [
        "# Regression Prediction\n",
        "from sklearn.linear_model import LinearRegression\n",
        "\n",
        "# Data must be reshaped to work with the Linear Regression Model\n",
        "x = tractdf['Total Housing Units'].values.reshape(-1,1)\n",
        "y = tractdf['Total Population'].values.reshape(-1,1)\n",
        "\n",
        "# Fit and summarize OLS model\n",
        "model = LinearRegression()  \n",
        "model.fit(x, y) "
      ]
    },
    {
      "cell_type": "code",
      "execution_count": 18,
      "metadata": {
        "colab": {
          "base_uri": "https://localhost:8080/"
        },
        "id": "85bqjxLNb_EB",
        "outputId": "ce42851d-108e-4e54-cc61-786acb5b42c1"
      },
      "outputs": [
        {
          "name": "stdout",
          "output_type": "stream",
          "text": [
            "[275.38448301]\n"
          ]
        }
      ],
      "source": [
        "#To retrieve the intercept:\n",
        "intercept = model.intercept_\n",
        "print(intercept)"
      ]
    },
    {
      "cell_type": "code",
      "execution_count": 19,
      "metadata": {
        "colab": {
          "base_uri": "https://localhost:8080/"
        },
        "id": "dfQP29EscBGA",
        "outputId": "0b259610-8a8b-452b-c301-2b74fc746bb5"
      },
      "outputs": [
        {
          "name": "stdout",
          "output_type": "stream",
          "text": [
            "[[2.35099593]]\n"
          ]
        }
      ],
      "source": [
        "#For retrieving the slope:\n",
        "slope = model.coef_\n",
        "print(slope)"
      ]
    },
    {
      "cell_type": "markdown",
      "metadata": {
        "id": "6hIQVp7nhTEr"
      },
      "source": [
        "### 3.3.3 Discussion of regression\n",
        "Regression analysis describes is a useful tool for describing the trend between variables. The example above treats total population as the response variable (y) and total housing units as the explanatory variable (x). The equation assumes that the number of housing units explains the number of people. The results of the regression analysis predict that for each additional housing unit in a census tract the population will increase by 2.35 people."
      ]
    },
    {
      "cell_type": "markdown",
      "metadata": {
        "id": "IYzY-ffkitF7"
      },
      "source": [
        "### 3.4 Finding outliers\n",
        "The following section provides the steps needed to identify potential outliers within the data. This section will look at two approaches. First, observations that fall more than 1.5 times the interquartile range (IQR) above the upper quartile will be identified. Second, observations with a z-score greater than 3 will be identified."
      ]
    },
    {
      "cell_type": "markdown",
      "metadata": {
        "id": "Nj-o8ohPqpmR"
      },
      "source": [
        "#### 3.4.1 IQR Outliers\n",
        "The `quantile` function provides a means to determine the the lower and upper quartiles. Quartiles (think quarters) divide the data into four equal parts. The lower quartile is the value that is greater than 25% of the data. The upper quartile is the value that is greater than 75% of the data. The interquartile range (IQR) is the difference between the upper and lower quartiles.\n",
        "\n",
        "Notice that with the function `quartile` .25 is the lower quartile and .75 is the upper quartile."
      ]
    },
    {
      "cell_type": "code",
      "execution_count": 20,
      "metadata": {
        "colab": {
          "base_uri": "https://localhost:8080/"
        },
        "id": "GyydnXAOj0ia",
        "outputId": "3fb54005-8fb3-4211-b69b-22d08ba24646"
      },
      "outputs": [
        {
          "name": "stdout",
          "output_type": "stream",
          "text": [
            "The Interquartile range is  2334.25\n"
          ]
        }
      ],
      "source": [
        "lower_quartile_pop = tractdf['Total Population'].quantile(.25)\n",
        "upper_quartile_pop = tractdf['Total Population'].quantile(.75)\n",
        "IQR_pop = upper_quartile_pop - lower_quartile_pop\n",
        "print('The Interquartile range is ',IQR_pop)"
      ]
    },
    {
      "cell_type": "markdown",
      "metadata": {},
      "source": [
        "Using the IQR method, the following code defines the upper and lower bounds for the total population variable. The upper bound is the upper quartile plus 1.5 times the IQR. The lower bound is the lower quartile minus 1.5 times the IQR.\n",
        "\n",
        "This code is a good example of how to create and save a number as a variable to be used later in the program. The code uses the variables `IQR_pop`,  `upper_quartile_pop`, and `lower_quartile_block` created in the previous code block to create the variables `upper_bound_pop` and `lower_bound_pop`.\n",
        "\n",
        "The code style attempts to be \"self documenting\" with variable names that provide context clues to the purpose of the variable."
      ]
    },
    {
      "cell_type": "code",
      "execution_count": 21,
      "metadata": {
        "colab": {
          "base_uri": "https://localhost:8080/"
        },
        "id": "jkaOQzzrok7K",
        "outputId": "1609817d-b793-4e30-9c32-ecfeb88fe1de"
      },
      "outputs": [
        {
          "name": "stdout",
          "output_type": "stream",
          "text": [
            "If a census tract has more than 8695.625 people it is an outlier.\n",
            "If a census tract has less than -641.375 people it is an outlier.\n"
          ]
        }
      ],
      "source": [
        "# How many people need to be in a census tract to be an outlier?\n",
        "upper_bound = upper_quartile_pop + 1.5*IQR_pop\n",
        "lower_bound = lower_quartile_pop - 1.5*IQR_pop\n",
        "print('If a census tract has more than',upper_bound,'people it is an outlier.')\n",
        "print('If a census tract has less than',lower_bound,'people it is an outlier.')"
      ]
    },
    {
      "cell_type": "markdown",
      "metadata": {},
      "source": [
        "The code below uses the `loc` function to find observations that fall outside the upper and lower bounds."
      ]
    },
    {
      "cell_type": "code",
      "execution_count": 24,
      "metadata": {
        "colab": {
          "base_uri": "https://localhost:8080/"
        },
        "id": "cKhz1uxtjqk2",
        "outputId": "76cc1168-47c6-4d47-a238-44989ff5e68f"
      },
      "outputs": [
        {
          "data": {
            "text/plain": [
              "count    6896.000000\n",
              "mean        0.026827\n",
              "std         0.161590\n",
              "min         0.000000\n",
              "25%         0.000000\n",
              "50%         0.000000\n",
              "75%         0.000000\n",
              "max         1.000000\n",
              "Name: IQR Outlier Total Population, dtype: float64"
            ]
          },
          "execution_count": 24,
          "metadata": {},
          "output_type": "execute_result"
        }
      ],
      "source": [
        "# Create a new variable to identify outliers\n",
        "tractdf['IQR Outlier Total Population'] = 0\n",
        "tractdf.loc[tractdf['Total Population'] >upper_bound, \n",
        "            'IQR Outlier Total Population'] = 1\n",
        "tractdf.loc[tractdf['Total Population'] < lower_bound, \n",
        "            'IQR Outlier Total Population'] = 1\n",
        "tractdf['IQR Outlier Total Population'].describe()"
      ]
    },
    {
      "cell_type": "markdown",
      "metadata": {},
      "source": [
        "A unique quality of binary variables is that the mean of the variable provides the proportion of the data that has the attribute. In the case of census tracts, 0.026 or 2.6% of observations would be considered outliers."
      ]
    },
    {
      "cell_type": "markdown",
      "metadata": {
        "id": "V9aXBrpcjp_g"
      },
      "source": [
        "##### 3.4.1.1 Discussion of IQR outliers\n",
        "Now that we have identified which census tracts are outliers based on the IQR definition, we can see that there are 185 census tracts that are have a population greater than 8,696."
      ]
    },
    {
      "cell_type": "code",
      "execution_count": 25,
      "metadata": {
        "colab": {
          "base_uri": "https://localhost:8080/",
          "height": 120
        },
        "id": "DfcKvWBgoMZa",
        "outputId": "09c97a58-3904-4df6-b218-fdae0a78f6b9"
      },
      "outputs": [
        {
          "data": {
            "text/html": [
              "<style type=\"text/css\">\n",
              "#T_68bc1_row0_col0, #T_68bc1_row0_col1, #T_68bc1_row0_col2, #T_68bc1_row0_col3, #T_68bc1_row0_col4, #T_68bc1_row0_col5, #T_68bc1_row0_col6, #T_68bc1_row0_col7, #T_68bc1_row1_col0, #T_68bc1_row1_col1, #T_68bc1_row1_col2, #T_68bc1_row1_col3, #T_68bc1_row1_col4, #T_68bc1_row1_col5, #T_68bc1_row1_col6, #T_68bc1_row1_col7, #T_68bc1_row2_col0, #T_68bc1_row2_col1, #T_68bc1_row2_col2, #T_68bc1_row2_col3, #T_68bc1_row2_col4, #T_68bc1_row2_col5, #T_68bc1_row2_col6, #T_68bc1_row2_col7 {\n",
              "  text-align: right;\n",
              "}\n",
              "</style>\n",
              "<table id=\"T_68bc1_\">\n",
              "  <caption>Table 2. Descriptive statistics for IQR outlier census tracts in Texas, 2020.</caption>\n",
              "  <thead>\n",
              "    <tr>\n",
              "      <th class=\"blank level0\" >&nbsp;</th>\n",
              "      <th class=\"col_heading level0 col0\" >count</th>\n",
              "      <th class=\"col_heading level0 col1\" >mean</th>\n",
              "      <th class=\"col_heading level0 col2\" >std</th>\n",
              "      <th class=\"col_heading level0 col3\" >min</th>\n",
              "      <th class=\"col_heading level0 col4\" >25%</th>\n",
              "      <th class=\"col_heading level0 col5\" >50%</th>\n",
              "      <th class=\"col_heading level0 col6\" >75%</th>\n",
              "      <th class=\"col_heading level0 col7\" >max</th>\n",
              "    </tr>\n",
              "  </thead>\n",
              "  <tbody>\n",
              "    <tr>\n",
              "      <th id=\"T_68bc1_level0_row0\" class=\"row_heading level0 row0\" >Total Housing Units</th>\n",
              "      <td id=\"T_68bc1_row0_col0\" class=\"data row0 col0\" >185</td>\n",
              "      <td id=\"T_68bc1_row0_col1\" class=\"data row0 col1\" >3,729</td>\n",
              "      <td id=\"T_68bc1_row0_col2\" class=\"data row0 col2\" >1,078</td>\n",
              "      <td id=\"T_68bc1_row0_col3\" class=\"data row0 col3\" >506</td>\n",
              "      <td id=\"T_68bc1_row0_col4\" class=\"data row0 col4\" >3,064</td>\n",
              "      <td id=\"T_68bc1_row0_col5\" class=\"data row0 col5\" >3,564</td>\n",
              "      <td id=\"T_68bc1_row0_col6\" class=\"data row0 col6\" >4,090</td>\n",
              "      <td id=\"T_68bc1_row0_col7\" class=\"data row0 col7\" >10,021</td>\n",
              "    </tr>\n",
              "    <tr>\n",
              "      <th id=\"T_68bc1_level0_row1\" class=\"row_heading level0 row1\" >Total Population</th>\n",
              "      <td id=\"T_68bc1_row1_col0\" class=\"data row1 col0\" >185</td>\n",
              "      <td id=\"T_68bc1_row1_col1\" class=\"data row1 col1\" >11,124</td>\n",
              "      <td id=\"T_68bc1_row1_col2\" class=\"data row1 col2\" >3,014</td>\n",
              "      <td id=\"T_68bc1_row1_col3\" class=\"data row1 col3\" >8,698</td>\n",
              "      <td id=\"T_68bc1_row1_col4\" class=\"data row1 col4\" >9,414</td>\n",
              "      <td id=\"T_68bc1_row1_col5\" class=\"data row1 col5\" >10,188</td>\n",
              "      <td id=\"T_68bc1_row1_col6\" class=\"data row1 col6\" >11,727</td>\n",
              "      <td id=\"T_68bc1_row1_col7\" class=\"data row1 col7\" >30,199</td>\n",
              "    </tr>\n",
              "    <tr>\n",
              "      <th id=\"T_68bc1_level0_row2\" class=\"row_heading level0 row2\" >IQR Outlier Total Population</th>\n",
              "      <td id=\"T_68bc1_row2_col0\" class=\"data row2 col0\" >185</td>\n",
              "      <td id=\"T_68bc1_row2_col1\" class=\"data row2 col1\" >1</td>\n",
              "      <td id=\"T_68bc1_row2_col2\" class=\"data row2 col2\" >0</td>\n",
              "      <td id=\"T_68bc1_row2_col3\" class=\"data row2 col3\" >1</td>\n",
              "      <td id=\"T_68bc1_row2_col4\" class=\"data row2 col4\" >1</td>\n",
              "      <td id=\"T_68bc1_row2_col5\" class=\"data row2 col5\" >1</td>\n",
              "      <td id=\"T_68bc1_row2_col6\" class=\"data row2 col6\" >1</td>\n",
              "      <td id=\"T_68bc1_row2_col7\" class=\"data row2 col7\" >1</td>\n",
              "    </tr>\n",
              "  </tbody>\n",
              "</table>\n"
            ],
            "text/plain": [
              "<pandas.io.formats.style.Styler at 0x1de83b1a688>"
            ]
          },
          "execution_count": 25,
          "metadata": {},
          "output_type": "execute_result"
        }
      ],
      "source": [
        "table2 = tractdf.loc[tractdf['IQR Outlier Total Population'] == 1].describe().T\n",
        "varformat = \"{:,.0f}\" # The variable format adds a comma and rounds up\n",
        "table_title = \"Table 2. Descriptive statistics for IQR outlier census tracts in Texas, 2020.\"\n",
        "table2 = table2.style.set_caption(table_title).format(varformat).set_properties(**{'text-align': 'right'})\n",
        "table2"
      ]
    },
    {
      "cell_type": "markdown",
      "metadata": {
        "id": "OyF80Mu_q036"
      },
      "source": [
        "#### 3.4.2 Z-Score Outliers\n",
        "Another way to identify outliers is by looking at the z-score, or the number of standard deviations an observation falls from the mean. \n",
        "The formula for z-score is\n",
        "\n",
        ">$z = \\frac{observation - mean}{{standard deviation}}$\n",
        "\n",
        "If a census tracts z-score is greater than or less than 3 it would be considered an outlier.\n"
      ]
    },
    {
      "cell_type": "code",
      "execution_count": 24,
      "metadata": {
        "colab": {
          "base_uri": "https://localhost:8080/"
        },
        "id": "1-3sz4KArc98",
        "outputId": "cb3c7fcb-a16e-442d-d6fd-7bae66c6919a"
      },
      "outputs": [
        {
          "name": "stdout",
          "output_type": "stream",
          "text": [
            "The average census tract had a total population of 4226.436339907193\n",
            "The standard deviation for the distribution was 2025.5038926528953\n"
          ]
        }
      ],
      "source": [
        "mean = tractdf['Total Population'].mean()\n",
        "standard_deviation = tractdf['Total Population'].std()\n",
        "print('The average census tract had a total population of', mean)\n",
        "print('The standard deviation for the distribution was', standard_deviation)"
      ]
    },
    {
      "cell_type": "code",
      "execution_count": 25,
      "metadata": {
        "colab": {
          "base_uri": "https://localhost:8080/"
        },
        "id": "aQ85qH-Wq74H",
        "outputId": "287c05b2-8a69-49fd-8e05-cad36912544e"
      },
      "outputs": [
        {
          "data": {
            "text/plain": [
              "count    6.896000e+03\n",
              "mean    -2.025320e-17\n",
              "std      1.000000e+00\n",
              "min     -2.086610e+00\n",
              "25%     -6.746155e-01\n",
              "50%     -1.330219e-01\n",
              "75%      4.778138e-01\n",
              "max      1.282277e+01\n",
              "Name: Total Population Z-score, dtype: float64"
            ]
          },
          "execution_count": 25,
          "metadata": {},
          "output_type": "execute_result"
        }
      ],
      "source": [
        "tractdf['Total Population Z-score'] = (tractdf['Total Population'] - mean)/standard_deviation\n",
        "tractdf['Total Population Z-score'].describe()"
      ]
    },
    {
      "cell_type": "code",
      "execution_count": 26,
      "metadata": {
        "colab": {
          "base_uri": "https://localhost:8080/"
        },
        "id": "UDDDRP_CtECJ",
        "outputId": "a34b5ff0-91ff-4b0d-fd38-64a010cbaa06"
      },
      "outputs": [
        {
          "data": {
            "text/plain": [
              "count    6896.000000\n",
              "mean        0.012906\n",
              "std         0.112877\n",
              "min         0.000000\n",
              "25%         0.000000\n",
              "50%         0.000000\n",
              "75%         0.000000\n",
              "max         1.000000\n",
              "Name: Z-score Outlier Total Population, dtype: float64"
            ]
          },
          "execution_count": 26,
          "metadata": {},
          "output_type": "execute_result"
        }
      ],
      "source": [
        "# Create a new variable to identify outliers\n",
        "tractdf['Z-score Outlier Total Population'] = 0\n",
        "tractdf.loc[abs(tractdf['Total Population Z-score']) > 3, \n",
        "            'Z-score Outlier Total Population'] = 1\n",
        "tractdf['Z-score Outlier Total Population'].describe()"
      ]
    },
    {
      "cell_type": "code",
      "execution_count": 27,
      "metadata": {
        "colab": {
          "base_uri": "https://localhost:8080/",
          "height": 162
        },
        "id": "YWeozm-atnf6",
        "outputId": "23711fd0-996b-4139-a6e6-e398b2a97613"
      },
      "outputs": [
        {
          "data": {
            "text/html": [
              "<style  type=\"text/css\" >\n",
              "#T_6697dd12_1ae1_11ec_8e8d_0242ac1c0002row0_col0,#T_6697dd12_1ae1_11ec_8e8d_0242ac1c0002row0_col1,#T_6697dd12_1ae1_11ec_8e8d_0242ac1c0002row0_col2,#T_6697dd12_1ae1_11ec_8e8d_0242ac1c0002row0_col3,#T_6697dd12_1ae1_11ec_8e8d_0242ac1c0002row0_col4,#T_6697dd12_1ae1_11ec_8e8d_0242ac1c0002row0_col5,#T_6697dd12_1ae1_11ec_8e8d_0242ac1c0002row0_col6,#T_6697dd12_1ae1_11ec_8e8d_0242ac1c0002row0_col7,#T_6697dd12_1ae1_11ec_8e8d_0242ac1c0002row1_col0,#T_6697dd12_1ae1_11ec_8e8d_0242ac1c0002row1_col1,#T_6697dd12_1ae1_11ec_8e8d_0242ac1c0002row1_col2,#T_6697dd12_1ae1_11ec_8e8d_0242ac1c0002row1_col3,#T_6697dd12_1ae1_11ec_8e8d_0242ac1c0002row1_col4,#T_6697dd12_1ae1_11ec_8e8d_0242ac1c0002row1_col5,#T_6697dd12_1ae1_11ec_8e8d_0242ac1c0002row1_col6,#T_6697dd12_1ae1_11ec_8e8d_0242ac1c0002row1_col7,#T_6697dd12_1ae1_11ec_8e8d_0242ac1c0002row2_col0,#T_6697dd12_1ae1_11ec_8e8d_0242ac1c0002row2_col1,#T_6697dd12_1ae1_11ec_8e8d_0242ac1c0002row2_col2,#T_6697dd12_1ae1_11ec_8e8d_0242ac1c0002row2_col3,#T_6697dd12_1ae1_11ec_8e8d_0242ac1c0002row2_col4,#T_6697dd12_1ae1_11ec_8e8d_0242ac1c0002row2_col5,#T_6697dd12_1ae1_11ec_8e8d_0242ac1c0002row2_col6,#T_6697dd12_1ae1_11ec_8e8d_0242ac1c0002row2_col7,#T_6697dd12_1ae1_11ec_8e8d_0242ac1c0002row3_col0,#T_6697dd12_1ae1_11ec_8e8d_0242ac1c0002row3_col1,#T_6697dd12_1ae1_11ec_8e8d_0242ac1c0002row3_col2,#T_6697dd12_1ae1_11ec_8e8d_0242ac1c0002row3_col3,#T_6697dd12_1ae1_11ec_8e8d_0242ac1c0002row3_col4,#T_6697dd12_1ae1_11ec_8e8d_0242ac1c0002row3_col5,#T_6697dd12_1ae1_11ec_8e8d_0242ac1c0002row3_col6,#T_6697dd12_1ae1_11ec_8e8d_0242ac1c0002row3_col7,#T_6697dd12_1ae1_11ec_8e8d_0242ac1c0002row4_col0,#T_6697dd12_1ae1_11ec_8e8d_0242ac1c0002row4_col1,#T_6697dd12_1ae1_11ec_8e8d_0242ac1c0002row4_col2,#T_6697dd12_1ae1_11ec_8e8d_0242ac1c0002row4_col3,#T_6697dd12_1ae1_11ec_8e8d_0242ac1c0002row4_col4,#T_6697dd12_1ae1_11ec_8e8d_0242ac1c0002row4_col5,#T_6697dd12_1ae1_11ec_8e8d_0242ac1c0002row4_col6,#T_6697dd12_1ae1_11ec_8e8d_0242ac1c0002row4_col7{\n",
              "            text-align:  right;\n",
              "        }</style><table id=\"T_6697dd12_1ae1_11ec_8e8d_0242ac1c0002\" ><caption>Table 3. Descriptive statistics for Z-score outlier census tracts in Texas, 2020.</caption><thead>    <tr>        <th class=\"blank level0\" ></th>        <th class=\"col_heading level0 col0\" >count</th>        <th class=\"col_heading level0 col1\" >mean</th>        <th class=\"col_heading level0 col2\" >std</th>        <th class=\"col_heading level0 col3\" >min</th>        <th class=\"col_heading level0 col4\" >25%</th>        <th class=\"col_heading level0 col5\" >50%</th>        <th class=\"col_heading level0 col6\" >75%</th>        <th class=\"col_heading level0 col7\" >max</th>    </tr></thead><tbody>\n",
              "                <tr>\n",
              "                        <th id=\"T_6697dd12_1ae1_11ec_8e8d_0242ac1c0002level0_row0\" class=\"row_heading level0 row0\" >Total Housing Units</th>\n",
              "                        <td id=\"T_6697dd12_1ae1_11ec_8e8d_0242ac1c0002row0_col0\" class=\"data row0 col0\" >89</td>\n",
              "                        <td id=\"T_6697dd12_1ae1_11ec_8e8d_0242ac1c0002row0_col1\" class=\"data row0 col1\" >4,318</td>\n",
              "                        <td id=\"T_6697dd12_1ae1_11ec_8e8d_0242ac1c0002row0_col2\" class=\"data row0 col2\" >1,197</td>\n",
              "                        <td id=\"T_6697dd12_1ae1_11ec_8e8d_0242ac1c0002row0_col3\" class=\"data row0 col3\" >2,366</td>\n",
              "                        <td id=\"T_6697dd12_1ae1_11ec_8e8d_0242ac1c0002row0_col4\" class=\"data row0 col4\" >3,606</td>\n",
              "                        <td id=\"T_6697dd12_1ae1_11ec_8e8d_0242ac1c0002row0_col5\" class=\"data row0 col5\" >4,090</td>\n",
              "                        <td id=\"T_6697dd12_1ae1_11ec_8e8d_0242ac1c0002row0_col6\" class=\"data row0 col6\" >4,670</td>\n",
              "                        <td id=\"T_6697dd12_1ae1_11ec_8e8d_0242ac1c0002row0_col7\" class=\"data row0 col7\" >10,021</td>\n",
              "            </tr>\n",
              "            <tr>\n",
              "                        <th id=\"T_6697dd12_1ae1_11ec_8e8d_0242ac1c0002level0_row1\" class=\"row_heading level0 row1\" >Total Population</th>\n",
              "                        <td id=\"T_6697dd12_1ae1_11ec_8e8d_0242ac1c0002row1_col0\" class=\"data row1 col0\" >89</td>\n",
              "                        <td id=\"T_6697dd12_1ae1_11ec_8e8d_0242ac1c0002row1_col1\" class=\"data row1 col1\" >12,988</td>\n",
              "                        <td id=\"T_6697dd12_1ae1_11ec_8e8d_0242ac1c0002row1_col2\" class=\"data row1 col2\" >3,464</td>\n",
              "                        <td id=\"T_6697dd12_1ae1_11ec_8e8d_0242ac1c0002row1_col3\" class=\"data row1 col3\" >10,308</td>\n",
              "                        <td id=\"T_6697dd12_1ae1_11ec_8e8d_0242ac1c0002row1_col4\" class=\"data row1 col4\" >10,849</td>\n",
              "                        <td id=\"T_6697dd12_1ae1_11ec_8e8d_0242ac1c0002row1_col5\" class=\"data row1 col5\" >11,980</td>\n",
              "                        <td id=\"T_6697dd12_1ae1_11ec_8e8d_0242ac1c0002row1_col6\" class=\"data row1 col6\" >13,644</td>\n",
              "                        <td id=\"T_6697dd12_1ae1_11ec_8e8d_0242ac1c0002row1_col7\" class=\"data row1 col7\" >30,199</td>\n",
              "            </tr>\n",
              "            <tr>\n",
              "                        <th id=\"T_6697dd12_1ae1_11ec_8e8d_0242ac1c0002level0_row2\" class=\"row_heading level0 row2\" >IQR Outlier Total Population</th>\n",
              "                        <td id=\"T_6697dd12_1ae1_11ec_8e8d_0242ac1c0002row2_col0\" class=\"data row2 col0\" >89</td>\n",
              "                        <td id=\"T_6697dd12_1ae1_11ec_8e8d_0242ac1c0002row2_col1\" class=\"data row2 col1\" >1</td>\n",
              "                        <td id=\"T_6697dd12_1ae1_11ec_8e8d_0242ac1c0002row2_col2\" class=\"data row2 col2\" >0</td>\n",
              "                        <td id=\"T_6697dd12_1ae1_11ec_8e8d_0242ac1c0002row2_col3\" class=\"data row2 col3\" >1</td>\n",
              "                        <td id=\"T_6697dd12_1ae1_11ec_8e8d_0242ac1c0002row2_col4\" class=\"data row2 col4\" >1</td>\n",
              "                        <td id=\"T_6697dd12_1ae1_11ec_8e8d_0242ac1c0002row2_col5\" class=\"data row2 col5\" >1</td>\n",
              "                        <td id=\"T_6697dd12_1ae1_11ec_8e8d_0242ac1c0002row2_col6\" class=\"data row2 col6\" >1</td>\n",
              "                        <td id=\"T_6697dd12_1ae1_11ec_8e8d_0242ac1c0002row2_col7\" class=\"data row2 col7\" >1</td>\n",
              "            </tr>\n",
              "            <tr>\n",
              "                        <th id=\"T_6697dd12_1ae1_11ec_8e8d_0242ac1c0002level0_row3\" class=\"row_heading level0 row3\" >Total Population Z-score</th>\n",
              "                        <td id=\"T_6697dd12_1ae1_11ec_8e8d_0242ac1c0002row3_col0\" class=\"data row3 col0\" >89</td>\n",
              "                        <td id=\"T_6697dd12_1ae1_11ec_8e8d_0242ac1c0002row3_col1\" class=\"data row3 col1\" >4</td>\n",
              "                        <td id=\"T_6697dd12_1ae1_11ec_8e8d_0242ac1c0002row3_col2\" class=\"data row3 col2\" >2</td>\n",
              "                        <td id=\"T_6697dd12_1ae1_11ec_8e8d_0242ac1c0002row3_col3\" class=\"data row3 col3\" >3</td>\n",
              "                        <td id=\"T_6697dd12_1ae1_11ec_8e8d_0242ac1c0002row3_col4\" class=\"data row3 col4\" >3</td>\n",
              "                        <td id=\"T_6697dd12_1ae1_11ec_8e8d_0242ac1c0002row3_col5\" class=\"data row3 col5\" >4</td>\n",
              "                        <td id=\"T_6697dd12_1ae1_11ec_8e8d_0242ac1c0002row3_col6\" class=\"data row3 col6\" >5</td>\n",
              "                        <td id=\"T_6697dd12_1ae1_11ec_8e8d_0242ac1c0002row3_col7\" class=\"data row3 col7\" >13</td>\n",
              "            </tr>\n",
              "            <tr>\n",
              "                        <th id=\"T_6697dd12_1ae1_11ec_8e8d_0242ac1c0002level0_row4\" class=\"row_heading level0 row4\" >Z-score Outlier Total Population</th>\n",
              "                        <td id=\"T_6697dd12_1ae1_11ec_8e8d_0242ac1c0002row4_col0\" class=\"data row4 col0\" >89</td>\n",
              "                        <td id=\"T_6697dd12_1ae1_11ec_8e8d_0242ac1c0002row4_col1\" class=\"data row4 col1\" >1</td>\n",
              "                        <td id=\"T_6697dd12_1ae1_11ec_8e8d_0242ac1c0002row4_col2\" class=\"data row4 col2\" >0</td>\n",
              "                        <td id=\"T_6697dd12_1ae1_11ec_8e8d_0242ac1c0002row4_col3\" class=\"data row4 col3\" >1</td>\n",
              "                        <td id=\"T_6697dd12_1ae1_11ec_8e8d_0242ac1c0002row4_col4\" class=\"data row4 col4\" >1</td>\n",
              "                        <td id=\"T_6697dd12_1ae1_11ec_8e8d_0242ac1c0002row4_col5\" class=\"data row4 col5\" >1</td>\n",
              "                        <td id=\"T_6697dd12_1ae1_11ec_8e8d_0242ac1c0002row4_col6\" class=\"data row4 col6\" >1</td>\n",
              "                        <td id=\"T_6697dd12_1ae1_11ec_8e8d_0242ac1c0002row4_col7\" class=\"data row4 col7\" >1</td>\n",
              "            </tr>\n",
              "    </tbody></table>"
            ],
            "text/plain": [
              "<pandas.io.formats.style.Styler at 0x7f86b7a48dd0>"
            ]
          },
          "execution_count": 27,
          "metadata": {},
          "output_type": "execute_result"
        }
      ],
      "source": [
        "table3 = tractdf.loc[tractdf['Z-score Outlier Total Population'] == 1].describe().T\n",
        "varformat = \"{:,.0f}\" # The variable format adds a comma and rounds up\n",
        "table_title = \"Table 3. Descriptive statistics for Z-score outlier census tracts in Texas, 2020.\"\n",
        "table3 = table3.style.set_caption(table_title).format(varformat).set_properties(**{'text-align': 'right'})\n",
        "table3"
      ]
    },
    {
      "cell_type": "markdown",
      "metadata": {
        "id": "rZIaPbACuBp1"
      },
      "source": [
        "##### 3.4.1.2 Discussion of Z-score outliers\n",
        "Now that we have identified which census tracts are outliers based on the Z-scores definition, we can see that there are only 70 census tracts that are are more than 3 standard deviations from the mean. These census tracts have populations greater than 12,134 people. Notice that all of the z-score outliers are also IQR outliers."
      ]
    },
    {
      "cell_type": "markdown",
      "metadata": {
        "id": "0hVvf-KluaHh"
      },
      "source": [
        "## Step 4: Save results\n",
        "The final step in this notebook is to save the results as a csv file. In Google Colab the file will be saved into a temporary folder and can be found by clicking on the file icon to right of the window. The file can be downloaded to your computer."
      ]
    },
    {
      "cell_type": "code",
      "execution_count": 28,
      "metadata": {
        "id": "WDpw8rHbuZJ1"
      },
      "outputs": [],
      "source": [
        "tractdf.to_csv('tract_outliers_texas2020.csv')"
      ]
    },
    {
      "cell_type": "markdown",
      "metadata": {
        "id": "f4D4ZPtJRDgG"
      },
      "source": [
        "# Just in case.... Python Version Information\n",
        "Python is an open source programming language, which means that it is not owned or maintained by a private company. Programmers create packages (collections of programs) and make them publicly available. \n",
        "The versions of python and packages can change frequently. Sometimes, when a version changes the code also needs to change. The program above was based on the following versions:\n",
        "* Python Version      3.7.12 (default, Sep 10 2021, 00:21:48) \n",
        "* pandas version:     1.1.5\n",
        "* requests version:      2.23.0\n",
        "* matplotlib: 3.2.2\n",
        "\n",
        "If there are errors in the code, it is most likely due to changes in the versions."
      ]
    },
    {
      "cell_type": "code",
      "execution_count": 29,
      "metadata": {
        "colab": {
          "base_uri": "https://localhost:8080/"
        },
        "id": "S1AEFgCUka9l",
        "outputId": "f88b0fea-657a-4665-8a2f-16316cf6fe0f"
      },
      "outputs": [
        {
          "name": "stdout",
          "output_type": "stream",
          "text": [
            "Python Version      3.7.12 (default, Sep 10 2021, 00:21:48) \n",
            "[GCC 7.5.0]\n",
            "pandas version:     1.1.5\n",
            "requests version:      2.23.0\n",
            "matplotlib:  3.2.2\n"
          ]
        }
      ],
      "source": [
        "# Import packages\n",
        "import sys # For checking version of python for replication\n",
        "import matplotlib # required to see the version of matplotlib\n",
        "\n",
        "# It is important to know the versions being used - this will help with debugging\n",
        "print(\"Python Version     \", sys.version)\n",
        "print(\"pandas version:    \", pd.__version__)\n",
        "print(\"requests version:     \", requests.__version__)\n",
        "print(\"matplotlib: \", matplotlib.__version__)"
      ]
    }
  ],
  "metadata": {
    "colab": {
      "authorship_tag": "ABX9TyMSWiqxBM3fJhQewWbBjAbY",
      "include_colab_link": true,
      "name": "PLAN604_Descriptive_Statistics_2020CensusTracts",
      "provenance": []
    },
    "kernelspec": {
      "display_name": "Python 3.7.10 ('pyincoreEnv20210802')",
      "language": "python",
      "name": "python3"
    },
    "language_info": {
      "codemirror_mode": {
        "name": "ipython",
        "version": 3
      },
      "file_extension": ".py",
      "mimetype": "text/x-python",
      "name": "python",
      "nbconvert_exporter": "python",
      "pygments_lexer": "ipython3",
      "version": "3.7.10"
    },
    "vscode": {
      "interpreter": {
        "hash": "4df308431e0e051f1a7caa73a15c7a71398d18f0e70d73b50ce41f664d9adabe"
      }
    }
  },
  "nbformat": 4,
  "nbformat_minor": 0
}
