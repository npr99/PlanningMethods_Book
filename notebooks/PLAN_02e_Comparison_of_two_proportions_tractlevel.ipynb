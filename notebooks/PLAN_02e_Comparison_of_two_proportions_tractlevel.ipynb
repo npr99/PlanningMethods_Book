{
  "cells": [
    {
      "cell_type": "markdown",
      "metadata": {
        "colab_type": "text",
        "id": "view-in-github"
      },
      "source": [
        "<a href=\"https://colab.research.google.com/github/npr99/PlanningMethods/blob/master/PLAN604_Comparison_of_two_proportions_tractlevel.ipynb\" target=\"_parent\"><img src=\"https://colab.research.google.com/assets/colab-badge.svg\" alt=\"Open In Colab\"/></a>"
      ]
    },
    {
      "cell_type": "markdown",
      "metadata": {
        "id": "P-EggxqJwovL"
      },
      "source": [
        "# Application of Comparing two Proportions from ACS Data\n",
        " \n",
        "---\n",
        "This Google Colab Notebook provides a complete workflow (sequence of steps from start to finish) that will allow you to explore two proportions found in ACS Data. \n",
        "\n",
        "This notebook compares population proportions found in the 2012 5-year ACS and the 2019 5-year ACS. The research question what census geographies have a stastically significant difference between two proportions found in two different ACS surveys. The 2012 5-year ACS includes random samples of households between 2008, 2009, 2010, 2011, and 2012. The 2019 5-year ACS includes random samples of households between 2015, 2016, 2017, 2018, and 2019.\n",
        "\n",
        "### Two New python features in this notebook:\n",
        "\n",
        "#### 1. Resuing code\n",
        "This notebook introduces Python concepts of reading in and running a python file that includes reusable code. The code in the python file is stored on GitHub and has code that was introduced in earlier notebooks.\n",
        "\n",
        "When a new pacakge is imported - such as `import pandas as pd` - the notebook is reading in python files that have been shared as open source. The python programming enviroment is simply many python files (`.py`) being referenced. Each (`.py`) is created and maintained by users across the globe.\n",
        "\n",
        "#### 2. Loops\n",
        "Loops are a powerful way to repeat functions across different values. In this notebook we will loop over multiple ACS years and multiple variables.\n"
      ]
    },
    {
      "cell_type": "code",
      "execution_count": 1,
      "metadata": {
        "id": "jxd6s7EZwjb6"
      },
      "outputs": [],
      "source": [
        "# Python packages required to read in and Census API data\n",
        "import requests ## Required for the Census API\n",
        "import pandas as pd # For reading, writing and wrangling data\n",
        "import matplotlib.pyplot as plt # For plotting and making graphs\n",
        "import numpy as np"
      ]
    },
    {
      "cell_type": "code",
      "execution_count": 6,
      "metadata": {
        "colab": {
          "base_uri": "https://localhost:8080/"
        },
        "id": "Qa1Vw4MQEUxQ",
        "outputId": "8fd68d7e-efe3-4e85-904f-f5fe2b29113c"
      },
      "outputs": [
        {
          "ename": "SyntaxError",
          "evalue": "invalid syntax (3031067326.py, line 9)",
          "output_type": "error",
          "traceback": [
            "\u001b[1;36m  Input \u001b[1;32mIn [6]\u001b[1;36m\u001b[0m\n\u001b[1;33m    wget --no-cache --quiet --backups=1 {url}\u001b[0m\n\u001b[1;37m                                        ^\u001b[0m\n\u001b[1;31mSyntaxError\u001b[0m\u001b[1;31m:\u001b[0m invalid syntax\n"
          ]
        }
      ],
      "source": [
        "# Downloading and running python script from github\n",
        "# https://jckantor.github.io/cbe61622/A.02-Downloading_Python_source_files_from_github.html\n",
        "# Make sure the url is the raw version of the file on GitHub\n",
        "\n",
        "user = \"npr99\"\n",
        "repo = \"PlanningMethods\"\n",
        "pyfile = \"_planning_methods.py\"\n",
        "url = f\"https://raw.githubusercontent.com/{user}/{repo}/master/{pyfile}\"\n",
        "!wget --no-cache --quiet --backups=1 {url}\n",
        "print(\"Reading in python file from\",url)\n",
        "#exec(open(pyfile).read())\n",
        "# Run python file\n",
        "exec(open(pyfile).read())"
      ]
    },
    {
      "cell_type": "markdown",
      "metadata": {
        "id": "lwbY5z9jxDo7"
      },
      "source": [
        "## Step 1: Obtain Data\n",
        "The previous step read in a python file with the Obtain Data function presented in the notebook on [Sample Size and Confidence Intervals](https://github.com/npr99/PlanningMethods/blob/master/PLAN604_Population_vs_Sample_USCounties.ipynb) The block of code with the python functions needs to be run first and then the function can be called in future blocks of code."
      ]
    },
    {
      "cell_type": "markdown",
      "metadata": {
        "id": "0BnzQEKqWMeo"
      },
      "source": [
        "## Run Obtain Census API for 2012 and 2019 5-year ACS\n",
        "The next block of code calls the function and gets varaibles related to public transportation use. The code is called in a loop.\n",
        "\n",
        "For more variables see:\n",
        "\n",
        "https://www.census.gov/data/developers/data-sets/acs-5year.2012.html\n",
        "\n",
        "https://api.census.gov/data/2012/acs/acs5/subject/groups/S0801.html\n"
      ]
    },
    {
      "cell_type": "code",
      "execution_count": 3,
      "metadata": {
        "colab": {
          "base_uri": "https://localhost:8080/"
        },
        "id": "eLZuHLRYKITB",
        "outputId": "6d103d33-8fd8-4c69-dcb1-8f2312d62ac6"
      },
      "outputs": [
        {
          "name": "stdout",
          "output_type": "stream",
          "text": [
            "2012\n",
            "2013\n",
            "2014\n",
            "2015\n"
          ]
        }
      ],
      "source": [
        "# Loop example\n",
        "for year in ['2012','2013','2014','2015']:\n",
        "  print(year)"
      ]
    },
    {
      "cell_type": "code",
      "execution_count": 4,
      "metadata": {
        "colab": {
          "base_uri": "https://localhost:8080/"
        },
        "id": "82p1hk4JzLKi",
        "outputId": "5c31b2da-3c4d-4f04-e874-e99a6992b468"
      },
      "outputs": [
        {
          "ename": "NameError",
          "evalue": "name 'planning_methods' is not defined",
          "output_type": "error",
          "traceback": [
            "\u001b[1;31m---------------------------------------------------------------------------\u001b[0m",
            "\u001b[1;31mNameError\u001b[0m                                 Traceback (most recent call last)",
            "\u001b[1;32mg:\\My Drive\\MyCourses\\PLAN604\\github_com\\npr99\\PlanningMethods\\PLAN604_Comparison_of_two_proportions_tractlevel.ipynb Cell 8\u001b[0m in \u001b[0;36m<cell line: 1>\u001b[1;34m()\u001b[0m\n\u001b[1;32m----> <a href='vscode-notebook-cell:/g%3A/My%20Drive/MyCourses/PLAN604/github_com/npr99/PlanningMethods/PLAN604_Comparison_of_two_proportions_tractlevel.ipynb#X10sZmlsZQ%3D%3D?line=0'>1</a>\u001b[0m help(planning_methods)\n",
            "\u001b[1;31mNameError\u001b[0m: name 'planning_methods' is not defined"
          ]
        }
      ],
      "source": [
        "help(planning_methods)"
      ]
    },
    {
      "cell_type": "code",
      "execution_count": null,
      "metadata": {
        "colab": {
          "base_uri": "https://localhost:8080/"
        },
        "id": "7XVk-5GbUdke",
        "outputId": "5653a236-3923-4729-c255-36e90c542711"
      },
      "outputs": [
        {
          "name": "stdout",
          "output_type": "stream",
          "text": [
            "2012\n",
            "Census API data from: https://api.census.gov/data/2012/acs/acs5/subject?get=GEO_ID,NAME,S0801_C01_001E,S0801_C01_001M,S0801_C01_009E,S0801_C01_009M&in=state:48&in=county:*&for=tract:*\n",
            "2019\n",
            "Census API data from: https://api.census.gov/data/2019/acs/acs5/subject?get=GEO_ID,NAME,S0801_C01_001E,S0801_C01_001M,S0801_C01_009E,S0801_C01_009M&in=state:48&in=county:*&for=tract:*\n"
          ]
        }
      ],
      "source": [
        "# Create an empty \"container\" to store multiple ACS years for the data\n",
        "acs_df = {} \n",
        "\n",
        "dataset_name = 'acs/acs5/subject'\n",
        "vintages = ['2012','2019']\n",
        "get_vars = 'GEO_ID,NAME,S0801_C01_001E,S0801_C01_001M,S0801_C01_009E,S0801_C01_009M'\n",
        "state = '48'\n",
        "census_geography = 'tract:*'\n",
        "for vintage in vintages:\n",
        "  print(vintage)\n",
        "  acs_df[vintage] = planning_methods.obtain_census_api(get_vars = get_vars, \n",
        "                                                       state = state,\n",
        "                                                       census_geography = census_geography,\n",
        "                                                       dataset_name = dataset_name, \n",
        "                                                       vintage = vintage)"
      ]
    },
    {
      "cell_type": "code",
      "execution_count": null,
      "metadata": {
        "colab": {
          "base_uri": "https://localhost:8080/",
          "height": 204
        },
        "id": "YnFP7lUUKtSe",
        "outputId": "1346a24e-af37-4718-caa3-69115e8168c4"
      },
      "outputs": [
        {
          "data": {
            "text/html": [
              "<div>\n",
              "<style scoped>\n",
              "    .dataframe tbody tr th:only-of-type {\n",
              "        vertical-align: middle;\n",
              "    }\n",
              "\n",
              "    .dataframe tbody tr th {\n",
              "        vertical-align: top;\n",
              "    }\n",
              "\n",
              "    .dataframe thead th {\n",
              "        text-align: right;\n",
              "    }\n",
              "</style>\n",
              "<table border=\"1\" class=\"dataframe\">\n",
              "  <thead>\n",
              "    <tr style=\"text-align: right;\">\n",
              "      <th></th>\n",
              "      <th>GEO_ID</th>\n",
              "      <th>NAME</th>\n",
              "      <th>S0801_C01_001E</th>\n",
              "      <th>S0801_C01_001M</th>\n",
              "      <th>S0801_C01_009E</th>\n",
              "      <th>S0801_C01_009M</th>\n",
              "      <th>state</th>\n",
              "      <th>county</th>\n",
              "      <th>tract</th>\n",
              "    </tr>\n",
              "  </thead>\n",
              "  <tbody>\n",
              "    <tr>\n",
              "      <th>0</th>\n",
              "      <td>1400000US48113014132</td>\n",
              "      <td>Census Tract 141.32, Dallas County, Texas</td>\n",
              "      <td>1154</td>\n",
              "      <td>162</td>\n",
              "      <td>0.8</td>\n",
              "      <td>1.4</td>\n",
              "      <td>48</td>\n",
              "      <td>113</td>\n",
              "      <td>014132</td>\n",
              "    </tr>\n",
              "    <tr>\n",
              "      <th>1</th>\n",
              "      <td>1400000US48113014133</td>\n",
              "      <td>Census Tract 141.33, Dallas County, Texas</td>\n",
              "      <td>2610</td>\n",
              "      <td>340</td>\n",
              "      <td>4.4</td>\n",
              "      <td>3.3</td>\n",
              "      <td>48</td>\n",
              "      <td>113</td>\n",
              "      <td>014133</td>\n",
              "    </tr>\n",
              "    <tr>\n",
              "      <th>2</th>\n",
              "      <td>1400000US48113014134</td>\n",
              "      <td>Census Tract 141.34, Dallas County, Texas</td>\n",
              "      <td>1968</td>\n",
              "      <td>182</td>\n",
              "      <td>1.5</td>\n",
              "      <td>1.8</td>\n",
              "      <td>48</td>\n",
              "      <td>113</td>\n",
              "      <td>014134</td>\n",
              "    </tr>\n",
              "    <tr>\n",
              "      <th>3</th>\n",
              "      <td>1400000US48113014135</td>\n",
              "      <td>Census Tract 141.35, Dallas County, Texas</td>\n",
              "      <td>2201</td>\n",
              "      <td>224</td>\n",
              "      <td>0.6</td>\n",
              "      <td>0.9</td>\n",
              "      <td>48</td>\n",
              "      <td>113</td>\n",
              "      <td>014135</td>\n",
              "    </tr>\n",
              "    <tr>\n",
              "      <th>4</th>\n",
              "      <td>1400000US48113014136</td>\n",
              "      <td>Census Tract 141.36, Dallas County, Texas</td>\n",
              "      <td>3731</td>\n",
              "      <td>316</td>\n",
              "      <td>2.5</td>\n",
              "      <td>1.7</td>\n",
              "      <td>48</td>\n",
              "      <td>113</td>\n",
              "      <td>014136</td>\n",
              "    </tr>\n",
              "  </tbody>\n",
              "</table>\n",
              "</div>"
            ],
            "text/plain": [
              "                 GEO_ID  ...   tract\n",
              "0  1400000US48113014132  ...  014132\n",
              "1  1400000US48113014133  ...  014133\n",
              "2  1400000US48113014134  ...  014134\n",
              "3  1400000US48113014135  ...  014135\n",
              "4  1400000US48113014136  ...  014136\n",
              "\n",
              "[5 rows x 9 columns]"
            ]
          },
          "execution_count": 17,
          "metadata": {},
          "output_type": "execute_result"
        }
      ],
      "source": [
        "acs_df['2012'].head()"
      ]
    },
    {
      "cell_type": "code",
      "execution_count": null,
      "metadata": {
        "colab": {
          "base_uri": "https://localhost:8080/",
          "height": 204
        },
        "id": "7sDLtdyjKtCb",
        "outputId": "c3c1e545-1e77-4a5f-83b9-c0036edde971"
      },
      "outputs": [
        {
          "data": {
            "text/html": [
              "<div>\n",
              "<style scoped>\n",
              "    .dataframe tbody tr th:only-of-type {\n",
              "        vertical-align: middle;\n",
              "    }\n",
              "\n",
              "    .dataframe tbody tr th {\n",
              "        vertical-align: top;\n",
              "    }\n",
              "\n",
              "    .dataframe thead th {\n",
              "        text-align: right;\n",
              "    }\n",
              "</style>\n",
              "<table border=\"1\" class=\"dataframe\">\n",
              "  <thead>\n",
              "    <tr style=\"text-align: right;\">\n",
              "      <th></th>\n",
              "      <th>GEO_ID</th>\n",
              "      <th>NAME</th>\n",
              "      <th>S0801_C01_001E</th>\n",
              "      <th>S0801_C01_001M</th>\n",
              "      <th>S0801_C01_009E</th>\n",
              "      <th>S0801_C01_009M</th>\n",
              "      <th>state</th>\n",
              "      <th>county</th>\n",
              "      <th>tract</th>\n",
              "    </tr>\n",
              "  </thead>\n",
              "  <tbody>\n",
              "    <tr>\n",
              "      <th>0</th>\n",
              "      <td>1400000US48061013305</td>\n",
              "      <td>Census Tract 133.05, Cameron County, Texas</td>\n",
              "      <td>1871</td>\n",
              "      <td>297</td>\n",
              "      <td>0.0</td>\n",
              "      <td>2.2</td>\n",
              "      <td>48</td>\n",
              "      <td>061</td>\n",
              "      <td>013305</td>\n",
              "    </tr>\n",
              "    <tr>\n",
              "      <th>1</th>\n",
              "      <td>1400000US48061013309</td>\n",
              "      <td>Census Tract 133.09, Cameron County, Texas</td>\n",
              "      <td>883</td>\n",
              "      <td>139</td>\n",
              "      <td>0.5</td>\n",
              "      <td>0.9</td>\n",
              "      <td>48</td>\n",
              "      <td>061</td>\n",
              "      <td>013309</td>\n",
              "    </tr>\n",
              "    <tr>\n",
              "      <th>2</th>\n",
              "      <td>1400000US48061013402</td>\n",
              "      <td>Census Tract 134.02, Cameron County, Texas</td>\n",
              "      <td>699</td>\n",
              "      <td>156</td>\n",
              "      <td>6.6</td>\n",
              "      <td>5.9</td>\n",
              "      <td>48</td>\n",
              "      <td>061</td>\n",
              "      <td>013402</td>\n",
              "    </tr>\n",
              "    <tr>\n",
              "      <th>3</th>\n",
              "      <td>1400000US48061013500</td>\n",
              "      <td>Census Tract 135, Cameron County, Texas</td>\n",
              "      <td>722</td>\n",
              "      <td>152</td>\n",
              "      <td>0.0</td>\n",
              "      <td>5.7</td>\n",
              "      <td>48</td>\n",
              "      <td>061</td>\n",
              "      <td>013500</td>\n",
              "    </tr>\n",
              "    <tr>\n",
              "      <th>4</th>\n",
              "      <td>1400000US48061012613</td>\n",
              "      <td>Census Tract 126.13, Cameron County, Texas</td>\n",
              "      <td>2521</td>\n",
              "      <td>293</td>\n",
              "      <td>2.3</td>\n",
              "      <td>3.5</td>\n",
              "      <td>48</td>\n",
              "      <td>061</td>\n",
              "      <td>012613</td>\n",
              "    </tr>\n",
              "  </tbody>\n",
              "</table>\n",
              "</div>"
            ],
            "text/plain": [
              "                 GEO_ID  ...   tract\n",
              "0  1400000US48061013305  ...  013305\n",
              "1  1400000US48061013309  ...  013309\n",
              "2  1400000US48061013402  ...  013402\n",
              "3  1400000US48061013500  ...  013500\n",
              "4  1400000US48061012613  ...  012613\n",
              "\n",
              "[5 rows x 9 columns]"
            ]
          },
          "execution_count": 18,
          "metadata": {},
          "output_type": "execute_result"
        }
      ],
      "source": [
        "acs_df['2019'].head()"
      ]
    },
    {
      "cell_type": "markdown",
      "metadata": {
        "id": "tckJOdRRyN44"
      },
      "source": [
        "## Step 2: Clean Data\n",
        "Data cleaning is an important step in the data science process. This step is often the hardest and most time consuming. "
      ]
    },
    {
      "cell_type": "markdown",
      "metadata": {
        "id": "_uNWWSwgh_rK"
      },
      "source": [
        "### 2.1. Clean ACS Data\n",
        "#### 2.1.1 Make sure variable types are set correctly\n",
        "For the ACS data we have both population counts and precents. The percentage estiamtes are not integers - they are \"floats\" which refers the the decimal place that can float in the number between the integer and the fractional part. Here is more information on Python number types https://www.tutorialspoint.com/python/python_numbers.htm "
      ]
    },
    {
      "cell_type": "code",
      "execution_count": null,
      "metadata": {
        "colab": {
          "base_uri": "https://localhost:8080/"
        },
        "id": "7AM9v-To4ybj",
        "outputId": "324c3421-67dd-45cf-857c-10ae14043095"
      },
      "outputs": [
        {
          "name": "stdout",
          "output_type": "stream",
          "text": [
            "-999999999\n",
            "Number of sample cases is too small.\n",
            "-888888888\n",
            "Estimate is not applicable or not available.\n",
            "-666666666\n",
            "No sample observations or too few sample observations were available to compute an estimate.\n",
            "-555555555\n",
            "Estimate is controlled. A statistical test for sampling variability is not appropriate.\n",
            "-333333333\n",
            "Median falls in the lowest interval or upper interval of an open-ended distribution. A statistical test is not appropriate.\n",
            "-222222222\n",
            "No sample observations or too few sample observations were available to compute a standard error and thus the margin of error. A statistical test is not appropriate.\n"
          ]
        }
      ],
      "source": [
        "Annotation_values = {-999999999 : 'Number of sample cases is too small.',\n",
        "  -888888888 : 'Estimate is not applicable or not available.',\n",
        "  -666666666 : 'No sample observations or too few sample observations were available to compute an estimate.',\n",
        "  -555555555 : 'Estimate is controlled. A statistical test for sampling variability is not appropriate.',\n",
        "  -333333333 : 'Median falls in the lowest interval or upper interval of an open-ended distribution. A statistical test is not appropriate.',\n",
        "  -222222222 : 'No sample observations or too few sample observations were available to compute a standard error and thus the margin of error. A statistical test is not appropriate.'}\n",
        "\n",
        "for Annotation_value in Annotation_values:\n",
        "  print(Annotation_value)\n",
        "  print(Annotation_values[Annotation_value])"
      ]
    },
    {
      "cell_type": "code",
      "execution_count": null,
      "metadata": {
        "colab": {
          "base_uri": "https://localhost:8080/"
        },
        "id": "38oy4N0uayeJ",
        "outputId": "b80f4afb-a844-4fc3-b670-80a887a0404a"
      },
      "outputs": [
        {
          "name": "stdout",
          "output_type": "stream",
          "text": [
            "2012 Renameing GEO_ID  =  Geography Changing type to string\n",
            "2012 Renameing NAME  =  Geographic Area Name Changing type to string\n",
            "2012 Renameing S0801_C01_001E  =  Workers 16 years and over 2012 (Estimate) Changing type to int\n",
            "2012 Renameing S0801_C01_001M  =  Workers 16 years and over 2012 (MOE) Changing type to int\n",
            "2012 Renameing S0801_C01_009E  =  Public transportation (excluding taxicab) 2012 (Estimate) Changing type to float\n",
            "43 Observations have -666666666\n",
            "No sample observations or too few sample observations were available to compute an estimate.\n",
            "Replacing values with missing.\n",
            "2012 Renameing S0801_C01_009M  =  Public transportation (excluding taxicab) 2012 (MOE) Changing type to float\n",
            "43 Observations have -222222222\n",
            "No sample observations or too few sample observations were available to compute a standard error and thus the margin of error. A statistical test is not appropriate.\n",
            "Replacing values with missing.\n",
            "2019 Renameing GEO_ID  =  Geography Changing type to string\n",
            "2019 Renameing NAME  =  Geographic Area Name Changing type to string\n",
            "2019 Renameing S0801_C01_001E  =  Workers 16 years and over 2019 (Estimate) Changing type to int\n",
            "2019 Renameing S0801_C01_001M  =  Workers 16 years and over 2019 (MOE) Changing type to int\n",
            "2019 Renameing S0801_C01_009E  =  Public transportation (excluding taxicab) 2019 (Estimate) Changing type to float\n",
            "42 Observations have -666666666\n",
            "No sample observations or too few sample observations were available to compute an estimate.\n",
            "Replacing values with missing.\n",
            "2019 Renameing S0801_C01_009M  =  Public transportation (excluding taxicab) 2019 (MOE) Changing type to float\n",
            "42 Observations have -222222222\n",
            "No sample observations or too few sample observations were available to compute a standard error and thus the margin of error. A statistical test is not appropriate.\n",
            "Replacing values with missing.\n"
          ]
        }
      ],
      "source": [
        "import json \n",
        "\n",
        "for vintage in vintages:\n",
        "  for variable in get_vars.split(\",\"):\n",
        "    variable_metadata_hyperlink = (f'https://api.census.gov/data/{vintage}/{dataset_name}/variables/{variable}.json')\n",
        "    # Obtain Census API JSON Data\n",
        "    !wget --no-cache --quiet --backups=1 {variable_metadata_hyperlink}\n",
        "\n",
        "    with open(f\"{variable}.json\", \"r\") as rf:\n",
        "      variable_metadata = json.load(rf)\n",
        "\n",
        "    # Find the variable label \n",
        "    census_label_string = str(variable_metadata[\"label\"])\n",
        "    last_exclamation_point_position = census_label_string.rfind(\"!!\")\n",
        "    if last_exclamation_point_position >= 0:\n",
        "      last_exclamation_point_position = last_exclamation_point_position + 2\n",
        "    else:\n",
        "      last_exclamation_point_position = 0\n",
        "    label = census_label_string[last_exclamation_point_position:] \n",
        "\n",
        "    # Add vintage to label name (skip geo_id and name variables)\n",
        "    if variable not in ['GEO_ID','NAME']:\n",
        "      label_addvintage = label + f' {vintage}'\n",
        "    else:\n",
        "      label_addvintage = label\n",
        "\n",
        "    # Add estimate or Margin of Error to label\n",
        "    last_letter_of_variable = variable[-1]\n",
        "    if variable not in ['GEO_ID','NAME']:\n",
        "      if last_letter_of_variable == 'E':\n",
        "        label_addvintage_addtype = label_addvintage + ' (Estimate)'\n",
        "      if last_letter_of_variable == 'M':\n",
        "        label_addvintage_addtype = label_addvintage + ' (MOE)'\n",
        "    else:\n",
        "      label_addvintage_addtype = label_addvintage\n",
        "    print(vintage,\"Renameing\",variable,\" = \",label_addvintage_addtype,\"Changing type to\",variable_metadata[\"predicateType\"])\n",
        "\n",
        "    # Change variable type\n",
        "    acs_df[vintage][variable] = acs_df[vintage][variable].astype(variable_metadata[\"predicateType\"])\n",
        "\n",
        "    # Reset Estimates and MOE with Annotation Values\n",
        "    Annotation_values = {-999999999 : 'Number of sample cases is too small.',\n",
        "     -888888888 : 'Estimate is not applicable or not available.',\n",
        "     -666666666 : 'No sample observations or too few sample observations were available to compute an estimate.',\n",
        "     -555555555 : 'Estimate is controlled. A statistical test for sampling variability is not appropriate.',\n",
        "     -333333333 : 'Median falls in the lowest interval or upper interval of an open-ended distribution. A statistical test is not appropriate.',\n",
        "     -222222222 : 'No sample observations or too few sample observations were available to compute a standard error and thus the margin of error. A statistical test is not appropriate.'}\n",
        "\n",
        "    for Annotation_value in Annotation_values:\n",
        "      observations_with_annotation = len(acs_df[vintage].loc[(acs_df[vintage][variable] == Annotation_value)])\n",
        "      if observations_with_annotation > 0:\n",
        "        print(observations_with_annotation,\"Observations have\",Annotation_value)\n",
        "        print(Annotation_values[Annotation_value])\n",
        "        print('Replacing values with missing.')\n",
        "        acs_df[vintage].loc[(acs_df[vintage][variable] == Annotation_value), variable] = np.nan\n",
        "\n",
        "\n",
        "    acs_df[vintage] = acs_df[vintage].rename(columns={variable: label_addvintage_addtype}) \n",
        "\n",
        "\n"
      ]
    },
    {
      "cell_type": "markdown",
      "metadata": {
        "id": "K-Wdr-ATjcQW"
      },
      "source": [
        "#### 2.1.2 Use descriptive statistics to check cleaning\n",
        "A descriptive statistics table is a great way to check to make sure the variables have been created correctly."
      ]
    },
    {
      "cell_type": "code",
      "execution_count": null,
      "metadata": {
        "colab": {
          "base_uri": "https://localhost:8080/",
          "height": 99
        },
        "id": "rH_kXl4Eayho",
        "outputId": "f4dfcf2f-8458-4ab3-c709-5b12b5e07df1"
      },
      "outputs": [
        {
          "data": {
            "text/html": [
              "<style  type=\"text/css\" >\n",
              "#T_4487625e_2b69_11ec_8aff_0242ac1c0002row0_col0,#T_4487625e_2b69_11ec_8aff_0242ac1c0002row0_col1,#T_4487625e_2b69_11ec_8aff_0242ac1c0002row0_col2,#T_4487625e_2b69_11ec_8aff_0242ac1c0002row0_col3,#T_4487625e_2b69_11ec_8aff_0242ac1c0002row0_col4,#T_4487625e_2b69_11ec_8aff_0242ac1c0002row0_col5,#T_4487625e_2b69_11ec_8aff_0242ac1c0002row0_col6,#T_4487625e_2b69_11ec_8aff_0242ac1c0002row0_col7,#T_4487625e_2b69_11ec_8aff_0242ac1c0002row1_col0,#T_4487625e_2b69_11ec_8aff_0242ac1c0002row1_col1,#T_4487625e_2b69_11ec_8aff_0242ac1c0002row1_col2,#T_4487625e_2b69_11ec_8aff_0242ac1c0002row1_col3,#T_4487625e_2b69_11ec_8aff_0242ac1c0002row1_col4,#T_4487625e_2b69_11ec_8aff_0242ac1c0002row1_col5,#T_4487625e_2b69_11ec_8aff_0242ac1c0002row1_col6,#T_4487625e_2b69_11ec_8aff_0242ac1c0002row1_col7{\n",
              "            text-align:  right;\n",
              "        }</style><table id=\"T_4487625e_2b69_11ec_8aff_0242ac1c0002\" ><caption>Table 1. Descriptive statistics for variables by county, 2012 5-year ACS.</caption><thead>    <tr>        <th class=\"blank level0\" ></th>        <th class=\"col_heading level0 col0\" >count</th>        <th class=\"col_heading level0 col1\" >mean</th>        <th class=\"col_heading level0 col2\" >std</th>        <th class=\"col_heading level0 col3\" >min</th>        <th class=\"col_heading level0 col4\" >25%</th>        <th class=\"col_heading level0 col5\" >50%</th>        <th class=\"col_heading level0 col6\" >75%</th>        <th class=\"col_heading level0 col7\" >max</th>    </tr></thead><tbody>\n",
              "                <tr>\n",
              "                        <th id=\"T_4487625e_2b69_11ec_8aff_0242ac1c0002level0_row0\" class=\"row_heading level0 row0\" >Public transportation (excluding taxicab) 2012 (Estimate)</th>\n",
              "                        <td id=\"T_4487625e_2b69_11ec_8aff_0242ac1c0002row0_col0\" class=\"data row0 col0\" >5,222.00</td>\n",
              "                        <td id=\"T_4487625e_2b69_11ec_8aff_0242ac1c0002row0_col1\" class=\"data row0 col1\" >1.81</td>\n",
              "                        <td id=\"T_4487625e_2b69_11ec_8aff_0242ac1c0002row0_col2\" class=\"data row0 col2\" >3.39</td>\n",
              "                        <td id=\"T_4487625e_2b69_11ec_8aff_0242ac1c0002row0_col3\" class=\"data row0 col3\" >0.00</td>\n",
              "                        <td id=\"T_4487625e_2b69_11ec_8aff_0242ac1c0002row0_col4\" class=\"data row0 col4\" >0.00</td>\n",
              "                        <td id=\"T_4487625e_2b69_11ec_8aff_0242ac1c0002row0_col5\" class=\"data row0 col5\" >0.40</td>\n",
              "                        <td id=\"T_4487625e_2b69_11ec_8aff_0242ac1c0002row0_col6\" class=\"data row0 col6\" >2.10</td>\n",
              "                        <td id=\"T_4487625e_2b69_11ec_8aff_0242ac1c0002row0_col7\" class=\"data row0 col7\" >48.60</td>\n",
              "            </tr>\n",
              "            <tr>\n",
              "                        <th id=\"T_4487625e_2b69_11ec_8aff_0242ac1c0002level0_row1\" class=\"row_heading level0 row1\" >Public transportation (excluding taxicab) 2012 (MOE)</th>\n",
              "                        <td id=\"T_4487625e_2b69_11ec_8aff_0242ac1c0002row1_col0\" class=\"data row1 col0\" >5,222.00</td>\n",
              "                        <td id=\"T_4487625e_2b69_11ec_8aff_0242ac1c0002row1_col1\" class=\"data row1 col1\" >2.71</td>\n",
              "                        <td id=\"T_4487625e_2b69_11ec_8aff_0242ac1c0002row1_col2\" class=\"data row1 col2\" >3.55</td>\n",
              "                        <td id=\"T_4487625e_2b69_11ec_8aff_0242ac1c0002row1_col3\" class=\"data row1 col3\" >0.10</td>\n",
              "                        <td id=\"T_4487625e_2b69_11ec_8aff_0242ac1c0002row1_col4\" class=\"data row1 col4\" >1.30</td>\n",
              "                        <td id=\"T_4487625e_2b69_11ec_8aff_0242ac1c0002row1_col5\" class=\"data row1 col5\" >2.00</td>\n",
              "                        <td id=\"T_4487625e_2b69_11ec_8aff_0242ac1c0002row1_col6\" class=\"data row1 col6\" >3.20</td>\n",
              "                        <td id=\"T_4487625e_2b69_11ec_8aff_0242ac1c0002row1_col7\" class=\"data row1 col7\" >100.00</td>\n",
              "            </tr>\n",
              "    </tbody></table>"
            ],
            "text/plain": [
              "<pandas.io.formats.style.Styler at 0x7f96ac908f50>"
            ]
          },
          "execution_count": 41,
          "metadata": {},
          "output_type": "execute_result"
        }
      ],
      "source": [
        "float_col_list = list(acs_df['2012'].select_dtypes(include=['float']).columns)\n",
        "table1 = acs_df['2012'][float_col_list].describe().T\n",
        "varformat = \"{:,.2f}\" # The variable format adds a comma and rounds up\n",
        "table_title = \"Table 1. Descriptive statistics for variables by county, 2012 5-year ACS.\"\n",
        "table1 = table1.style.set_caption(table_title).format(varformat).set_properties(**{'text-align': 'right'})\n",
        "table1"
      ]
    },
    {
      "cell_type": "code",
      "execution_count": null,
      "metadata": {
        "colab": {
          "base_uri": "https://localhost:8080/",
          "height": 99
        },
        "id": "_3i_unltW9Hj",
        "outputId": "c204715a-6e03-4312-b7b7-5f000f76eb08"
      },
      "outputs": [
        {
          "data": {
            "text/html": [
              "<style  type=\"text/css\" >\n",
              "#T_47957eae_2b69_11ec_8aff_0242ac1c0002row0_col0,#T_47957eae_2b69_11ec_8aff_0242ac1c0002row0_col1,#T_47957eae_2b69_11ec_8aff_0242ac1c0002row0_col2,#T_47957eae_2b69_11ec_8aff_0242ac1c0002row0_col3,#T_47957eae_2b69_11ec_8aff_0242ac1c0002row0_col4,#T_47957eae_2b69_11ec_8aff_0242ac1c0002row0_col5,#T_47957eae_2b69_11ec_8aff_0242ac1c0002row0_col6,#T_47957eae_2b69_11ec_8aff_0242ac1c0002row0_col7,#T_47957eae_2b69_11ec_8aff_0242ac1c0002row1_col0,#T_47957eae_2b69_11ec_8aff_0242ac1c0002row1_col1,#T_47957eae_2b69_11ec_8aff_0242ac1c0002row1_col2,#T_47957eae_2b69_11ec_8aff_0242ac1c0002row1_col3,#T_47957eae_2b69_11ec_8aff_0242ac1c0002row1_col4,#T_47957eae_2b69_11ec_8aff_0242ac1c0002row1_col5,#T_47957eae_2b69_11ec_8aff_0242ac1c0002row1_col6,#T_47957eae_2b69_11ec_8aff_0242ac1c0002row1_col7{\n",
              "            text-align:  right;\n",
              "        }</style><table id=\"T_47957eae_2b69_11ec_8aff_0242ac1c0002\" ><caption>Table 2. Descriptive statistics for variables by county, 2019 5-year ACS.</caption><thead>    <tr>        <th class=\"blank level0\" ></th>        <th class=\"col_heading level0 col0\" >count</th>        <th class=\"col_heading level0 col1\" >mean</th>        <th class=\"col_heading level0 col2\" >std</th>        <th class=\"col_heading level0 col3\" >min</th>        <th class=\"col_heading level0 col4\" >25%</th>        <th class=\"col_heading level0 col5\" >50%</th>        <th class=\"col_heading level0 col6\" >75%</th>        <th class=\"col_heading level0 col7\" >max</th>    </tr></thead><tbody>\n",
              "                <tr>\n",
              "                        <th id=\"T_47957eae_2b69_11ec_8aff_0242ac1c0002level0_row0\" class=\"row_heading level0 row0\" >Public transportation (excluding taxicab) 2019 (Estimate)</th>\n",
              "                        <td id=\"T_47957eae_2b69_11ec_8aff_0242ac1c0002row0_col0\" class=\"data row0 col0\" >5,223.00</td>\n",
              "                        <td id=\"T_47957eae_2b69_11ec_8aff_0242ac1c0002row0_col1\" class=\"data row0 col1\" >1.49</td>\n",
              "                        <td id=\"T_47957eae_2b69_11ec_8aff_0242ac1c0002row0_col2\" class=\"data row0 col2\" >2.92</td>\n",
              "                        <td id=\"T_47957eae_2b69_11ec_8aff_0242ac1c0002row0_col3\" class=\"data row0 col3\" >0.00</td>\n",
              "                        <td id=\"T_47957eae_2b69_11ec_8aff_0242ac1c0002row0_col4\" class=\"data row0 col4\" >0.00</td>\n",
              "                        <td id=\"T_47957eae_2b69_11ec_8aff_0242ac1c0002row0_col5\" class=\"data row0 col5\" >0.40</td>\n",
              "                        <td id=\"T_47957eae_2b69_11ec_8aff_0242ac1c0002row0_col6\" class=\"data row0 col6\" >1.80</td>\n",
              "                        <td id=\"T_47957eae_2b69_11ec_8aff_0242ac1c0002row0_col7\" class=\"data row0 col7\" >70.00</td>\n",
              "            </tr>\n",
              "            <tr>\n",
              "                        <th id=\"T_47957eae_2b69_11ec_8aff_0242ac1c0002level0_row1\" class=\"row_heading level0 row1\" >Public transportation (excluding taxicab) 2019 (MOE)</th>\n",
              "                        <td id=\"T_47957eae_2b69_11ec_8aff_0242ac1c0002row1_col0\" class=\"data row1 col0\" >5,223.00</td>\n",
              "                        <td id=\"T_47957eae_2b69_11ec_8aff_0242ac1c0002row1_col1\" class=\"data row1 col1\" >2.62</td>\n",
              "                        <td id=\"T_47957eae_2b69_11ec_8aff_0242ac1c0002row1_col2\" class=\"data row1 col2\" >4.02</td>\n",
              "                        <td id=\"T_47957eae_2b69_11ec_8aff_0242ac1c0002row1_col3\" class=\"data row1 col3\" >0.10</td>\n",
              "                        <td id=\"T_47957eae_2b69_11ec_8aff_0242ac1c0002row1_col4\" class=\"data row1 col4\" >1.20</td>\n",
              "                        <td id=\"T_47957eae_2b69_11ec_8aff_0242ac1c0002row1_col5\" class=\"data row1 col5\" >1.90</td>\n",
              "                        <td id=\"T_47957eae_2b69_11ec_8aff_0242ac1c0002row1_col6\" class=\"data row1 col6\" >3.10</td>\n",
              "                        <td id=\"T_47957eae_2b69_11ec_8aff_0242ac1c0002row1_col7\" class=\"data row1 col7\" >100.00</td>\n",
              "            </tr>\n",
              "    </tbody></table>"
            ],
            "text/plain": [
              "<pandas.io.formats.style.Styler at 0x7f96abb59110>"
            ]
          },
          "execution_count": 42,
          "metadata": {},
          "output_type": "execute_result"
        }
      ],
      "source": [
        "float_col_list = list(acs_df['2019'].select_dtypes(include=['float']).columns)\n",
        "table2 = acs_df['2019'][float_col_list].describe().T\n",
        "varformat = \"{:,.2f}\" # The variable format adds a comma and rounds up\n",
        "table_title = \"Table 2. Descriptive statistics for variables by county, 2019 5-year ACS.\"\n",
        "table2 = table2.style.set_caption(table_title).format(varformat).set_properties(**{'text-align': 'right'})\n",
        "table2"
      ]
    },
    {
      "cell_type": "markdown",
      "metadata": {
        "id": "i1EAKmFmyk5J"
      },
      "source": [
        "## Step 3: Merge Data together\n",
        "Merging data together is a powerful tool in data science workflows. Merge data refers to combining data that represent the same unit of analysis. In this example all three datasets represent counties in the US. Each dataframe has a common variable called GEO_ID which uniquely identifies the counties.\n",
        "\n",
        "Here is a good overview of data merging in python:\n",
        "https://towardsdatascience.com/why-and-how-to-use-merge-with-pandas-in-python-548600f7e738"
      ]
    },
    {
      "cell_type": "markdown",
      "metadata": {
        "id": "vmgLuIi6otsX"
      },
      "source": [
        "### 3.1 - Merge Part 1 - Combine ACS Data"
      ]
    },
    {
      "cell_type": "code",
      "execution_count": null,
      "metadata": {
        "colab": {
          "base_uri": "https://localhost:8080/",
          "height": 204
        },
        "id": "rcg3Wo9to1Sj",
        "outputId": "f2ccf74f-197a-42de-dbb1-48c11904209c"
      },
      "outputs": [
        {
          "data": {
            "text/html": [
              "<div>\n",
              "<style scoped>\n",
              "    .dataframe tbody tr th:only-of-type {\n",
              "        vertical-align: middle;\n",
              "    }\n",
              "\n",
              "    .dataframe tbody tr th {\n",
              "        vertical-align: top;\n",
              "    }\n",
              "\n",
              "    .dataframe thead th {\n",
              "        text-align: right;\n",
              "    }\n",
              "</style>\n",
              "<table border=\"1\" class=\"dataframe\">\n",
              "  <thead>\n",
              "    <tr style=\"text-align: right;\">\n",
              "      <th></th>\n",
              "      <th>Geography</th>\n",
              "      <th>Geographic Area Name</th>\n",
              "      <th>Workers 16 years and over 2012 (Estimate)</th>\n",
              "      <th>Workers 16 years and over 2012 (MOE)</th>\n",
              "      <th>Public transportation (excluding taxicab) 2012 (Estimate)</th>\n",
              "      <th>Public transportation (excluding taxicab) 2012 (MOE)</th>\n",
              "      <th>state</th>\n",
              "      <th>county</th>\n",
              "      <th>tract</th>\n",
              "    </tr>\n",
              "  </thead>\n",
              "  <tbody>\n",
              "    <tr>\n",
              "      <th>0</th>\n",
              "      <td>1400000US48113014132</td>\n",
              "      <td>Census Tract 141.32, Dallas County, Texas</td>\n",
              "      <td>1154</td>\n",
              "      <td>162</td>\n",
              "      <td>0.8</td>\n",
              "      <td>1.4</td>\n",
              "      <td>48</td>\n",
              "      <td>113</td>\n",
              "      <td>014132</td>\n",
              "    </tr>\n",
              "    <tr>\n",
              "      <th>1</th>\n",
              "      <td>1400000US48113014133</td>\n",
              "      <td>Census Tract 141.33, Dallas County, Texas</td>\n",
              "      <td>2610</td>\n",
              "      <td>340</td>\n",
              "      <td>4.4</td>\n",
              "      <td>3.3</td>\n",
              "      <td>48</td>\n",
              "      <td>113</td>\n",
              "      <td>014133</td>\n",
              "    </tr>\n",
              "    <tr>\n",
              "      <th>2</th>\n",
              "      <td>1400000US48113014134</td>\n",
              "      <td>Census Tract 141.34, Dallas County, Texas</td>\n",
              "      <td>1968</td>\n",
              "      <td>182</td>\n",
              "      <td>1.5</td>\n",
              "      <td>1.8</td>\n",
              "      <td>48</td>\n",
              "      <td>113</td>\n",
              "      <td>014134</td>\n",
              "    </tr>\n",
              "    <tr>\n",
              "      <th>3</th>\n",
              "      <td>1400000US48113014135</td>\n",
              "      <td>Census Tract 141.35, Dallas County, Texas</td>\n",
              "      <td>2201</td>\n",
              "      <td>224</td>\n",
              "      <td>0.6</td>\n",
              "      <td>0.9</td>\n",
              "      <td>48</td>\n",
              "      <td>113</td>\n",
              "      <td>014135</td>\n",
              "    </tr>\n",
              "    <tr>\n",
              "      <th>4</th>\n",
              "      <td>1400000US48113014136</td>\n",
              "      <td>Census Tract 141.36, Dallas County, Texas</td>\n",
              "      <td>3731</td>\n",
              "      <td>316</td>\n",
              "      <td>2.5</td>\n",
              "      <td>1.7</td>\n",
              "      <td>48</td>\n",
              "      <td>113</td>\n",
              "      <td>014136</td>\n",
              "    </tr>\n",
              "  </tbody>\n",
              "</table>\n",
              "</div>"
            ],
            "text/plain": [
              "              Geography  ...   tract\n",
              "0  1400000US48113014132  ...  014132\n",
              "1  1400000US48113014133  ...  014133\n",
              "2  1400000US48113014134  ...  014134\n",
              "3  1400000US48113014135  ...  014135\n",
              "4  1400000US48113014136  ...  014136\n",
              "\n",
              "[5 rows x 9 columns]"
            ]
          },
          "execution_count": 43,
          "metadata": {},
          "output_type": "execute_result"
        }
      ],
      "source": [
        "acs_df['2012'].head()"
      ]
    },
    {
      "cell_type": "code",
      "execution_count": null,
      "metadata": {
        "colab": {
          "base_uri": "https://localhost:8080/",
          "height": 289
        },
        "id": "1sTUBFDPo1mu",
        "outputId": "5b1074cb-04a2-4a2b-ab45-f6c04a8ba6b9"
      },
      "outputs": [
        {
          "data": {
            "text/html": [
              "<div>\n",
              "<style scoped>\n",
              "    .dataframe tbody tr th:only-of-type {\n",
              "        vertical-align: middle;\n",
              "    }\n",
              "\n",
              "    .dataframe tbody tr th {\n",
              "        vertical-align: top;\n",
              "    }\n",
              "\n",
              "    .dataframe thead th {\n",
              "        text-align: right;\n",
              "    }\n",
              "</style>\n",
              "<table border=\"1\" class=\"dataframe\">\n",
              "  <thead>\n",
              "    <tr style=\"text-align: right;\">\n",
              "      <th></th>\n",
              "      <th>Geography</th>\n",
              "      <th>Geographic Area Name</th>\n",
              "      <th>Workers 16 years and over 2019 (Estimate)</th>\n",
              "      <th>Workers 16 years and over 2019 (MOE)</th>\n",
              "      <th>Public transportation (excluding taxicab) 2019 (Estimate)</th>\n",
              "      <th>Public transportation (excluding taxicab) 2019 (MOE)</th>\n",
              "      <th>state</th>\n",
              "      <th>county</th>\n",
              "      <th>tract</th>\n",
              "    </tr>\n",
              "  </thead>\n",
              "  <tbody>\n",
              "    <tr>\n",
              "      <th>0</th>\n",
              "      <td>1400000US48061013305</td>\n",
              "      <td>Census Tract 133.05, Cameron County, Texas</td>\n",
              "      <td>1871</td>\n",
              "      <td>297</td>\n",
              "      <td>0.0</td>\n",
              "      <td>2.2</td>\n",
              "      <td>48</td>\n",
              "      <td>061</td>\n",
              "      <td>013305</td>\n",
              "    </tr>\n",
              "    <tr>\n",
              "      <th>1</th>\n",
              "      <td>1400000US48061013309</td>\n",
              "      <td>Census Tract 133.09, Cameron County, Texas</td>\n",
              "      <td>883</td>\n",
              "      <td>139</td>\n",
              "      <td>0.5</td>\n",
              "      <td>0.9</td>\n",
              "      <td>48</td>\n",
              "      <td>061</td>\n",
              "      <td>013309</td>\n",
              "    </tr>\n",
              "    <tr>\n",
              "      <th>2</th>\n",
              "      <td>1400000US48061013402</td>\n",
              "      <td>Census Tract 134.02, Cameron County, Texas</td>\n",
              "      <td>699</td>\n",
              "      <td>156</td>\n",
              "      <td>6.6</td>\n",
              "      <td>5.9</td>\n",
              "      <td>48</td>\n",
              "      <td>061</td>\n",
              "      <td>013402</td>\n",
              "    </tr>\n",
              "    <tr>\n",
              "      <th>3</th>\n",
              "      <td>1400000US48061013500</td>\n",
              "      <td>Census Tract 135, Cameron County, Texas</td>\n",
              "      <td>722</td>\n",
              "      <td>152</td>\n",
              "      <td>0.0</td>\n",
              "      <td>5.7</td>\n",
              "      <td>48</td>\n",
              "      <td>061</td>\n",
              "      <td>013500</td>\n",
              "    </tr>\n",
              "    <tr>\n",
              "      <th>4</th>\n",
              "      <td>1400000US48061012613</td>\n",
              "      <td>Census Tract 126.13, Cameron County, Texas</td>\n",
              "      <td>2521</td>\n",
              "      <td>293</td>\n",
              "      <td>2.3</td>\n",
              "      <td>3.5</td>\n",
              "      <td>48</td>\n",
              "      <td>061</td>\n",
              "      <td>012613</td>\n",
              "    </tr>\n",
              "  </tbody>\n",
              "</table>\n",
              "</div>"
            ],
            "text/plain": [
              "              Geography  ...   tract\n",
              "0  1400000US48061013305  ...  013305\n",
              "1  1400000US48061013309  ...  013309\n",
              "2  1400000US48061013402  ...  013402\n",
              "3  1400000US48061013500  ...  013500\n",
              "4  1400000US48061012613  ...  012613\n",
              "\n",
              "[5 rows x 9 columns]"
            ]
          },
          "execution_count": 44,
          "metadata": {},
          "output_type": "execute_result"
        }
      ],
      "source": [
        "acs_df['2019'].head()"
      ]
    },
    {
      "cell_type": "code",
      "execution_count": null,
      "metadata": {
        "colab": {
          "base_uri": "https://localhost:8080/",
          "height": 408
        },
        "id": "-SccRvo6oYw7",
        "outputId": "29d80c92-ebb4-4342-ac6b-c8ef6b4cf686"
      },
      "outputs": [
        {
          "data": {
            "text/html": [
              "<div>\n",
              "<style scoped>\n",
              "    .dataframe tbody tr th:only-of-type {\n",
              "        vertical-align: middle;\n",
              "    }\n",
              "\n",
              "    .dataframe tbody tr th {\n",
              "        vertical-align: top;\n",
              "    }\n",
              "\n",
              "    .dataframe thead th {\n",
              "        text-align: right;\n",
              "    }\n",
              "</style>\n",
              "<table border=\"1\" class=\"dataframe\">\n",
              "  <thead>\n",
              "    <tr style=\"text-align: right;\">\n",
              "      <th></th>\n",
              "      <th>Geography</th>\n",
              "      <th>Geographic Area Name</th>\n",
              "      <th>Workers 16 years and over 2012 (Estimate)</th>\n",
              "      <th>Workers 16 years and over 2012 (MOE)</th>\n",
              "      <th>Public transportation (excluding taxicab) 2012 (Estimate)</th>\n",
              "      <th>Public transportation (excluding taxicab) 2012 (MOE)</th>\n",
              "      <th>state_x</th>\n",
              "      <th>county_x</th>\n",
              "      <th>tract_x</th>\n",
              "      <th>Workers 16 years and over 2019 (Estimate)</th>\n",
              "      <th>Workers 16 years and over 2019 (MOE)</th>\n",
              "      <th>Public transportation (excluding taxicab) 2019 (Estimate)</th>\n",
              "      <th>Public transportation (excluding taxicab) 2019 (MOE)</th>\n",
              "      <th>state_y</th>\n",
              "      <th>county_y</th>\n",
              "      <th>tract_y</th>\n",
              "    </tr>\n",
              "  </thead>\n",
              "  <tbody>\n",
              "    <tr>\n",
              "      <th>0</th>\n",
              "      <td>1400000US48113014132</td>\n",
              "      <td>Census Tract 141.32, Dallas County, Texas</td>\n",
              "      <td>1154</td>\n",
              "      <td>162</td>\n",
              "      <td>0.8</td>\n",
              "      <td>1.4</td>\n",
              "      <td>48</td>\n",
              "      <td>113</td>\n",
              "      <td>014132</td>\n",
              "      <td>1293</td>\n",
              "      <td>165</td>\n",
              "      <td>0.9</td>\n",
              "      <td>1.3</td>\n",
              "      <td>48</td>\n",
              "      <td>113</td>\n",
              "      <td>014132</td>\n",
              "    </tr>\n",
              "    <tr>\n",
              "      <th>1</th>\n",
              "      <td>1400000US48113014133</td>\n",
              "      <td>Census Tract 141.33, Dallas County, Texas</td>\n",
              "      <td>2610</td>\n",
              "      <td>340</td>\n",
              "      <td>4.4</td>\n",
              "      <td>3.3</td>\n",
              "      <td>48</td>\n",
              "      <td>113</td>\n",
              "      <td>014133</td>\n",
              "      <td>3442</td>\n",
              "      <td>297</td>\n",
              "      <td>2.9</td>\n",
              "      <td>1.8</td>\n",
              "      <td>48</td>\n",
              "      <td>113</td>\n",
              "      <td>014133</td>\n",
              "    </tr>\n",
              "    <tr>\n",
              "      <th>2</th>\n",
              "      <td>1400000US48113014134</td>\n",
              "      <td>Census Tract 141.34, Dallas County, Texas</td>\n",
              "      <td>1968</td>\n",
              "      <td>182</td>\n",
              "      <td>1.5</td>\n",
              "      <td>1.8</td>\n",
              "      <td>48</td>\n",
              "      <td>113</td>\n",
              "      <td>014134</td>\n",
              "      <td>2239</td>\n",
              "      <td>178</td>\n",
              "      <td>0.5</td>\n",
              "      <td>0.8</td>\n",
              "      <td>48</td>\n",
              "      <td>113</td>\n",
              "      <td>014134</td>\n",
              "    </tr>\n",
              "    <tr>\n",
              "      <th>3</th>\n",
              "      <td>1400000US48113014135</td>\n",
              "      <td>Census Tract 141.35, Dallas County, Texas</td>\n",
              "      <td>2201</td>\n",
              "      <td>224</td>\n",
              "      <td>0.6</td>\n",
              "      <td>0.9</td>\n",
              "      <td>48</td>\n",
              "      <td>113</td>\n",
              "      <td>014135</td>\n",
              "      <td>2506</td>\n",
              "      <td>193</td>\n",
              "      <td>0.0</td>\n",
              "      <td>1.7</td>\n",
              "      <td>48</td>\n",
              "      <td>113</td>\n",
              "      <td>014135</td>\n",
              "    </tr>\n",
              "    <tr>\n",
              "      <th>4</th>\n",
              "      <td>1400000US48113014136</td>\n",
              "      <td>Census Tract 141.36, Dallas County, Texas</td>\n",
              "      <td>3731</td>\n",
              "      <td>316</td>\n",
              "      <td>2.5</td>\n",
              "      <td>1.7</td>\n",
              "      <td>48</td>\n",
              "      <td>113</td>\n",
              "      <td>014136</td>\n",
              "      <td>3908</td>\n",
              "      <td>318</td>\n",
              "      <td>1.7</td>\n",
              "      <td>2.3</td>\n",
              "      <td>48</td>\n",
              "      <td>113</td>\n",
              "      <td>014136</td>\n",
              "    </tr>\n",
              "  </tbody>\n",
              "</table>\n",
              "</div>"
            ],
            "text/plain": [
              "              Geography  ... tract_y\n",
              "0  1400000US48113014132  ...  014132\n",
              "1  1400000US48113014133  ...  014133\n",
              "2  1400000US48113014134  ...  014134\n",
              "3  1400000US48113014135  ...  014135\n",
              "4  1400000US48113014136  ...  014136\n",
              "\n",
              "[5 rows x 16 columns]"
            ]
          },
          "execution_count": 45,
          "metadata": {},
          "output_type": "execute_result"
        }
      ],
      "source": [
        "merge_df = pd.merge(left = acs_df['2012'],\n",
        "                    right = acs_df['2019'],\n",
        "                    left_on = ['Geography','Geographic Area Name'],\n",
        "                    right_on = ['Geography','Geographic Area Name'],\n",
        "                    how = 'inner')\n",
        "merge_df.head()"
      ]
    },
    {
      "cell_type": "code",
      "execution_count": null,
      "metadata": {
        "colab": {
          "base_uri": "https://localhost:8080/",
          "height": 141
        },
        "id": "GTnjDizMXi5C",
        "outputId": "b1b679d8-497b-440f-a969-fd2eceab859c"
      },
      "outputs": [
        {
          "data": {
            "text/html": [
              "<style  type=\"text/css\" >\n",
              "#T_4ec5fbb8_2b69_11ec_8aff_0242ac1c0002row0_col0,#T_4ec5fbb8_2b69_11ec_8aff_0242ac1c0002row0_col1,#T_4ec5fbb8_2b69_11ec_8aff_0242ac1c0002row0_col2,#T_4ec5fbb8_2b69_11ec_8aff_0242ac1c0002row0_col3,#T_4ec5fbb8_2b69_11ec_8aff_0242ac1c0002row0_col4,#T_4ec5fbb8_2b69_11ec_8aff_0242ac1c0002row0_col5,#T_4ec5fbb8_2b69_11ec_8aff_0242ac1c0002row0_col6,#T_4ec5fbb8_2b69_11ec_8aff_0242ac1c0002row0_col7,#T_4ec5fbb8_2b69_11ec_8aff_0242ac1c0002row1_col0,#T_4ec5fbb8_2b69_11ec_8aff_0242ac1c0002row1_col1,#T_4ec5fbb8_2b69_11ec_8aff_0242ac1c0002row1_col2,#T_4ec5fbb8_2b69_11ec_8aff_0242ac1c0002row1_col3,#T_4ec5fbb8_2b69_11ec_8aff_0242ac1c0002row1_col4,#T_4ec5fbb8_2b69_11ec_8aff_0242ac1c0002row1_col5,#T_4ec5fbb8_2b69_11ec_8aff_0242ac1c0002row1_col6,#T_4ec5fbb8_2b69_11ec_8aff_0242ac1c0002row1_col7,#T_4ec5fbb8_2b69_11ec_8aff_0242ac1c0002row2_col0,#T_4ec5fbb8_2b69_11ec_8aff_0242ac1c0002row2_col1,#T_4ec5fbb8_2b69_11ec_8aff_0242ac1c0002row2_col2,#T_4ec5fbb8_2b69_11ec_8aff_0242ac1c0002row2_col3,#T_4ec5fbb8_2b69_11ec_8aff_0242ac1c0002row2_col4,#T_4ec5fbb8_2b69_11ec_8aff_0242ac1c0002row2_col5,#T_4ec5fbb8_2b69_11ec_8aff_0242ac1c0002row2_col6,#T_4ec5fbb8_2b69_11ec_8aff_0242ac1c0002row2_col7,#T_4ec5fbb8_2b69_11ec_8aff_0242ac1c0002row3_col0,#T_4ec5fbb8_2b69_11ec_8aff_0242ac1c0002row3_col1,#T_4ec5fbb8_2b69_11ec_8aff_0242ac1c0002row3_col2,#T_4ec5fbb8_2b69_11ec_8aff_0242ac1c0002row3_col3,#T_4ec5fbb8_2b69_11ec_8aff_0242ac1c0002row3_col4,#T_4ec5fbb8_2b69_11ec_8aff_0242ac1c0002row3_col5,#T_4ec5fbb8_2b69_11ec_8aff_0242ac1c0002row3_col6,#T_4ec5fbb8_2b69_11ec_8aff_0242ac1c0002row3_col7{\n",
              "            text-align:  right;\n",
              "        }</style><table id=\"T_4ec5fbb8_2b69_11ec_8aff_0242ac1c0002\" ><caption>Table 3. Descriptive statistics for variables by county, 2012 & 2019 5-year ACS.</caption><thead>    <tr>        <th class=\"blank level0\" ></th>        <th class=\"col_heading level0 col0\" >count</th>        <th class=\"col_heading level0 col1\" >mean</th>        <th class=\"col_heading level0 col2\" >std</th>        <th class=\"col_heading level0 col3\" >min</th>        <th class=\"col_heading level0 col4\" >25%</th>        <th class=\"col_heading level0 col5\" >50%</th>        <th class=\"col_heading level0 col6\" >75%</th>        <th class=\"col_heading level0 col7\" >max</th>    </tr></thead><tbody>\n",
              "                <tr>\n",
              "                        <th id=\"T_4ec5fbb8_2b69_11ec_8aff_0242ac1c0002level0_row0\" class=\"row_heading level0 row0\" >Public transportation (excluding taxicab) 2012 (Estimate)</th>\n",
              "                        <td id=\"T_4ec5fbb8_2b69_11ec_8aff_0242ac1c0002row0_col0\" class=\"data row0 col0\" >5,222.00</td>\n",
              "                        <td id=\"T_4ec5fbb8_2b69_11ec_8aff_0242ac1c0002row0_col1\" class=\"data row0 col1\" >1.81</td>\n",
              "                        <td id=\"T_4ec5fbb8_2b69_11ec_8aff_0242ac1c0002row0_col2\" class=\"data row0 col2\" >3.39</td>\n",
              "                        <td id=\"T_4ec5fbb8_2b69_11ec_8aff_0242ac1c0002row0_col3\" class=\"data row0 col3\" >0.00</td>\n",
              "                        <td id=\"T_4ec5fbb8_2b69_11ec_8aff_0242ac1c0002row0_col4\" class=\"data row0 col4\" >0.00</td>\n",
              "                        <td id=\"T_4ec5fbb8_2b69_11ec_8aff_0242ac1c0002row0_col5\" class=\"data row0 col5\" >0.40</td>\n",
              "                        <td id=\"T_4ec5fbb8_2b69_11ec_8aff_0242ac1c0002row0_col6\" class=\"data row0 col6\" >2.10</td>\n",
              "                        <td id=\"T_4ec5fbb8_2b69_11ec_8aff_0242ac1c0002row0_col7\" class=\"data row0 col7\" >48.60</td>\n",
              "            </tr>\n",
              "            <tr>\n",
              "                        <th id=\"T_4ec5fbb8_2b69_11ec_8aff_0242ac1c0002level0_row1\" class=\"row_heading level0 row1\" >Public transportation (excluding taxicab) 2012 (MOE)</th>\n",
              "                        <td id=\"T_4ec5fbb8_2b69_11ec_8aff_0242ac1c0002row1_col0\" class=\"data row1 col0\" >5,222.00</td>\n",
              "                        <td id=\"T_4ec5fbb8_2b69_11ec_8aff_0242ac1c0002row1_col1\" class=\"data row1 col1\" >2.71</td>\n",
              "                        <td id=\"T_4ec5fbb8_2b69_11ec_8aff_0242ac1c0002row1_col2\" class=\"data row1 col2\" >3.55</td>\n",
              "                        <td id=\"T_4ec5fbb8_2b69_11ec_8aff_0242ac1c0002row1_col3\" class=\"data row1 col3\" >0.10</td>\n",
              "                        <td id=\"T_4ec5fbb8_2b69_11ec_8aff_0242ac1c0002row1_col4\" class=\"data row1 col4\" >1.30</td>\n",
              "                        <td id=\"T_4ec5fbb8_2b69_11ec_8aff_0242ac1c0002row1_col5\" class=\"data row1 col5\" >2.00</td>\n",
              "                        <td id=\"T_4ec5fbb8_2b69_11ec_8aff_0242ac1c0002row1_col6\" class=\"data row1 col6\" >3.20</td>\n",
              "                        <td id=\"T_4ec5fbb8_2b69_11ec_8aff_0242ac1c0002row1_col7\" class=\"data row1 col7\" >100.00</td>\n",
              "            </tr>\n",
              "            <tr>\n",
              "                        <th id=\"T_4ec5fbb8_2b69_11ec_8aff_0242ac1c0002level0_row2\" class=\"row_heading level0 row2\" >Public transportation (excluding taxicab) 2019 (Estimate)</th>\n",
              "                        <td id=\"T_4ec5fbb8_2b69_11ec_8aff_0242ac1c0002row2_col0\" class=\"data row2 col0\" >5,223.00</td>\n",
              "                        <td id=\"T_4ec5fbb8_2b69_11ec_8aff_0242ac1c0002row2_col1\" class=\"data row2 col1\" >1.49</td>\n",
              "                        <td id=\"T_4ec5fbb8_2b69_11ec_8aff_0242ac1c0002row2_col2\" class=\"data row2 col2\" >2.92</td>\n",
              "                        <td id=\"T_4ec5fbb8_2b69_11ec_8aff_0242ac1c0002row2_col3\" class=\"data row2 col3\" >0.00</td>\n",
              "                        <td id=\"T_4ec5fbb8_2b69_11ec_8aff_0242ac1c0002row2_col4\" class=\"data row2 col4\" >0.00</td>\n",
              "                        <td id=\"T_4ec5fbb8_2b69_11ec_8aff_0242ac1c0002row2_col5\" class=\"data row2 col5\" >0.40</td>\n",
              "                        <td id=\"T_4ec5fbb8_2b69_11ec_8aff_0242ac1c0002row2_col6\" class=\"data row2 col6\" >1.80</td>\n",
              "                        <td id=\"T_4ec5fbb8_2b69_11ec_8aff_0242ac1c0002row2_col7\" class=\"data row2 col7\" >70.00</td>\n",
              "            </tr>\n",
              "            <tr>\n",
              "                        <th id=\"T_4ec5fbb8_2b69_11ec_8aff_0242ac1c0002level0_row3\" class=\"row_heading level0 row3\" >Public transportation (excluding taxicab) 2019 (MOE)</th>\n",
              "                        <td id=\"T_4ec5fbb8_2b69_11ec_8aff_0242ac1c0002row3_col0\" class=\"data row3 col0\" >5,223.00</td>\n",
              "                        <td id=\"T_4ec5fbb8_2b69_11ec_8aff_0242ac1c0002row3_col1\" class=\"data row3 col1\" >2.62</td>\n",
              "                        <td id=\"T_4ec5fbb8_2b69_11ec_8aff_0242ac1c0002row3_col2\" class=\"data row3 col2\" >4.02</td>\n",
              "                        <td id=\"T_4ec5fbb8_2b69_11ec_8aff_0242ac1c0002row3_col3\" class=\"data row3 col3\" >0.10</td>\n",
              "                        <td id=\"T_4ec5fbb8_2b69_11ec_8aff_0242ac1c0002row3_col4\" class=\"data row3 col4\" >1.20</td>\n",
              "                        <td id=\"T_4ec5fbb8_2b69_11ec_8aff_0242ac1c0002row3_col5\" class=\"data row3 col5\" >1.90</td>\n",
              "                        <td id=\"T_4ec5fbb8_2b69_11ec_8aff_0242ac1c0002row3_col6\" class=\"data row3 col6\" >3.10</td>\n",
              "                        <td id=\"T_4ec5fbb8_2b69_11ec_8aff_0242ac1c0002row3_col7\" class=\"data row3 col7\" >100.00</td>\n",
              "            </tr>\n",
              "    </tbody></table>"
            ],
            "text/plain": [
              "<pandas.io.formats.style.Styler at 0x7f96abb41bd0>"
            ]
          },
          "execution_count": 46,
          "metadata": {},
          "output_type": "execute_result"
        }
      ],
      "source": [
        "float_col_list = list(merge_df.select_dtypes(include=['float']).columns)\n",
        "table3 = merge_df[float_col_list].describe().T\n",
        "varformat = \"{:,.2f}\" # The variable format adds a comma and rounds up\n",
        "table_title = \"Table 3. Descriptive statistics for variables by county, 2012 & 2019 5-year ACS.\"\n",
        "table3 = table3.style.set_caption(table_title).format(varformat).set_properties(**{'text-align': 'right'})\n",
        "table3"
      ]
    },
    {
      "cell_type": "markdown",
      "metadata": {
        "id": "3q0qFN6opdyS"
      },
      "source": [
        "### 3.3 Clean Up Merge File\n",
        "Notice that the merge file has several columns (variables) that have repeated information. All three datafiles had a column called `name`. The name column is a good way to see that the merge has worked correctly. In this step we will also rename the columns."
      ]
    },
    {
      "cell_type": "markdown",
      "metadata": {
        "id": "vnIMKNioYKds"
      },
      "source": [
        "### 3.3.1 Remove repeated columns"
      ]
    },
    {
      "cell_type": "code",
      "execution_count": null,
      "metadata": {
        "colab": {
          "base_uri": "https://localhost:8080/",
          "height": 323
        },
        "id": "UtkICtZfrmLJ",
        "outputId": "9b2dcaf6-bb7c-40b1-c67f-5947e772fe5d"
      },
      "outputs": [
        {
          "data": {
            "text/html": [
              "<div>\n",
              "<style scoped>\n",
              "    .dataframe tbody tr th:only-of-type {\n",
              "        vertical-align: middle;\n",
              "    }\n",
              "\n",
              "    .dataframe tbody tr th {\n",
              "        vertical-align: top;\n",
              "    }\n",
              "\n",
              "    .dataframe thead th {\n",
              "        text-align: right;\n",
              "    }\n",
              "</style>\n",
              "<table border=\"1\" class=\"dataframe\">\n",
              "  <thead>\n",
              "    <tr style=\"text-align: right;\">\n",
              "      <th></th>\n",
              "      <th>Geography</th>\n",
              "      <th>Geographic Area Name</th>\n",
              "      <th>Workers 16 years and over 2012 (Estimate)</th>\n",
              "      <th>Workers 16 years and over 2012 (MOE)</th>\n",
              "      <th>Public transportation (excluding taxicab) 2012 (Estimate)</th>\n",
              "      <th>Public transportation (excluding taxicab) 2012 (MOE)</th>\n",
              "      <th>state_x</th>\n",
              "      <th>county_x</th>\n",
              "      <th>tract_x</th>\n",
              "      <th>Workers 16 years and over 2019 (Estimate)</th>\n",
              "      <th>Workers 16 years and over 2019 (MOE)</th>\n",
              "      <th>Public transportation (excluding taxicab) 2019 (Estimate)</th>\n",
              "      <th>Public transportation (excluding taxicab) 2019 (MOE)</th>\n",
              "      <th>tract_y</th>\n",
              "    </tr>\n",
              "  </thead>\n",
              "  <tbody>\n",
              "    <tr>\n",
              "      <th>0</th>\n",
              "      <td>1400000US48113014132</td>\n",
              "      <td>Census Tract 141.32, Dallas County, Texas</td>\n",
              "      <td>1154</td>\n",
              "      <td>162</td>\n",
              "      <td>0.8</td>\n",
              "      <td>1.4</td>\n",
              "      <td>48</td>\n",
              "      <td>113</td>\n",
              "      <td>014132</td>\n",
              "      <td>1293</td>\n",
              "      <td>165</td>\n",
              "      <td>0.9</td>\n",
              "      <td>1.3</td>\n",
              "      <td>014132</td>\n",
              "    </tr>\n",
              "    <tr>\n",
              "      <th>1</th>\n",
              "      <td>1400000US48113014133</td>\n",
              "      <td>Census Tract 141.33, Dallas County, Texas</td>\n",
              "      <td>2610</td>\n",
              "      <td>340</td>\n",
              "      <td>4.4</td>\n",
              "      <td>3.3</td>\n",
              "      <td>48</td>\n",
              "      <td>113</td>\n",
              "      <td>014133</td>\n",
              "      <td>3442</td>\n",
              "      <td>297</td>\n",
              "      <td>2.9</td>\n",
              "      <td>1.8</td>\n",
              "      <td>014133</td>\n",
              "    </tr>\n",
              "    <tr>\n",
              "      <th>2</th>\n",
              "      <td>1400000US48113014134</td>\n",
              "      <td>Census Tract 141.34, Dallas County, Texas</td>\n",
              "      <td>1968</td>\n",
              "      <td>182</td>\n",
              "      <td>1.5</td>\n",
              "      <td>1.8</td>\n",
              "      <td>48</td>\n",
              "      <td>113</td>\n",
              "      <td>014134</td>\n",
              "      <td>2239</td>\n",
              "      <td>178</td>\n",
              "      <td>0.5</td>\n",
              "      <td>0.8</td>\n",
              "      <td>014134</td>\n",
              "    </tr>\n",
              "    <tr>\n",
              "      <th>3</th>\n",
              "      <td>1400000US48113014135</td>\n",
              "      <td>Census Tract 141.35, Dallas County, Texas</td>\n",
              "      <td>2201</td>\n",
              "      <td>224</td>\n",
              "      <td>0.6</td>\n",
              "      <td>0.9</td>\n",
              "      <td>48</td>\n",
              "      <td>113</td>\n",
              "      <td>014135</td>\n",
              "      <td>2506</td>\n",
              "      <td>193</td>\n",
              "      <td>0.0</td>\n",
              "      <td>1.7</td>\n",
              "      <td>014135</td>\n",
              "    </tr>\n",
              "    <tr>\n",
              "      <th>4</th>\n",
              "      <td>1400000US48113014136</td>\n",
              "      <td>Census Tract 141.36, Dallas County, Texas</td>\n",
              "      <td>3731</td>\n",
              "      <td>316</td>\n",
              "      <td>2.5</td>\n",
              "      <td>1.7</td>\n",
              "      <td>48</td>\n",
              "      <td>113</td>\n",
              "      <td>014136</td>\n",
              "      <td>3908</td>\n",
              "      <td>318</td>\n",
              "      <td>1.7</td>\n",
              "      <td>2.3</td>\n",
              "      <td>014136</td>\n",
              "    </tr>\n",
              "  </tbody>\n",
              "</table>\n",
              "</div>"
            ],
            "text/plain": [
              "              Geography  ... tract_y\n",
              "0  1400000US48113014132  ...  014132\n",
              "1  1400000US48113014133  ...  014133\n",
              "2  1400000US48113014134  ...  014134\n",
              "3  1400000US48113014135  ...  014135\n",
              "4  1400000US48113014136  ...  014136\n",
              "\n",
              "[5 rows x 14 columns]"
            ]
          },
          "execution_count": 47,
          "metadata": {},
          "output_type": "execute_result"
        }
      ],
      "source": [
        "## The state and county columns also match - we can drop the repeated columns\n",
        "merge_df = merge_df.drop(['state_y','county_y'], axis = 1)\n",
        "merge_df.head()"
      ]
    },
    {
      "cell_type": "markdown",
      "metadata": {
        "id": "Fqp0Ji4yYF4s"
      },
      "source": [
        "### 3.3.2 Add new variable\n",
        "Add difference between ACS statiscs"
      ]
    },
    {
      "cell_type": "code",
      "execution_count": null,
      "metadata": {
        "colab": {
          "base_uri": "https://localhost:8080/"
        },
        "id": "K0kUJd26YFVC",
        "outputId": "4b31358d-5b01-4ba5-cd0d-2dd3b699bcb9"
      },
      "outputs": [
        {
          "data": {
            "text/plain": [
              "count    5220.000000\n",
              "mean       -0.311839\n",
              "std         2.712545\n",
              "min       -23.000000\n",
              "25%        -0.800000\n",
              "50%         0.000000\n",
              "75%         0.400000\n",
              "max        51.000000\n",
              "Name: Difference between Percents, dtype: float64"
            ]
          },
          "execution_count": 48,
          "metadata": {},
          "output_type": "execute_result"
        }
      ],
      "source": [
        "percent1 = 'Public transportation (excluding taxicab) 2019 (Estimate)'\n",
        "percent2 = 'Public transportation (excluding taxicab) 2012 (Estimate)'\n",
        "merge_df.loc[:,'Difference between Percents'] = (merge_df[percent1]) - (merge_df[percent2])\n",
        "merge_df['Difference between Percents'].describe()"
      ]
    },
    {
      "cell_type": "markdown",
      "metadata": {
        "id": "t4vgRLTiagNe"
      },
      "source": [
        "Add standard error for the pooled estimate"
      ]
    },
    {
      "cell_type": "code",
      "execution_count": null,
      "metadata": {
        "colab": {
          "base_uri": "https://localhost:8080/"
        },
        "id": "Sra6lKdKYFLC",
        "outputId": "7c0e253f-1ce0-489a-f6fe-abcb8ebdbc7c"
      },
      "outputs": [
        {
          "data": {
            "text/plain": [
              "count    5220.000000\n",
              "mean        0.652009\n",
              "std         0.488344\n",
              "min         0.012702\n",
              "25%         0.354584\n",
              "50%         0.553273\n",
              "75%         0.817660\n",
              "max        11.631907\n",
              "Name: Difference Standard Error, dtype: float64"
            ]
          },
          "execution_count": 49,
          "metadata": {},
          "output_type": "execute_result"
        }
      ],
      "source": [
        "moe1 = 'Public transportation (excluding taxicab) 2019 (MOE)'\n",
        "moe2 = 'Public transportation (excluding taxicab) 2012 (MOE)'\n",
        "census_critical_value = 1.645\n",
        "merge_df.loc[:,'Standard Error 1'] = (merge_df[moe1])/census_critical_value\n",
        "merge_df.loc[:,'Standard Error 2'] = (merge_df[moe2])/census_critical_value\n",
        "merge_df.loc[:,'Difference Standard Error'] = (merge_df['Standard Error 1']**2 + merge_df['Standard Error 2']**2)**(1/2)\n",
        "merge_df['Difference Standard Error'].describe()"
      ]
    },
    {
      "cell_type": "markdown",
      "metadata": {
        "id": "LpiNRVTGdRRH"
      },
      "source": [
        "Add test statistic for difference"
      ]
    },
    {
      "cell_type": "code",
      "execution_count": null,
      "metadata": {
        "colab": {
          "base_uri": "https://localhost:8080/"
        },
        "id": "dCQZgzKndQyZ",
        "outputId": "8e5f6d5f-d4a6-4d55-89cc-805cbb80dd01"
      },
      "outputs": [
        {
          "data": {
            "text/plain": [
              "count    5220.000000\n",
              "mean        5.840989\n",
              "std        41.656448\n",
              "min         0.000000\n",
              "25%         0.000000\n",
              "50%         0.770617\n",
              "75%         3.443979\n",
              "max      2053.062289\n",
              "Name: Test Statistic, dtype: float64"
            ]
          },
          "execution_count": 50,
          "metadata": {},
          "output_type": "execute_result"
        }
      ],
      "source": [
        "merge_df.loc[:,'Test Statistic'] = abs(merge_df['Difference between Percents'] / merge_df['Difference Standard Error'])\n",
        "merge_df['Test Statistic'].describe()"
      ]
    },
    {
      "cell_type": "markdown",
      "metadata": {
        "id": "pZSllxtht4A5"
      },
      "source": [
        "## Step 4: Explore Data\n",
        "### 4.1 - Which Census Geographies had significant changes?"
      ]
    },
    {
      "cell_type": "code",
      "execution_count": null,
      "metadata": {
        "colab": {
          "base_uri": "https://localhost:8080/",
          "height": 637
        },
        "id": "Yd0U_0R8AvYY",
        "outputId": "baab3d01-92a9-4564-f9cc-f35a2b75a660"
      },
      "outputs": [
        {
          "data": {
            "text/html": [
              "<div>\n",
              "<style scoped>\n",
              "    .dataframe tbody tr th:only-of-type {\n",
              "        vertical-align: middle;\n",
              "    }\n",
              "\n",
              "    .dataframe tbody tr th {\n",
              "        vertical-align: top;\n",
              "    }\n",
              "\n",
              "    .dataframe thead th {\n",
              "        text-align: right;\n",
              "    }\n",
              "</style>\n",
              "<table border=\"1\" class=\"dataframe\">\n",
              "  <thead>\n",
              "    <tr style=\"text-align: right;\">\n",
              "      <th></th>\n",
              "      <th>Geography</th>\n",
              "      <th>Geographic Area Name</th>\n",
              "      <th>Workers 16 years and over 2012 (Estimate)</th>\n",
              "      <th>Workers 16 years and over 2012 (MOE)</th>\n",
              "      <th>Public transportation (excluding taxicab) 2012 (Estimate)</th>\n",
              "      <th>Public transportation (excluding taxicab) 2012 (MOE)</th>\n",
              "      <th>state_x</th>\n",
              "      <th>county_x</th>\n",
              "      <th>tract_x</th>\n",
              "      <th>Workers 16 years and over 2019 (Estimate)</th>\n",
              "      <th>Workers 16 years and over 2019 (MOE)</th>\n",
              "      <th>Public transportation (excluding taxicab) 2019 (Estimate)</th>\n",
              "      <th>Public transportation (excluding taxicab) 2019 (MOE)</th>\n",
              "      <th>tract_y</th>\n",
              "      <th>Difference between Percents</th>\n",
              "      <th>Standard Error 1</th>\n",
              "      <th>Standard Error 2</th>\n",
              "      <th>Difference Standard Error</th>\n",
              "      <th>Test Statistic</th>\n",
              "    </tr>\n",
              "  </thead>\n",
              "  <tbody>\n",
              "    <tr>\n",
              "      <th>1312</th>\n",
              "      <td>1400000US48201314002</td>\n",
              "      <td>Census Tract 3140.02, Harris County, Texas</td>\n",
              "      <td>4328</td>\n",
              "      <td>541</td>\n",
              "      <td>16.8</td>\n",
              "      <td>5.1</td>\n",
              "      <td>48</td>\n",
              "      <td>201</td>\n",
              "      <td>314002</td>\n",
              "      <td>4247</td>\n",
              "      <td>571</td>\n",
              "      <td>28.4</td>\n",
              "      <td>7.9</td>\n",
              "      <td>314002</td>\n",
              "      <td>11.6</td>\n",
              "      <td>4.802432</td>\n",
              "      <td>3.100304</td>\n",
              "      <td>0.174941</td>\n",
              "      <td>66.308216</td>\n",
              "    </tr>\n",
              "    <tr>\n",
              "      <th>4808</th>\n",
              "      <td>1400000US48201452700</td>\n",
              "      <td>Census Tract 4527, Harris County, Texas</td>\n",
              "      <td>4968</td>\n",
              "      <td>660</td>\n",
              "      <td>1.5</td>\n",
              "      <td>1.3</td>\n",
              "      <td>48</td>\n",
              "      <td>201</td>\n",
              "      <td>452700</td>\n",
              "      <td>6260</td>\n",
              "      <td>649</td>\n",
              "      <td>6.6</td>\n",
              "      <td>3.6</td>\n",
              "      <td>452700</td>\n",
              "      <td>5.1</td>\n",
              "      <td>2.188450</td>\n",
              "      <td>0.790274</td>\n",
              "      <td>0.429781</td>\n",
              "      <td>11.866512</td>\n",
              "    </tr>\n",
              "    <tr>\n",
              "      <th>3840</th>\n",
              "      <td>1400000US48201452100</td>\n",
              "      <td>Census Tract 4521, Harris County, Texas</td>\n",
              "      <td>4398</td>\n",
              "      <td>626</td>\n",
              "      <td>0.8</td>\n",
              "      <td>0.9</td>\n",
              "      <td>48</td>\n",
              "      <td>201</td>\n",
              "      <td>452100</td>\n",
              "      <td>5718</td>\n",
              "      <td>939</td>\n",
              "      <td>5.8</td>\n",
              "      <td>5.6</td>\n",
              "      <td>452100</td>\n",
              "      <td>5.0</td>\n",
              "      <td>3.404255</td>\n",
              "      <td>0.547112</td>\n",
              "      <td>0.290028</td>\n",
              "      <td>17.239697</td>\n",
              "    </tr>\n",
              "    <tr>\n",
              "      <th>4494</th>\n",
              "      <td>1400000US48201533400</td>\n",
              "      <td>Census Tract 5334, Harris County, Texas</td>\n",
              "      <td>4135</td>\n",
              "      <td>531</td>\n",
              "      <td>0.0</td>\n",
              "      <td>0.9</td>\n",
              "      <td>48</td>\n",
              "      <td>201</td>\n",
              "      <td>533400</td>\n",
              "      <td>4596</td>\n",
              "      <td>648</td>\n",
              "      <td>3.9</td>\n",
              "      <td>2.5</td>\n",
              "      <td>533400</td>\n",
              "      <td>3.9</td>\n",
              "      <td>1.519757</td>\n",
              "      <td>0.547112</td>\n",
              "      <td>0.619104</td>\n",
              "      <td>6.299427</td>\n",
              "    </tr>\n",
              "    <tr>\n",
              "      <th>2022</th>\n",
              "      <td>1400000US48201541003</td>\n",
              "      <td>Census Tract 5410.03, Harris County, Texas</td>\n",
              "      <td>7058</td>\n",
              "      <td>425</td>\n",
              "      <td>0.2</td>\n",
              "      <td>0.4</td>\n",
              "      <td>48</td>\n",
              "      <td>201</td>\n",
              "      <td>541003</td>\n",
              "      <td>7033</td>\n",
              "      <td>818</td>\n",
              "      <td>3.1</td>\n",
              "      <td>2.1</td>\n",
              "      <td>541003</td>\n",
              "      <td>2.9</td>\n",
              "      <td>1.276596</td>\n",
              "      <td>0.243161</td>\n",
              "      <td>0.769499</td>\n",
              "      <td>3.768688</td>\n",
              "    </tr>\n",
              "    <tr>\n",
              "      <th>5224</th>\n",
              "      <td>1400000US48201510900</td>\n",
              "      <td>Census Tract 5109, Harris County, Texas</td>\n",
              "      <td>4145</td>\n",
              "      <td>516</td>\n",
              "      <td>1.0</td>\n",
              "      <td>1.6</td>\n",
              "      <td>48</td>\n",
              "      <td>201</td>\n",
              "      <td>510900</td>\n",
              "      <td>5475</td>\n",
              "      <td>532</td>\n",
              "      <td>3.3</td>\n",
              "      <td>2.9</td>\n",
              "      <td>510900</td>\n",
              "      <td>2.3</td>\n",
              "      <td>1.762918</td>\n",
              "      <td>0.972644</td>\n",
              "      <td>0.496664</td>\n",
              "      <td>4.630898</td>\n",
              "    </tr>\n",
              "    <tr>\n",
              "      <th>2212</th>\n",
              "      <td>1400000US48201240902</td>\n",
              "      <td>Census Tract 2409.02, Harris County, Texas</td>\n",
              "      <td>5359</td>\n",
              "      <td>599</td>\n",
              "      <td>0.5</td>\n",
              "      <td>0.7</td>\n",
              "      <td>48</td>\n",
              "      <td>201</td>\n",
              "      <td>240902</td>\n",
              "      <td>7826</td>\n",
              "      <td>726</td>\n",
              "      <td>2.7</td>\n",
              "      <td>2.7</td>\n",
              "      <td>240902</td>\n",
              "      <td>2.2</td>\n",
              "      <td>1.641337</td>\n",
              "      <td>0.425532</td>\n",
              "      <td>0.589761</td>\n",
              "      <td>3.730324</td>\n",
              "    </tr>\n",
              "    <tr>\n",
              "      <th>958</th>\n",
              "      <td>1400000US48201552800</td>\n",
              "      <td>Census Tract 5528, Harris County, Texas</td>\n",
              "      <td>4208</td>\n",
              "      <td>356</td>\n",
              "      <td>2.4</td>\n",
              "      <td>1.7</td>\n",
              "      <td>48</td>\n",
              "      <td>201</td>\n",
              "      <td>552800</td>\n",
              "      <td>4950</td>\n",
              "      <td>574</td>\n",
              "      <td>4.5</td>\n",
              "      <td>4.2</td>\n",
              "      <td>552800</td>\n",
              "      <td>2.1</td>\n",
              "      <td>2.553191</td>\n",
              "      <td>1.033435</td>\n",
              "      <td>0.363054</td>\n",
              "      <td>5.784261</td>\n",
              "    </tr>\n",
              "  </tbody>\n",
              "</table>\n",
              "</div>"
            ],
            "text/plain": [
              "                 Geography  ... Test Statistic\n",
              "1312  1400000US48201314002  ...      66.308216\n",
              "4808  1400000US48201452700  ...      11.866512\n",
              "3840  1400000US48201452100  ...      17.239697\n",
              "4494  1400000US48201533400  ...       6.299427\n",
              "2022  1400000US48201541003  ...       3.768688\n",
              "5224  1400000US48201510900  ...       4.630898\n",
              "2212  1400000US48201240902  ...       3.730324\n",
              "958   1400000US48201552800  ...       5.784261\n",
              "\n",
              "[8 rows x 19 columns]"
            ]
          },
          "execution_count": 61,
          "metadata": {},
          "output_type": "execute_result"
        }
      ],
      "source": [
        "merge_df = merge_df.sort_values(by=['Difference between Percents'], ascending=False)\n",
        "merge_df.loc[(merge_df['Workers 16 years and over 2012 (Estimate)'] > 4000) &\n",
        "             (merge_df['Difference between Percents'] > 0) &\n",
        "             (merge_df['county_x'] == '201') &\n",
        "             (merge_df['Test Statistic'] >= 3)]"
      ]
    },
    {
      "cell_type": "markdown",
      "metadata": {
        "id": "IlYkUuukGV8k"
      },
      "source": [
        "## Harris County Census Tracts with Increased Public Transportation Ridership\n",
        "\n",
        "### Census Tract 3140.02, Harris County, Texas\n",
        "\n",
        "Public Transportation Use increased from 16.8% to 28.4%.\t\n",
        "\n",
        "https://censusreporter.org/profiles/14000US48201314002-census-tract-314002-harris-tx/\n",
        "\n",
        "[Houston METRO Rail](https://www.google.com/maps/d/viewer?gl=US&ie=UTF8&oe=UTF8&msa=0&mid=1dMDkiFbcozP0fuPtpukqRqVqouQ&ll=29.789473695260714%2C-95.49515840510855&z=13)  had extensive expansion between 2008 and 2019. With new stations added in the area of Census Tract 3140.02.\n",
        "\n",
        "### Census Tract 5334, Harris County, Texas\t\n",
        "\n",
        "Public Transportation Use increased from 0% to 3.9%.\n",
        "\n",
        "https://censusreporter.org/profiles/14000US48201533400-census-tract-5334-harris-tx/ \n",
        "\n",
        "Houston METRO has [Acres Home Transit Center](https://www.ridemetro.org/pages/TC-AcresHomes.aspx) in Census Tract 5334.  \n",
        "\n",
        "Acres Homes area of Houston has a long history with providing public transportation to a historically African-American Community. \n",
        "https://www.tshaonline.org/handbook/entries/acres-homes-transit-company \n",
        "\n",
        "The transit center appears to have minimal ammeneties - a bathroom and some sheltered waiting areas.\n",
        "\n",
        "https://foursquare.com/v/metro-acres-homes-transit-center/4db479e893a017099dd9ce35\n",
        "\n",
        "https://en.wikipedia.org/wiki/Acres_Homes,_Houston\n",
        "\n",
        "### Census Tract 4521, Harris County, Texas\t\n",
        "\n",
        "Public Transportation Use increased from 0.8% to 5.8%.\n",
        "\n",
        "https://censusreporter.org/profiles/14000US48201452100-census-tract-4521-harris-tx/\n",
        "\n",
        "Census Tract includes multiple bus routes, is a mile from the [Mission Bend Transit Center](https://www.ridemetro.org/pages/TC-MissionBend.aspx) and appears to have significant empolyement areas."
      ]
    }
  ],
  "metadata": {
    "colab": {
      "authorship_tag": "ABX9TyPWARXnS6c1Z60xD7omcrmW",
      "collapsed_sections": [],
      "include_colab_link": true,
      "name": "PLAN604_Comparison_of_two_proportions_tractlevel",
      "provenance": []
    },
    "kernelspec": {
      "display_name": "Python 3.8.13 ('pyincoreEnv20220411')",
      "language": "python",
      "name": "python3"
    },
    "language_info": {
      "codemirror_mode": {
        "name": "ipython",
        "version": 3
      },
      "file_extension": ".py",
      "mimetype": "text/x-python",
      "name": "python",
      "nbconvert_exporter": "python",
      "pygments_lexer": "ipython3",
      "version": "3.8.13"
    },
    "vscode": {
      "interpreter": {
        "hash": "3cf6804b2d1d6b39ed9a23bc16482fea2e83abf2b56c0f3b16ad590816ac7680"
      }
    }
  },
  "nbformat": 4,
  "nbformat_minor": 0
}
